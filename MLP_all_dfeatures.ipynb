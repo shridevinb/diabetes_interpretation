{
 "cells": [
  {
   "cell_type": "markdown",
   "metadata": {},
   "source": [
    "### Multilayer perceptron"
   ]
  },
  {
   "cell_type": "code",
   "execution_count": 1,
   "metadata": {},
   "outputs": [],
   "source": [
    "import pandas as pd\n"
   ]
  },
  {
   "cell_type": "code",
   "execution_count": 2,
   "metadata": {},
   "outputs": [],
   "source": [
    "# SMOTE balancing technique is applied\n",
    "from imblearn.over_sampling import SMOTE\n",
    "# Importing test_train_split from sklearn library\n",
    "from sklearn.model_selection import train_test_split"
   ]
  },
  {
   "cell_type": "code",
   "execution_count": 3,
   "metadata": {},
   "outputs": [],
   "source": [
    "#import matplotlib.pyplot as plt\n",
    "import tensorflow as tf"
   ]
  },
  {
   "cell_type": "code",
   "execution_count": 4,
   "metadata": {},
   "outputs": [],
   "source": [
    "# Read the dataset\n",
    "data = pd.read_csv(\"./data_all_dfeatures.csv\")"
   ]
  },
  {
   "cell_type": "code",
   "execution_count": 5,
   "metadata": {},
   "outputs": [],
   "source": [
    "# get the predictors and target variable from dataset\n",
    "X = data.drop('readmitted', axis=1)\n",
    "y = data['readmitted']\n",
    "oversample = SMOTE()\n",
    "\n",
    "# Splitting the data into train and test\n",
    "X_train, X_test, y_train, y_test = train_test_split(X, y, test_size=0.20, random_state=101, stratify=y)\n",
    "X_train, y_train = oversample.fit_resample(X_train, y_train)"
   ]
  },
  {
   "cell_type": "code",
   "execution_count": 6,
   "metadata": {},
   "outputs": [],
   "source": [
    "from tensorflow.keras.layers import Dense,Input,Activation,Dropout\n",
    "from tensorflow.keras import Model\n",
    "from tensorflow.keras import Sequential\n",
    "import random as rn\n",
    "from sklearn.metrics import roc_auc_score, precision_score, recall_score\n",
    "import datetime"
   ]
  },
  {
   "cell_type": "code",
   "execution_count": 7,
   "metadata": {},
   "outputs": [],
   "source": [
    "num_classes = 2"
   ]
  },
  {
   "cell_type": "code",
   "execution_count": 8,
   "metadata": {},
   "outputs": [],
   "source": [
    "from tensorflow.keras.layers import PReLU"
   ]
  },
  {
   "cell_type": "code",
   "execution_count": 15,
   "metadata": {},
   "outputs": [],
   "source": [
    "optimizer = tf.keras.optimizers.Adam(learning_rate=0.01, name='Adam')\n",
    "def create_model4():\n",
    "    initializer = tf.keras.initializers.he_uniform(seed=15)\n",
    "    \n",
    "    model = Sequential([\n",
    "        Input(shape=(130,), name='input_layer'),\n",
    "        Dense(64, kernel_initializer=initializer, name='dense_layer1'),\n",
    "        PReLU(),\n",
    "        Dropout(rate=0.15, name='drop_out1'),\n",
    "        Dense(1, activation='sigmoid', kernel_initializer=initializer, name='output_layer'),\n",
    "        \n",
    "    ])\n",
    "    return model"
   ]
  },
  {
   "cell_type": "code",
   "execution_count": 16,
   "metadata": {},
   "outputs": [
    {
     "name": "stdout",
     "output_type": "stream",
     "text": [
      "Model: \"sequential_2\"\n",
      "_________________________________________________________________\n",
      "Layer (type)                 Output Shape              Param #   \n",
      "=================================================================\n",
      "dense_layer1 (Dense)         (None, 64)                8384      \n",
      "_________________________________________________________________\n",
      "p_re_lu_2 (PReLU)            (None, 64)                64        \n",
      "_________________________________________________________________\n",
      "drop_out1 (Dropout)          (None, 64)                0         \n",
      "_________________________________________________________________\n",
      "output_layer (Dense)         (None, 1)                 65        \n",
      "=================================================================\n",
      "Total params: 8,513\n",
      "Trainable params: 8,513\n",
      "Non-trainable params: 0\n",
      "_________________________________________________________________\n"
     ]
    }
   ],
   "source": [
    "model4 = create_model4()\n",
    "model4.compile(optimizer=optimizer,\n",
    "              loss='mse',\n",
    "              metrics=['accuracy'])\n",
    "model4.summary()"
   ]
  },
  {
   "cell_type": "code",
   "execution_count": 17,
   "metadata": {},
   "outputs": [
    {
     "name": "stdout",
     "output_type": "stream",
     "text": [
      "WARNING:tensorflow:Falling back from v2 loop because of error: Failed to find data adapter that can handle input: <class 'pandas.core.frame.DataFrame'>, <class 'NoneType'>\n",
      "Train on 140842 samples, validate on 19868 samples\n",
      "Epoch 1/10\n",
      "140842/140842 [==============================] - 30s 212us/sample - loss: 0.1024 - accuracy: 0.8698 - val_loss: 0.1158 - val_accuracy: 0.8715\n",
      "Epoch 2/10\n",
      "140842/140842 [==============================] - 27s 195us/sample - loss: 0.0923 - accuracy: 0.8843 - val_loss: 0.1180 - val_accuracy: 0.8616\n",
      "Epoch 3/10\n",
      "140842/140842 [==============================] - 28s 198us/sample - loss: 0.0895 - accuracy: 0.8873 - val_loss: 0.1187 - val_accuracy: 0.8597\n",
      "Epoch 4/10\n",
      "140842/140842 [==============================] - 28s 199us/sample - loss: 0.0885 - accuracy: 0.8894 - val_loss: 0.1343 - val_accuracy: 0.8352\n",
      "Epoch 5/10\n",
      "140842/140842 [==============================] - 29s 205us/sample - loss: 0.0878 - accuracy: 0.8906 - val_loss: 0.1167 - val_accuracy: 0.8658\n",
      "Epoch 6/10\n",
      "140842/140842 [==============================] - 30s 212us/sample - loss: 0.0872 - accuracy: 0.8915 - val_loss: 0.1168 - val_accuracy: 0.8628\n",
      "Epoch 7/10\n",
      "140842/140842 [==============================] - 28s 202us/sample - loss: 0.0877 - accuracy: 0.8911 - val_loss: 0.1304 - val_accuracy: 0.8470\n",
      "Epoch 8/10\n",
      "140842/140842 [==============================] - 29s 203us/sample - loss: 0.0867 - accuracy: 0.8922 - val_loss: 0.1274 - val_accuracy: 0.8427\n",
      "Epoch 9/10\n",
      "140842/140842 [==============================] - 28s 200us/sample - loss: 0.0865 - accuracy: 0.8924 - val_loss: 0.1183 - val_accuracy: 0.8648\n",
      "Epoch 10/10\n",
      "140842/140842 [==============================] - 27s 195us/sample - loss: 0.0859 - accuracy: 0.8939 - val_loss: 0.1170 - val_accuracy: 0.8611\n"
     ]
    },
    {
     "data": {
      "text/plain": [
       "<tensorflow.python.keras.callbacks.History at 0x7f7bd42b6ac8>"
      ]
     },
     "execution_count": 17,
     "metadata": {},
     "output_type": "execute_result"
    }
   ],
   "source": [
    "model4.fit(X_train, y_train, epochs=10, validation_data=(X_test,y_test),\n",
    "           batch_size=16)"
   ]
  },
  {
   "cell_type": "code",
   "execution_count": 22,
   "metadata": {},
   "outputs": [
    {
     "data": {
      "text/plain": [
       "[0.10237975341724387,\n",
       " 0.0922653718617066,\n",
       " 0.08953007611790986,\n",
       " 0.08854472503347248,\n",
       " 0.08781694153274235,\n",
       " 0.08724850120286443,\n",
       " 0.08772736884313936,\n",
       " 0.086718868259911,\n",
       " 0.08645133020864182,\n",
       " 0.08591046862392429]"
      ]
     },
     "execution_count": 22,
     "metadata": {},
     "output_type": "execute_result"
    }
   ],
   "source": [
    "model4.history.history['loss']"
   ]
  },
  {
   "cell_type": "code",
   "execution_count": 18,
   "metadata": {},
   "outputs": [],
   "source": [
    "from sklearn.metrics import accuracy_score\n",
    "from sklearn.metrics import precision_score\n",
    "from sklearn.metrics import recall_score\n",
    "from sklearn.metrics import f1_score\n",
    "from sklearn.metrics import cohen_kappa_score\n",
    "from sklearn.metrics import roc_auc_score\n",
    "from sklearn.metrics import confusion_matrix"
   ]
  },
  {
   "cell_type": "code",
   "execution_count": 19,
   "metadata": {},
   "outputs": [
    {
     "name": "stdout",
     "output_type": "stream",
     "text": [
      "WARNING:tensorflow:Falling back from v2 loop because of error: Failed to find data adapter that can handle input: <class 'pandas.core.frame.DataFrame'>, <class 'NoneType'>\n",
      "WARNING:tensorflow:Falling back from v2 loop because of error: Failed to find data adapter that can handle input: <class 'pandas.core.frame.DataFrame'>, <class 'NoneType'>\n",
      "Accuracy: 0.861133\n",
      "Precision: 0.141618\n",
      "Recall: 0.043305\n",
      "F1 score: 0.066328\n",
      "ROC AUC: 0.563976\n",
      "[[17011   594]\n",
      " [ 2165    98]]\n"
     ]
    }
   ],
   "source": [
    "\n",
    "# predict probabilities for test set\n",
    "yhat_probs = model4.predict(X_test, verbose=0)\n",
    "# predict crisp classes for test set\n",
    "yhat_classes = model4.predict_classes(X_test, verbose=0)\n",
    "# reduce to 1d array\n",
    "yhat_probs = yhat_probs[:, 0]\n",
    "yhat_classes = yhat_classes[:, 0]\n",
    "\n",
    "# accuracy: (tp + tn) / (p + n)\n",
    "accuracy = accuracy_score(y_test, yhat_classes)\n",
    "print('Accuracy: %f' % accuracy)\n",
    "# precision tp / (tp + fp)\n",
    "precision = precision_score(y_test, yhat_classes)\n",
    "print('Precision: %f' % precision)\n",
    "# recall: tp / (tp + fn)\n",
    "recall = recall_score(y_test, yhat_classes)\n",
    "print('Recall: %f' % recall)\n",
    "# f1: 2 tp / (2 tp + fp + fn)\n",
    "f1 = f1_score(y_test, yhat_classes)\n",
    "print('F1 score: %f' % f1)\n",
    "\n",
    "# kappa\n",
    "# kappa = cohen_kappa_score(testy, yhat_classes)\n",
    "# print('Cohens kappa: %f' % kappa)\n",
    "# ROC AUC\n",
    "auc = roc_auc_score(y_test, yhat_probs)\n",
    "print('ROC AUC: %f' % auc)\n",
    "# confusion matrix\n",
    "matrix = confusion_matrix(y_test, yhat_classes)\n",
    "print(matrix)"
   ]
  },
  {
   "cell_type": "code",
   "execution_count": 20,
   "metadata": {},
   "outputs": [],
   "source": [
    "from matplotlib import pyplot"
   ]
  },
  {
   "cell_type": "code",
   "execution_count": 26,
   "metadata": {},
   "outputs": [
    {
     "name": "stdout",
     "output_type": "stream",
     "text": [
      "WARNING:tensorflow:Falling back from v2 loop because of error: Failed to find data adapter that can handle input: <class 'pandas.core.frame.DataFrame'>, <class 'NoneType'>\n",
      "WARNING:tensorflow:Falling back from v2 loop because of error: Failed to find data adapter that can handle input: <class 'pandas.core.frame.DataFrame'>, <class 'NoneType'>\n",
      "Train: 0.899, Test: 0.861\n"
     ]
    },
    {
     "data": {
      "image/png": "[encoded data removed]",
      "text/plain": [
       "<Figure size 432x288 with 2 Axes>"
      ]
     },
     "metadata": {},
     "output_type": "display_data"
    }
   ],
   "source": [
    "# evaluate the model\n",
    "_, train_acc = model4.evaluate(X_train, y_train, verbose=0)\n",
    "_, test_acc = model4.evaluate(X_test, y_test, verbose=0)\n",
    "print('Train: %.3f, Test: %.3f' % (train_acc, test_acc))\n",
    "# plot loss during training\n",
    "pyplot.subplot(211)\n",
    "pyplot.title('Loss')\n",
    "pyplot.plot(model4.history.history['loss'], label='train')\n",
    "pyplot.plot(model4.history.history['val_loss'], label='test')\n",
    "pyplot.legend()\n",
    "# plot accuracy during training\n",
    "pyplot.subplot(212)\n",
    "pyplot.title('Accuracy')\n",
    "pyplot.plot(model4.history.history['accuracy'], label='train')\n",
    "pyplot.plot(model4.history.history['val_accuracy'], label='test')\n",
    "pyplot.legend()\n",
    "pyplot.show()"
   ]
  },
  {
   "cell_type": "code",
   "execution_count": null,
   "metadata": {},
   "outputs": [],
   "source": []
  }
 ],
 "metadata": {
  "kernelspec": {
   "display_name": "Python 3",
   "language": "python",
   "name": "python3"
  },
  "language_info": {
   "codemirror_mode": {
    "name": "ipython",
    "version": 3
   },
   "file_extension": ".py",
   "mimetype": "text/x-python",
   "name": "python",
   "nbconvert_exporter": "python",
   "pygments_lexer": "ipython3",
   "version": "3.6.8"
  }
 },
 "nbformat": 4,
 "nbformat_minor": 4
}
