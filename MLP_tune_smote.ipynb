{
 "cells": [
  {
   "cell_type": "markdown",
   "metadata": {
    "id": "ymsIPg0obr7h"
   },
   "source": [
    "### Multilayer perceptron"
   ]
  },
  {
   "cell_type": "code",
   "execution_count": 2,
   "metadata": {
    "executionInfo": {
     "elapsed": 828,
     "status": "ok",
     "timestamp": 1619929494225,
     "user": {
      "displayName": "Ajju Shivanagutti",
      "photoUrl": "",
      "userId": "17204792826288495943"
     },
     "user_tz": -330
    },
    "id": "jDqebwYCIJ0-"
   },
   "outputs": [],
   "source": [
    "%tensorflow_version 1.x"
   ]
  },
  {
   "cell_type": "code",
   "execution_count": 3,
   "metadata": {
    "colab": {
     "base_uri": "https://localhost:8080/"
    },
    "executionInfo": {
     "elapsed": 5856,
     "status": "ok",
     "timestamp": 1619929503584,
     "user": {
      "displayName": "Ajju Shivanagutti",
      "photoUrl": "",
      "userId": "17204792826288495943"
     },
     "user_tz": -330
    },
    "id": "ZPNYHeq5br7q",
    "outputId": "567580f0-3cc6-488a-e56b-0797eee09e20"
   },
   "outputs": [
    {
     "name": "stdout",
     "output_type": "stream",
     "text": [
      "1.15.2\n"
     ]
    }
   ],
   "source": [
    "import tensorflow as tf\n",
    "print(tf.version.VERSION)"
   ]
  },
  {
   "cell_type": "code",
   "execution_count": 30,
   "metadata": {
    "executionInfo": {
     "elapsed": 823,
     "status": "ok",
     "timestamp": 1619930467123,
     "user": {
      "displayName": "Ajju Shivanagutti",
      "photoUrl": "",
      "userId": "17204792826288495943"
     },
     "user_tz": -330
    },
    "id": "_6UBIf1Tbr7s"
   },
   "outputs": [],
   "source": [
    "import pandas as pd\n",
    "import numpy as np"
   ]
  },
  {
   "cell_type": "code",
   "execution_count": 5,
   "metadata": {
    "colab": {
     "base_uri": "https://localhost:8080/"
    },
    "executionInfo": {
     "elapsed": 1508,
     "status": "ok",
     "timestamp": 1619929516546,
     "user": {
      "displayName": "Ajju Shivanagutti",
      "photoUrl": "",
      "userId": "17204792826288495943"
     },
     "user_tz": -330
    },
    "id": "otlrvNk-br7s",
    "outputId": "5f0b0b0f-edac-41b4-b078-aeeaa44bf451"
   },
   "outputs": [
    {
     "name": "stderr",
     "output_type": "stream",
     "text": [
      "/usr/local/lib/python3.7/dist-packages/sklearn/externals/six.py:31: FutureWarning: The module is deprecated in version 0.21 and will be removed in version 0.23 since we've dropped support for Python 2.7. Please rely on the official version of six (https://pypi.org/project/six/).\n",
      "  \"(https://pypi.org/project/six/).\", FutureWarning)\n",
      "/usr/local/lib/python3.7/dist-packages/sklearn/utils/deprecation.py:144: FutureWarning: The sklearn.neighbors.base module is  deprecated in version 0.22 and will be removed in version 0.24. The corresponding classes / functions should instead be imported from sklearn.neighbors. Anything that cannot be imported from sklearn.neighbors is now part of the private API.\n",
      "  warnings.warn(message, FutureWarning)\n"
     ]
    }
   ],
   "source": [
    "# SMOTE balancing technique is applied\n",
    "from imblearn.over_sampling import SMOTE\n",
    "# Importing test_train_split from sklearn library\n",
    "from sklearn.model_selection import train_test_split"
   ]
  },
  {
   "cell_type": "code",
   "execution_count": 6,
   "metadata": {
    "executionInfo": {
     "elapsed": 849,
     "status": "ok",
     "timestamp": 1619929520667,
     "user": {
      "displayName": "Ajju Shivanagutti",
      "photoUrl": "",
      "userId": "17204792826288495943"
     },
     "user_tz": -330
    },
    "id": "P4CdU5SQbr7t"
   },
   "outputs": [],
   "source": [
    "#import matplotlib.pyplot as plt\n",
    "import tensorflow as tf"
   ]
  },
  {
   "cell_type": "code",
   "execution_count": 7,
   "metadata": {
    "colab": {
     "base_uri": "https://localhost:8080/"
    },
    "executionInfo": {
     "elapsed": 25488,
     "status": "ok",
     "timestamp": 1619929550564,
     "user": {
      "displayName": "Ajju Shivanagutti",
      "photoUrl": "",
      "userId": "17204792826288495943"
     },
     "user_tz": -330
    },
    "id": "9aPiWugwdVjg",
    "outputId": "c65e9cb5-f759-4189-86e1-18e941300c18"
   },
   "outputs": [
    {
     "name": "stdout",
     "output_type": "stream",
     "text": [
      "Mounted at /content/drive\n"
     ]
    }
   ],
   "source": [
    "from google.colab import drive\n",
    "drive.mount('/content/drive')"
   ]
  },
  {
   "cell_type": "code",
   "execution_count": 8,
   "metadata": {
    "executionInfo": {
     "elapsed": 3195,
     "status": "ok",
     "timestamp": 1619929562373,
     "user": {
      "displayName": "Ajju Shivanagutti",
      "photoUrl": "",
      "userId": "17204792826288495943"
     },
     "user_tz": -330
    },
    "id": "WBFMsKUBbr7t"
   },
   "outputs": [],
   "source": [
    "# Read the dataset\n",
    "data = pd.read_csv(\"/content/drive/MyDrive/data_all_dfeatures.csv\")"
   ]
  },
  {
   "cell_type": "code",
   "execution_count": 97,
   "metadata": {
    "colab": {
     "base_uri": "https://localhost:8080/"
    },
    "executionInfo": {
     "elapsed": 835,
     "status": "ok",
     "timestamp": 1619932179377,
     "user": {
      "displayName": "Ajju Shivanagutti",
      "photoUrl": "",
      "userId": "17204792826288495943"
     },
     "user_tz": -330
    },
    "id": "0CZ9y7IVbr7u",
    "outputId": "67bfccf0-ad7c-43be-e2d4-f2a29a8eaf3d"
   },
   "outputs": [
    {
     "data": {
      "text/plain": [
       "{0: 70421, 1: 9051}"
      ]
     },
     "execution_count": 97,
     "metadata": {
      "tags": []
     },
     "output_type": "execute_result"
    }
   ],
   "source": [
    "# get the predictors and target variable from dataset\n",
    "X = data.drop('readmitted', axis=1)\n",
    "y = data['readmitted']\n",
    "\n",
    "# Splitting the data into train and test\n",
    "X_train, X_test, y_train, y_test = train_test_split(X, y, test_size=0.20, random_state=101, stratify=y)\n",
    "\n",
    "unique, count = np.unique(y_train, return_counts=True)\n",
    "y_train_class_counts = {k:v for k, v in zip(unique, count)}\n",
    "y_train_class_counts\n",
    "\n"
   ]
  },
  {
   "cell_type": "code",
   "execution_count": 98,
   "metadata": {
    "colab": {
     "base_uri": "https://localhost:8080/"
    },
    "executionInfo": {
     "elapsed": 5467,
     "status": "ok",
     "timestamp": 1619932186772,
     "user": {
      "displayName": "Ajju Shivanagutti",
      "photoUrl": "",
      "userId": "17204792826288495943"
     },
     "user_tz": -330
    },
    "id": "L3NsCjZ1Ybtw",
    "outputId": "3c592ef4-4a00-45b7-9ab4-6d1a4fcf132c"
   },
   "outputs": [
    {
     "name": "stderr",
     "output_type": "stream",
     "text": [
      "/usr/local/lib/python3.7/dist-packages/sklearn/utils/deprecation.py:87: FutureWarning: Function safe_indexing is deprecated; safe_indexing is deprecated in version 0.22 and will be removed in version 0.24.\n",
      "  warnings.warn(msg, category=FutureWarning)\n"
     ]
    }
   ],
   "source": [
    "#SMOTE\n",
    "# sampling_strategy = [0.15, 0.2, 0.25, 0.5, 0.75, 1.0 ]\n",
    "oversample = SMOTE(sampling_strategy=1.0, random_state=12)\n",
    "X_train, y_train = oversample.fit_resample(X_train, y_train)"
   ]
  },
  {
   "cell_type": "code",
   "execution_count": 99,
   "metadata": {
    "colab": {
     "base_uri": "https://localhost:8080/"
    },
    "executionInfo": {
     "elapsed": 856,
     "status": "ok",
     "timestamp": 1619932190935,
     "user": {
      "displayName": "Ajju Shivanagutti",
      "photoUrl": "",
      "userId": "17204792826288495943"
     },
     "user_tz": -330
    },
    "id": "_2GUQNceZBVx",
    "outputId": "703242d1-d0a5-459a-c0e0-018384223f73"
   },
   "outputs": [
    {
     "data": {
      "text/plain": [
       "{0: 70421, 1: 70421}"
      ]
     },
     "execution_count": 99,
     "metadata": {
      "tags": []
     },
     "output_type": "execute_result"
    }
   ],
   "source": [
    "unique, count = np.unique(y_train, return_counts=True)\n",
    "y_train_class_counts = {k:v for k, v in zip(unique, count)}\n",
    "y_train_class_counts"
   ]
  },
  {
   "cell_type": "code",
   "execution_count": 100,
   "metadata": {
    "colab": {
     "base_uri": "https://localhost:8080/"
    },
    "executionInfo": {
     "elapsed": 835,
     "status": "ok",
     "timestamp": 1619932195152,
     "user": {
      "displayName": "Ajju Shivanagutti",
      "photoUrl": "",
      "userId": "17204792826288495943"
     },
     "user_tz": -330
    },
    "id": "YF4aFnfCbr7u",
    "outputId": "9e6d7059-7dd5-4bd7-8189-44d8e14c47c5"
   },
   "outputs": [
    {
     "data": {
      "text/plain": [
       "((140842, 130), (19868, 130), (140842,), (19868,))"
      ]
     },
     "execution_count": 100,
     "metadata": {
      "tags": []
     },
     "output_type": "execute_result"
    }
   ],
   "source": [
    "X_train.shape, X_test.shape, y_train.shape, y_test.shape"
   ]
  },
  {
   "cell_type": "code",
   "execution_count": 101,
   "metadata": {
    "executionInfo": {
     "elapsed": 831,
     "status": "ok",
     "timestamp": 1619932200047,
     "user": {
      "displayName": "Ajju Shivanagutti",
      "photoUrl": "",
      "userId": "17204792826288495943"
     },
     "user_tz": -330
    },
    "id": "Jb7HYzw8br7v"
   },
   "outputs": [],
   "source": [
    "from tensorflow.keras.layers import Dense,Input,Activation,Dropout\n",
    "from tensorflow.keras import Model\n",
    "from tensorflow.keras import Sequential\n",
    "import random as rn\n",
    "from sklearn.metrics import roc_auc_score, precision_score, recall_score\n",
    "import datetime"
   ]
  },
  {
   "cell_type": "code",
   "execution_count": 17,
   "metadata": {
    "colab": {
     "base_uri": "https://localhost:8080/",
     "height": 35
    },
    "executionInfo": {
     "elapsed": 836,
     "status": "ok",
     "timestamp": 1619930128563,
     "user": {
      "displayName": "Ajju Shivanagutti",
      "photoUrl": "",
      "userId": "17204792826288495943"
     },
     "user_tz": -330
    },
    "id": "gElWAmlUbr7v",
    "outputId": "7ce23396-5f42-4a52-82cf-4d404cfb96df"
   },
   "outputs": [
    {
     "data": {
      "application/vnd.google.colaboratory.intrinsic+json": {
       "type": "string"
      },
      "text/plain": [
       "'1.15.2'"
      ]
     },
     "execution_count": 17,
     "metadata": {
      "tags": []
     },
     "output_type": "execute_result"
    }
   ],
   "source": [
    "tf.__version__"
   ]
  },
  {
   "cell_type": "code",
   "execution_count": 18,
   "metadata": {
    "executionInfo": {
     "elapsed": 942,
     "status": "ok",
     "timestamp": 1619930132204,
     "user": {
      "displayName": "Ajju Shivanagutti",
      "photoUrl": "",
      "userId": "17204792826288495943"
     },
     "user_tz": -330
    },
    "id": "jfbplsh7br7w"
   },
   "outputs": [],
   "source": [
    "num_classes = 2"
   ]
  },
  {
   "cell_type": "code",
   "execution_count": 19,
   "metadata": {
    "executionInfo": {
     "elapsed": 841,
     "status": "ok",
     "timestamp": 1619930134070,
     "user": {
      "displayName": "Ajju Shivanagutti",
      "photoUrl": "",
      "userId": "17204792826288495943"
     },
     "user_tz": -330
    },
    "id": "gCF1kA0gbr7w"
   },
   "outputs": [],
   "source": [
    "from tensorflow.keras.layers import PReLU"
   ]
  },
  {
   "cell_type": "code",
   "execution_count": 104,
   "metadata": {
    "executionInfo": {
     "elapsed": 834,
     "status": "ok",
     "timestamp": 1619932245892,
     "user": {
      "displayName": "Ajju Shivanagutti",
      "photoUrl": "",
      "userId": "17204792826288495943"
     },
     "user_tz": -330
    },
    "id": "RnIhTU08br7w"
   },
   "outputs": [],
   "source": [
    "optimizer = tf.keras.optimizers.Adam(learning_rate=0.1, name='Adam')\n",
    "def create_model4():\n",
    "    initializer = tf.keras.initializers.he_uniform(seed=15)\n",
    "    \n",
    "    model = Sequential([\n",
    "        Input(shape=(130,), name='input_layer'),\n",
    "        Dense(64, kernel_initializer=initializer, name='dense_layer1'),\n",
    "        PReLU(),\n",
    "        Dropout(rate=0.15, name='drop_out1'),\n",
    "        Dense(64, kernel_initializer=initializer, name='dense_layer2'),\n",
    "        PReLU(),\n",
    "        Dropout(rate=0.5, name='drop_out2'),\n",
    "        Dense(1, activation='sigmoid', kernel_initializer=initializer, name='output_layer'),\n",
    "        \n",
    "    ])\n",
    "    return model"
   ]
  },
  {
   "cell_type": "code",
   "execution_count": 105,
   "metadata": {
    "colab": {
     "base_uri": "https://localhost:8080/"
    },
    "executionInfo": {
     "elapsed": 687,
     "status": "ok",
     "timestamp": 1619932248461,
     "user": {
      "displayName": "Ajju Shivanagutti",
      "photoUrl": "",
      "userId": "17204792826288495943"
     },
     "user_tz": -330
    },
    "id": "_jOpT1EBbr7x",
    "outputId": "bab31352-9078-4477-f15c-2bba418cd419"
   },
   "outputs": [
    {
     "name": "stdout",
     "output_type": "stream",
     "text": [
      "Model: \"sequential_13\"\n",
      "_________________________________________________________________\n",
      "Layer (type)                 Output Shape              Param #   \n",
      "=================================================================\n",
      "dense_layer1 (Dense)         (None, 64)                8384      \n",
      "_________________________________________________________________\n",
      "p_re_lu_22 (PReLU)           (None, 64)                64        \n",
      "_________________________________________________________________\n",
      "drop_out1 (Dropout)          (None, 64)                0         \n",
      "_________________________________________________________________\n",
      "dense_layer2 (Dense)         (None, 64)                4160      \n",
      "_________________________________________________________________\n",
      "p_re_lu_23 (PReLU)           (None, 64)                64        \n",
      "_________________________________________________________________\n",
      "drop_out2 (Dropout)          (None, 64)                0         \n",
      "_________________________________________________________________\n",
      "output_layer (Dense)         (None, 1)                 65        \n",
      "=================================================================\n",
      "Total params: 12,737\n",
      "Trainable params: 12,737\n",
      "Non-trainable params: 0\n",
      "_________________________________________________________________\n"
     ]
    }
   ],
   "source": [
    "model4 = create_model4()\n",
    "model4.compile(optimizer=optimizer,\n",
    "              loss='mse',\n",
    "              metrics=['accuracy'])\n",
    "model4.summary()"
   ]
  },
  {
   "cell_type": "code",
   "execution_count": 106,
   "metadata": {
    "colab": {
     "base_uri": "https://localhost:8080/"
    },
    "executionInfo": {
     "elapsed": 120585,
     "status": "ok",
     "timestamp": 1619932377823,
     "user": {
      "displayName": "Ajju Shivanagutti",
      "photoUrl": "",
      "userId": "17204792826288495943"
     },
     "user_tz": -330
    },
    "id": "KVoMS-Rmbr7x",
    "outputId": "d3d7ef75-5628-4fd8-c869-60a6c0eb27b8"
   },
   "outputs": [
    {
     "name": "stdout",
     "output_type": "stream",
     "text": [
      "Train on 140842 samples, validate on 19868 samples\n",
      "Epoch 1/5\n",
      "140842/140842 [==============================] - 24s 171us/sample - loss: 0.5000 - acc: 0.5000 - val_loss: 0.1139 - val_acc: 0.8861\n",
      "Epoch 2/5\n",
      "140842/140842 [==============================] - 24s 169us/sample - loss: 0.5015 - acc: 0.4985 - val_loss: 0.8861 - val_acc: 0.1139\n",
      "Epoch 3/5\n",
      "140842/140842 [==============================] - 24s 171us/sample - loss: 0.5000 - acc: 0.5000 - val_loss: 0.8861 - val_acc: 0.1139\n",
      "Epoch 4/5\n",
      "140842/140842 [==============================] - 24s 169us/sample - loss: 0.5001 - acc: 0.4999 - val_loss: 0.8861 - val_acc: 0.1139\n",
      "Epoch 5/5\n",
      "140842/140842 [==============================] - 23s 167us/sample - loss: 0.5000 - acc: 0.5000 - val_loss: 0.8861 - val_acc: 0.1139\n"
     ]
    },
    {
     "data": {
      "text/plain": [
       "<tensorflow.python.keras.callbacks.History at 0x7f91756f2990>"
      ]
     },
     "execution_count": 106,
     "metadata": {
      "tags": []
     },
     "output_type": "execute_result"
    }
   ],
   "source": [
    "model4.fit(X_train, y_train, epochs=5, validation_data=(X_test,y_test),\n",
    "           batch_size=16)"
   ]
  },
  {
   "cell_type": "code",
   "execution_count": 107,
   "metadata": {
    "executionInfo": {
     "elapsed": 1693,
     "status": "ok",
     "timestamp": 1619932391669,
     "user": {
      "displayName": "Ajju Shivanagutti",
      "photoUrl": "",
      "userId": "17204792826288495943"
     },
     "user_tz": -330
    },
    "id": "va51a33zbr7y"
   },
   "outputs": [],
   "source": [
    "# file_path = '/mnt/disks/user/project'\n",
    "model4.save('/content/drive/MyDrive/modelling_save/sm/mlp_all_dfeatures_smote')\n"
   ]
  },
  {
   "cell_type": "code",
   "execution_count": 108,
   "metadata": {
    "colab": {
     "base_uri": "https://localhost:8080/"
    },
    "executionInfo": {
     "elapsed": 843,
     "status": "ok",
     "timestamp": 1619932394114,
     "user": {
      "displayName": "Ajju Shivanagutti",
      "photoUrl": "",
      "userId": "17204792826288495943"
     },
     "user_tz": -330
    },
    "id": "kmp6Wk96dNe7",
    "outputId": "50c83cbc-cec0-4d4e-83d1-e17d0d80886b"
   },
   "outputs": [
    {
     "name": "stdout",
     "output_type": "stream",
     "text": [
      "Saved model to disk\n"
     ]
    }
   ],
   "source": [
    "# serialize model to JSON\n",
    "model_json = model4.to_json()\n",
    "with open(\"/content/drive/MyDrive/modelling_save/sm/mlp_json_all_dfeatures_smote.json\", \"w\") as json_file:\n",
    "    json_file.write(model_json)\n",
    "# serialize weights to HDF5\n",
    "model4.save_weights(\"/content/drive/MyDrive/modelling_save/sm/mlp_weights_alldfeatures_smote.h5\")\n",
    "print(\"Saved model to disk\")"
   ]
  },
  {
   "cell_type": "code",
   "execution_count": 94,
   "metadata": {
    "colab": {
     "base_uri": "https://localhost:8080/"
    },
    "executionInfo": {
     "elapsed": 822,
     "status": "ok",
     "timestamp": 1619932124226,
     "user": {
      "displayName": "Ajju Shivanagutti",
      "photoUrl": "",
      "userId": "17204792826288495943"
     },
     "user_tz": -330
    },
    "id": "a9ul9ufNrB6q",
    "outputId": "f0c956c2-b570-405f-a4a9-acd6b7a8e954"
   },
   "outputs": [
    {
     "data": {
      "text/plain": [
       "{'acc': [0.5677075, 0.56852704, 0.5694764, 0.56916, 0.57103443],\n",
       " 'loss': [0.4322929768286977,\n",
       "  0.43147299785476884,\n",
       "  0.43052317275946494,\n",
       "  0.43084003490007794,\n",
       "  0.4289655620227086],\n",
       " 'val_acc': [0.88609827, 0.88609827, 0.88609827, 0.88609827, 0.88609827],\n",
       " 'val_loss': [0.11390175156929806,\n",
       "  0.11390175156179798,\n",
       "  0.11390175156479801,\n",
       "  0.11390175156929806,\n",
       "  0.11390175156929806]}"
      ]
     },
     "execution_count": 94,
     "metadata": {
      "tags": []
     },
     "output_type": "execute_result"
    }
   ],
   "source": [
    "model4.history.history"
   ]
  },
  {
   "cell_type": "code",
   "execution_count": 109,
   "metadata": {
    "colab": {
     "base_uri": "https://localhost:8080/"
    },
    "executionInfo": {
     "elapsed": 818,
     "status": "ok",
     "timestamp": 1619932398357,
     "user": {
      "displayName": "Ajju Shivanagutti",
      "photoUrl": "",
      "userId": "17204792826288495943"
     },
     "user_tz": -330
    },
    "id": "Gui-IQRNbr7y",
    "outputId": "65732daf-4c49-42ef-b623-c8a8a3552476"
   },
   "outputs": [
    {
     "data": {
      "text/plain": [
       "([0.5000135006928437,\n",
       "  0.5015123326497642,\n",
       "  0.5000426009287002,\n",
       "  0.5000852018590933,\n",
       "  0.49998579969085644],\n",
       " [0.11390175156029797,\n",
       "  0.8860982484517022,\n",
       "  0.8860982484397021,\n",
       "  0.8860982484277019,\n",
       "  0.8860982484397021],\n",
       " [0.4999787, 0.49848768, 0.4999574, 0.4999148, 0.5000142],\n",
       " [0.88609827, 0.11390175, 0.11390175, 0.11390175, 0.11390175])"
      ]
     },
     "execution_count": 109,
     "metadata": {
      "tags": []
     },
     "output_type": "execute_result"
    }
   ],
   "source": [
    "loss = model4.history.history['loss']\n",
    "val_loss = model4.history.history['val_loss']\n",
    "accuracy = model4.history.history['acc']\n",
    "val_accuracy = model4.history.history['val_acc']\n",
    "loss, val_loss, accuracy, val_accuracy"
   ]
  },
  {
   "cell_type": "code",
   "execution_count": 28,
   "metadata": {
    "executionInfo": {
     "elapsed": 821,
     "status": "ok",
     "timestamp": 1619930381342,
     "user": {
      "displayName": "Ajju Shivanagutti",
      "photoUrl": "",
      "userId": "17204792826288495943"
     },
     "user_tz": -330
    },
    "id": "FSeJ4TNJbr7y"
   },
   "outputs": [],
   "source": [
    "from sklearn.metrics import accuracy_score\n",
    "from sklearn.metrics import precision_score\n",
    "from sklearn.metrics import recall_score\n",
    "from sklearn.metrics import f1_score\n",
    "from sklearn.metrics import cohen_kappa_score\n",
    "from sklearn.metrics import roc_auc_score\n",
    "from sklearn.metrics import confusion_matrix"
   ]
  },
  {
   "cell_type": "code",
   "execution_count": 110,
   "metadata": {
    "colab": {
     "base_uri": "https://localhost:8080/"
    },
    "executionInfo": {
     "elapsed": 2326,
     "status": "ok",
     "timestamp": 1619932403426,
     "user": {
      "displayName": "Ajju Shivanagutti",
      "photoUrl": "",
      "userId": "17204792826288495943"
     },
     "user_tz": -330
    },
    "id": "0qt32Drubr7z",
    "outputId": "ceb430db-f6ea-425e-9941-cfd243bd4a24"
   },
   "outputs": [
    {
     "name": "stdout",
     "output_type": "stream",
     "text": [
      "Accuracy: 0.113902\n",
      "Precision: 0.113902\n",
      "Recall: 1.000000\n",
      "F1 score: 0.204510\n",
      "ROC AUC: 0.500000\n",
      "[[    0 17605]\n",
      " [    0  2263]]\n"
     ]
    }
   ],
   "source": [
    "\n",
    "# predict probabilities for test set\n",
    "yhat_probs = model4.predict(X_test, verbose=0)\n",
    "# predict crisp classes for test set\n",
    "yhat_classes = model4.predict_classes(X_test, verbose=0)\n",
    "# reduce to 1d array\n",
    "yhat_probs = yhat_probs[:, 0]\n",
    "yhat_classes = yhat_classes[:, 0]\n",
    "\n",
    "# accuracy: (tp + tn) / (p + n)\n",
    "accuracy = accuracy_score(y_test, yhat_classes)\n",
    "print('Accuracy: %f' % accuracy)\n",
    "# precision tp / (tp + fp)\n",
    "precision = precision_score(y_test, yhat_classes)\n",
    "print('Precision: %f' % precision)\n",
    "# recall: tp / (tp + fn)\n",
    "recall = recall_score(y_test, yhat_classes)\n",
    "print('Recall: %f' % recall)\n",
    "# f1: 2 tp / (2 tp + fp + fn)\n",
    "f1 = f1_score(y_test, yhat_classes)\n",
    "print('F1 score: %f' % f1)\n",
    "\n",
    "# ROC AUC\n",
    "auc = roc_auc_score(y_test, yhat_probs)\n",
    "print('ROC AUC: %f' % auc)\n",
    "# confusion matrix\n",
    "matrix = confusion_matrix(y_test, yhat_classes)\n",
    "print(matrix)"
   ]
  },
  {
   "cell_type": "code",
   "execution_count": null,
   "metadata": {
    "id": "ERavtdGubr70"
   },
   "outputs": [],
   "source": [
    "from matplotlib import pyplot"
   ]
  },
  {
   "cell_type": "code",
   "execution_count": null,
   "metadata": {
    "colab": {
     "base_uri": "https://localhost:8080/",
     "height": 298
    },
    "executionInfo": {
     "elapsed": 10261,
     "status": "ok",
     "timestamp": 1619546649025,
     "user": {
      "displayName": "Ajju Shivanagutti",
      "photoUrl": "",
      "userId": "17204792826288495943"
     },
     "user_tz": -330
    },
    "id": "4H8JAZbGbr70",
    "outputId": "28bea47e-8f56-4652-89c2-962585906525"
   },
   "outputs": [
    {
     "name": "stdout",
     "output_type": "stream",
     "text": [
      "Train: 0.500, Test: 0.886\n"
     ]
    },
    {
     "data": {
      "image/png": "[encoded data removed]",
      "text/plain": [
       "<Figure size 432x288 with 2 Axes>"
      ]
     },
     "metadata": {
      "needs_background": "light",
      "tags": []
     },
     "output_type": "display_data"
    }
   ],
   "source": [
    "# evaluate the model\n",
    "_, train_acc = model4.evaluate(X_train, y_train, verbose=0)\n",
    "_, test_acc = model4.evaluate(X_test, y_test, verbose=0)\n",
    "print('Train: %.3f, Test: %.3f' % (train_acc, test_acc))\n",
    "# plot loss during training\n",
    "pyplot.subplot(211)\n",
    "pyplot.title('Loss')\n",
    "pyplot.plot(loss, label='train')\n",
    "pyplot.plot(val_loss, label='test')\n",
    "pyplot.legend()\n",
    "# plot accuracy during training\n",
    "pyplot.subplot(212)\n",
    "pyplot.title('Accuracy')\n",
    "pyplot.plot(accuracy, label='train')\n",
    "pyplot.plot(val_accuracy, label='test')\n",
    "pyplot.legend()\n",
    "pyplot.show()"
   ]
  },
  {
   "cell_type": "code",
   "execution_count": null,
   "metadata": {
    "id": "i3sDwk6Ybr71"
   },
   "outputs": [],
   "source": []
  }
 ],
 "metadata": {
  "accelerator": "GPU",
  "colab": {
   "collapsed_sections": [],
   "name": "Copy of MLP.ipynb",
   "provenance": [
    {
     "file_id": "1Drh_VBPkjtqGrKQ_N-xH8qKECaHZYPtK",
     "timestamp": 1619926910360
    }
   ]
  },
  "kernelspec": {
   "display_name": "Python 3",
   "language": "python",
   "name": "python3"
  },
  "language_info": {
   "codemirror_mode": {
    "name": "ipython",
    "version": 3
   },
   "file_extension": ".py",
   "mimetype": "text/x-python",
   "name": "python",
   "nbconvert_exporter": "python",
   "pygments_lexer": "ipython3",
   "version": "3.8.5"
  }
 },
 "nbformat": 4,
 "nbformat_minor": 1
}
