{
 "cells": [
  {
   "cell_type": "markdown",
   "metadata": {},
   "source": [
    "### Random Forest with all dummy features"
   ]
  },
  {
   "cell_type": "code",
   "execution_count": 9,
   "metadata": {},
   "outputs": [],
   "source": [
    "import pandas as pd\n",
    "import matplotlib.pyplot as plt\n",
    "from sklearn.metrics import classification_report,confusion_matrix"
   ]
  },
  {
   "cell_type": "code",
   "execution_count": 15,
   "metadata": {},
   "outputs": [
    {
     "data": {
      "text/plain": [
       "(99340, 131)"
      ]
     },
     "execution_count": 15,
     "metadata": {},
     "output_type": "execute_result"
    }
   ],
   "source": [
    "# Read the dataset\n",
    "data = pd.read_csv(\"./data_all_dfeatures.csv\")\n",
    "data.shape"
   ]
  },
  {
   "cell_type": "code",
   "execution_count": 16,
   "metadata": {},
   "outputs": [
    {
     "data": {
      "text/html": [
       "<div>\n",
       "<style scoped>\n",
       "    .dataframe tbody tr th:only-of-type {\n",
       "        vertical-align: middle;\n",
       "    }\n",
       "\n",
       "    .dataframe tbody tr th {\n",
       "        vertical-align: top;\n",
       "    }\n",
       "\n",
       "    .dataframe thead th {\n",
       "        text-align: right;\n",
       "    }\n",
       "</style>\n",
       "<table border=\"1\" class=\"dataframe\">\n",
       "  <thead>\n",
       "    <tr style=\"text-align: right;\">\n",
       "      <th></th>\n",
       "      <th>gender</th>\n",
       "      <th>age</th>\n",
       "      <th>admission_type_id</th>\n",
       "      <th>discharge_disposition_id</th>\n",
       "      <th>admission_source_id</th>\n",
       "      <th>time_in_hospital</th>\n",
       "      <th>num_lab_procedures</th>\n",
       "      <th>num_procedures</th>\n",
       "      <th>num_medications</th>\n",
       "      <th>number_outpatient</th>\n",
       "      <th>...</th>\n",
       "      <th>insulin_No</th>\n",
       "      <th>insulin_Steady</th>\n",
       "      <th>insulin_Up</th>\n",
       "      <th>glyburide-metformin_No</th>\n",
       "      <th>glyburide-metformin_Steady</th>\n",
       "      <th>glyburide-metformin_Up</th>\n",
       "      <th>glipizide-metformin_Steady</th>\n",
       "      <th>glimepiride-pioglitazone_Steady</th>\n",
       "      <th>metformin-rosiglitazone_Steady</th>\n",
       "      <th>metformin-pioglitazone_Steady</th>\n",
       "    </tr>\n",
       "  </thead>\n",
       "  <tbody>\n",
       "    <tr>\n",
       "      <th>0</th>\n",
       "      <td>0</td>\n",
       "      <td>5</td>\n",
       "      <td>5</td>\n",
       "      <td>5.779898</td>\n",
       "      <td>-1.431088</td>\n",
       "      <td>-1.138455</td>\n",
       "      <td>-0.097257</td>\n",
       "      <td>-0.783548</td>\n",
       "      <td>-1.850433</td>\n",
       "      <td>-0.40111</td>\n",
       "      <td>...</td>\n",
       "      <td>1</td>\n",
       "      <td>0</td>\n",
       "      <td>0</td>\n",
       "      <td>1</td>\n",
       "      <td>0</td>\n",
       "      <td>0</td>\n",
       "      <td>0</td>\n",
       "      <td>0</td>\n",
       "      <td>0</td>\n",
       "      <td>0</td>\n",
       "    </tr>\n",
       "    <tr>\n",
       "      <th>1</th>\n",
       "      <td>0</td>\n",
       "      <td>15</td>\n",
       "      <td>1</td>\n",
       "      <td>-0.317652</td>\n",
       "      <td>0.648827</td>\n",
       "      <td>-0.464686</td>\n",
       "      <td>0.820652</td>\n",
       "      <td>-0.783548</td>\n",
       "      <td>0.249657</td>\n",
       "      <td>-0.40111</td>\n",
       "      <td>...</td>\n",
       "      <td>0</td>\n",
       "      <td>0</td>\n",
       "      <td>1</td>\n",
       "      <td>1</td>\n",
       "      <td>0</td>\n",
       "      <td>0</td>\n",
       "      <td>0</td>\n",
       "      <td>0</td>\n",
       "      <td>0</td>\n",
       "      <td>0</td>\n",
       "    </tr>\n",
       "    <tr>\n",
       "      <th>2</th>\n",
       "      <td>0</td>\n",
       "      <td>25</td>\n",
       "      <td>1</td>\n",
       "      <td>-0.317652</td>\n",
       "      <td>0.648827</td>\n",
       "      <td>-0.801570</td>\n",
       "      <td>-1.627106</td>\n",
       "      <td>2.152858</td>\n",
       "      <td>-0.368016</td>\n",
       "      <td>2.15797</td>\n",
       "      <td>...</td>\n",
       "      <td>1</td>\n",
       "      <td>0</td>\n",
       "      <td>0</td>\n",
       "      <td>1</td>\n",
       "      <td>0</td>\n",
       "      <td>0</td>\n",
       "      <td>0</td>\n",
       "      <td>0</td>\n",
       "      <td>0</td>\n",
       "      <td>0</td>\n",
       "    </tr>\n",
       "    <tr>\n",
       "      <th>3</th>\n",
       "      <td>1</td>\n",
       "      <td>35</td>\n",
       "      <td>1</td>\n",
       "      <td>-0.317652</td>\n",
       "      <td>0.648827</td>\n",
       "      <td>-0.801570</td>\n",
       "      <td>0.055727</td>\n",
       "      <td>-0.196267</td>\n",
       "      <td>0.002588</td>\n",
       "      <td>-0.40111</td>\n",
       "      <td>...</td>\n",
       "      <td>0</td>\n",
       "      <td>0</td>\n",
       "      <td>1</td>\n",
       "      <td>1</td>\n",
       "      <td>0</td>\n",
       "      <td>0</td>\n",
       "      <td>0</td>\n",
       "      <td>0</td>\n",
       "      <td>0</td>\n",
       "      <td>0</td>\n",
       "    </tr>\n",
       "    <tr>\n",
       "      <th>4</th>\n",
       "      <td>1</td>\n",
       "      <td>45</td>\n",
       "      <td>1</td>\n",
       "      <td>-0.317652</td>\n",
       "      <td>0.648827</td>\n",
       "      <td>-1.138455</td>\n",
       "      <td>0.412692</td>\n",
       "      <td>-0.783548</td>\n",
       "      <td>-0.985690</td>\n",
       "      <td>-0.40111</td>\n",
       "      <td>...</td>\n",
       "      <td>0</td>\n",
       "      <td>1</td>\n",
       "      <td>0</td>\n",
       "      <td>1</td>\n",
       "      <td>0</td>\n",
       "      <td>0</td>\n",
       "      <td>0</td>\n",
       "      <td>0</td>\n",
       "      <td>0</td>\n",
       "      <td>0</td>\n",
       "    </tr>\n",
       "  </tbody>\n",
       "</table>\n",
       "<p>5 rows × 131 columns</p>\n",
       "</div>"
      ],
      "text/plain": [
       "   gender  age  admission_type_id  discharge_disposition_id  \\\n",
       "0       0    5                  5                  5.779898   \n",
       "1       0   15                  1                 -0.317652   \n",
       "2       0   25                  1                 -0.317652   \n",
       "3       1   35                  1                 -0.317652   \n",
       "4       1   45                  1                 -0.317652   \n",
       "\n",
       "   admission_source_id  time_in_hospital  num_lab_procedures  num_procedures  \\\n",
       "0            -1.431088         -1.138455           -0.097257       -0.783548   \n",
       "1             0.648827         -0.464686            0.820652       -0.783548   \n",
       "2             0.648827         -0.801570           -1.627106        2.152858   \n",
       "3             0.648827         -0.801570            0.055727       -0.196267   \n",
       "4             0.648827         -1.138455            0.412692       -0.783548   \n",
       "\n",
       "   num_medications  number_outpatient  ...  insulin_No  insulin_Steady  \\\n",
       "0        -1.850433           -0.40111  ...           1               0   \n",
       "1         0.249657           -0.40111  ...           0               0   \n",
       "2        -0.368016            2.15797  ...           1               0   \n",
       "3         0.002588           -0.40111  ...           0               0   \n",
       "4        -0.985690           -0.40111  ...           0               1   \n",
       "\n",
       "   insulin_Up  glyburide-metformin_No  glyburide-metformin_Steady  \\\n",
       "0           0                       1                           0   \n",
       "1           1                       1                           0   \n",
       "2           0                       1                           0   \n",
       "3           1                       1                           0   \n",
       "4           0                       1                           0   \n",
       "\n",
       "   glyburide-metformin_Up  glipizide-metformin_Steady  \\\n",
       "0                       0                           0   \n",
       "1                       0                           0   \n",
       "2                       0                           0   \n",
       "3                       0                           0   \n",
       "4                       0                           0   \n",
       "\n",
       "   glimepiride-pioglitazone_Steady  metformin-rosiglitazone_Steady  \\\n",
       "0                                0                               0   \n",
       "1                                0                               0   \n",
       "2                                0                               0   \n",
       "3                                0                               0   \n",
       "4                                0                               0   \n",
       "\n",
       "   metformin-pioglitazone_Steady  \n",
       "0                              0  \n",
       "1                              0  \n",
       "2                              0  \n",
       "3                              0  \n",
       "4                              0  \n",
       "\n",
       "[5 rows x 131 columns]"
      ]
     },
     "execution_count": 16,
     "metadata": {},
     "output_type": "execute_result"
    }
   ],
   "source": [
    "data.head()"
   ]
  },
  {
   "cell_type": "code",
   "execution_count": 17,
   "metadata": {},
   "outputs": [],
   "source": [
    "# SMOTE balancing technique is applied\n",
    "from imblearn.over_sampling import SMOTE\n",
    "# Importing test_train_split from sklearn library\n",
    "from sklearn.model_selection import train_test_split\n",
    "\n",
    "# get the predictors and target variable from dataset\n",
    "X = data.drop('readmitted', axis=1)\n",
    "y = data['readmitted']\n",
    "oversample = SMOTE()\n",
    "\n",
    "# Splitting the data into train and test\n",
    "X_train, X_test, y_train, y_test = train_test_split(X, y, test_size=0.20, random_state=101, stratify=y)\n"
   ]
  },
  {
   "cell_type": "code",
   "execution_count": 18,
   "metadata": {},
   "outputs": [
    {
     "data": {
      "text/plain": [
       "0    70421\n",
       "1     9051\n",
       "Name: readmitted, dtype: int64"
      ]
     },
     "execution_count": 18,
     "metadata": {},
     "output_type": "execute_result"
    }
   ],
   "source": [
    "y_train.value_counts()"
   ]
  },
  {
   "cell_type": "code",
   "execution_count": 22,
   "metadata": {},
   "outputs": [
    {
     "data": {
      "text/plain": [
       "<matplotlib.legend.Legend at 0x7fc361ef6d00>"
      ]
     },
     "execution_count": 22,
     "metadata": {},
     "output_type": "execute_result"
    },
    {
     "data": {
      "image/png": "[encoded data removed]",
      "text/plain": [
       "<Figure size 432x432 with 1 Axes>"
      ]
     },
     "metadata": {
      "needs_background": "light"
     },
     "output_type": "display_data"
    }
   ],
   "source": [
    "from collections import Counter\n",
    "import numpy as np\n",
    "\n",
    "X_train_1 = X_train.to_numpy()[np.where(y_train==1)]\n",
    "X_train_0 = X_train.to_numpy()[np.where(y_train==0)]\n",
    "\n",
    "plt.rcParams['figure.figsize'] = [6, 6]\n",
    "fig = plt.figure()\n",
    "plt.scatter(X_train_1[:, 0], X_train_1[:, 1], label='Actual Class-1 Examples')\n",
    "plt.scatter(X_train_0[:X_train_1.shape[0], 0], X_train_0[:X_train_1.shape[0], 1], label='Actual Class-0 Examples')\n",
    "plt.legend()"
   ]
  },
  {
   "cell_type": "code",
   "execution_count": 23,
   "metadata": {},
   "outputs": [],
   "source": [
    "X_train, y_train = oversample.fit_resample(X_train, y_train)"
   ]
  },
  {
   "cell_type": "code",
   "execution_count": 24,
   "metadata": {},
   "outputs": [
    {
     "data": {
      "text/plain": [
       "1    70421\n",
       "0    70421\n",
       "Name: readmitted, dtype: int64"
      ]
     },
     "execution_count": 24,
     "metadata": {},
     "output_type": "execute_result"
    }
   ],
   "source": [
    "y_train.value_counts()"
   ]
  },
  {
   "cell_type": "code",
   "execution_count": 25,
   "metadata": {},
   "outputs": [
    {
     "data": {
      "text/plain": [
       "<matplotlib.legend.Legend at 0x7fc312754af0>"
      ]
     },
     "execution_count": 25,
     "metadata": {},
     "output_type": "execute_result"
    },
    {
     "data": {
      "image/png": "[encoded data removed]",
      "text/plain": [
       "<Figure size 432x432 with 1 Axes>"
      ]
     },
     "metadata": {
      "needs_background": "light"
     },
     "output_type": "display_data"
    }
   ],
   "source": [
    "from collections import Counter\n",
    "import numpy as np\n",
    "\n",
    "X_train_1 = X_train.to_numpy()[np.where(y_train==1)]\n",
    "X_train_0 = X_train.to_numpy()[np.where(y_train==0)]\n",
    "\n",
    "plt.rcParams['figure.figsize'] = [6, 6]\n",
    "fig = plt.figure()\n",
    "plt.scatter(X_train_1[:, 0], X_train_1[:, 1], label='Sampled Class-1 Examples')\n",
    "plt.scatter(X_train_0[:X_train_1.shape[0], 0], X_train_0[:X_train_1.shape[0], 1], label='Sampled Class-0 Examples')\n",
    "plt.legend()"
   ]
  },
  {
   "cell_type": "code",
   "execution_count": 10,
   "metadata": {},
   "outputs": [],
   "source": [
    "# Random Forest\n",
    "\n",
    "# Let's first fit a random forest model with default hyperparameters.\n",
    "# Importing random forest classifier from sklearn library\n",
    "from sklearn.ensemble import RandomForestClassifier\n",
    "# Importing classification report and confusion matrix from sklearn metrics\n",
    "from sklearn.metrics import classification_report, confusion_matrix, accuracy_score"
   ]
  },
  {
   "cell_type": "code",
   "execution_count": 11,
   "metadata": {},
   "outputs": [],
   "source": [
    "# Running the random forest with default parameters.\n",
    "rfc = RandomForestClassifier()"
   ]
  },
  {
   "cell_type": "code",
   "execution_count": 12,
   "metadata": {},
   "outputs": [
    {
     "data": {
      "text/plain": [
       "RandomForestClassifier()"
      ]
     },
     "execution_count": 12,
     "metadata": {},
     "output_type": "execute_result"
    }
   ],
   "source": [
    "# fit the model\n",
    "rfc.fit(X_train, y_train)"
   ]
  },
  {
   "cell_type": "code",
   "execution_count": 13,
   "metadata": {},
   "outputs": [],
   "source": [
    "# predict\n",
    "predictions = rfc.predict(X_test)"
   ]
  },
  {
   "cell_type": "code",
   "execution_count": 14,
   "metadata": {},
   "outputs": [
    {
     "name": "stdout",
     "output_type": "stream",
     "text": [
      "[[17449   156]\n",
      " [ 2185    78]]\n"
     ]
    }
   ],
   "source": [
    "# Printing confusion matrix\n",
    "print(confusion_matrix(y_test,predictions))"
   ]
  },
  {
   "cell_type": "code",
   "execution_count": 15,
   "metadata": {},
   "outputs": [
    {
     "name": "stdout",
     "output_type": "stream",
     "text": [
      "0.8821723374270183\n"
     ]
    }
   ],
   "source": [
    "print(accuracy_score(y_test,predictions))"
   ]
  },
  {
   "cell_type": "code",
   "execution_count": 16,
   "metadata": {},
   "outputs": [
    {
     "name": "stdout",
     "output_type": "stream",
     "text": [
      "              precision    recall  f1-score   support\n",
      "\n",
      "           0       0.89      0.99      0.94     17605\n",
      "           1       0.33      0.03      0.06      2263\n",
      "\n",
      "    accuracy                           0.88     19868\n",
      "   macro avg       0.61      0.51      0.50     19868\n",
      "weighted avg       0.83      0.88      0.84     19868\n",
      "\n"
     ]
    }
   ],
   "source": [
    "# Let's check the report of our default model\n",
    "print(classification_report(y_test,predictions))"
   ]
  },
  {
   "cell_type": "code",
   "execution_count": 17,
   "metadata": {},
   "outputs": [],
   "source": [
    "from sklearn.model_selection import RandomizedSearchCV"
   ]
  },
  {
   "cell_type": "code",
   "execution_count": 18,
   "metadata": {},
   "outputs": [
    {
     "name": "stdout",
     "output_type": "stream",
     "text": [
      "Fitting 5 folds for each of 10 candidates, totalling 50 fits\n",
      "{'n_estimators': 900, 'min_samples_split': 300, 'min_samples_leaf': 200, 'max_features': 20, 'max_depth': 17}\n"
     ]
    }
   ],
   "source": [
    "# specify number of folds for k-fold CV\n",
    "n_folds = 5\n",
    "\n",
    "# parameters to build the model on\n",
    "param_grid = {'max_features': [4, 8, 14, 20],\n",
    "             'n_estimators': range(100, 1500, 400),\n",
    "             'max_depth': range(2, 20, 5),\n",
    "             'min_samples_leaf': range(100, 400, 50),\n",
    "             'min_samples_split': range(200, 500, 50),\n",
    "             }\n",
    "# instantiate the model \n",
    "rf = RandomForestClassifier()\n",
    "\n",
    "\n",
    "# fit tree on training data\n",
    "rf = RandomizedSearchCV(rf, param_grid, \n",
    "                  cv=n_folds, \n",
    "                  scoring=\"accuracy\",\n",
    "                  return_train_score=True,\n",
    "                  n_jobs = -1,verbose = 1)\n",
    "rf.fit(X_train, y_train)\n",
    "\n",
    "best_parameters = rf.best_params_\n",
    "print(best_parameters)"
   ]
  },
  {
   "cell_type": "code",
   "execution_count": 19,
   "metadata": {},
   "outputs": [
    {
     "data": {
      "text/html": [
       "<div>\n",
       "<style scoped>\n",
       "    .dataframe tbody tr th:only-of-type {\n",
       "        vertical-align: middle;\n",
       "    }\n",
       "\n",
       "    .dataframe tbody tr th {\n",
       "        vertical-align: top;\n",
       "    }\n",
       "\n",
       "    .dataframe thead th {\n",
       "        text-align: right;\n",
       "    }\n",
       "</style>\n",
       "<table border=\"1\" class=\"dataframe\">\n",
       "  <thead>\n",
       "    <tr style=\"text-align: right;\">\n",
       "      <th></th>\n",
       "      <th>mean_fit_time</th>\n",
       "      <th>std_fit_time</th>\n",
       "      <th>mean_score_time</th>\n",
       "      <th>std_score_time</th>\n",
       "      <th>param_n_estimators</th>\n",
       "      <th>param_min_samples_split</th>\n",
       "      <th>param_min_samples_leaf</th>\n",
       "      <th>param_max_features</th>\n",
       "      <th>param_max_depth</th>\n",
       "      <th>params</th>\n",
       "      <th>...</th>\n",
       "      <th>mean_test_score</th>\n",
       "      <th>std_test_score</th>\n",
       "      <th>rank_test_score</th>\n",
       "      <th>split0_train_score</th>\n",
       "      <th>split1_train_score</th>\n",
       "      <th>split2_train_score</th>\n",
       "      <th>split3_train_score</th>\n",
       "      <th>split4_train_score</th>\n",
       "      <th>mean_train_score</th>\n",
       "      <th>std_train_score</th>\n",
       "    </tr>\n",
       "  </thead>\n",
       "  <tbody>\n",
       "    <tr>\n",
       "      <th>0</th>\n",
       "      <td>291.675113</td>\n",
       "      <td>0.870708</td>\n",
       "      <td>5.283850</td>\n",
       "      <td>0.038777</td>\n",
       "      <td>900</td>\n",
       "      <td>350</td>\n",
       "      <td>300</td>\n",
       "      <td>14</td>\n",
       "      <td>7</td>\n",
       "      <td>{'n_estimators': 900, 'min_samples_split': 350...</td>\n",
       "      <td>...</td>\n",
       "      <td>0.799748</td>\n",
       "      <td>0.068165</td>\n",
       "      <td>7</td>\n",
       "      <td>0.859611</td>\n",
       "      <td>0.796668</td>\n",
       "      <td>0.794602</td>\n",
       "      <td>0.793617</td>\n",
       "      <td>0.793431</td>\n",
       "      <td>0.807586</td>\n",
       "      <td>0.026038</td>\n",
       "    </tr>\n",
       "    <tr>\n",
       "      <th>1</th>\n",
       "      <td>567.675311</td>\n",
       "      <td>3.150532</td>\n",
       "      <td>9.124047</td>\n",
       "      <td>0.292113</td>\n",
       "      <td>1300</td>\n",
       "      <td>400</td>\n",
       "      <td>250</td>\n",
       "      <td>14</td>\n",
       "      <td>12</td>\n",
       "      <td>{'n_estimators': 1300, 'min_samples_split': 40...</td>\n",
       "      <td>...</td>\n",
       "      <td>0.840993</td>\n",
       "      <td>0.087147</td>\n",
       "      <td>4</td>\n",
       "      <td>0.905097</td>\n",
       "      <td>0.835249</td>\n",
       "      <td>0.836875</td>\n",
       "      <td>0.836014</td>\n",
       "      <td>0.834762</td>\n",
       "      <td>0.849599</td>\n",
       "      <td>0.027758</td>\n",
       "    </tr>\n",
       "    <tr>\n",
       "      <th>2</th>\n",
       "      <td>539.304207</td>\n",
       "      <td>7.525407</td>\n",
       "      <td>7.064638</td>\n",
       "      <td>0.053772</td>\n",
       "      <td>900</td>\n",
       "      <td>250</td>\n",
       "      <td>300</td>\n",
       "      <td>20</td>\n",
       "      <td>17</td>\n",
       "      <td>{'n_estimators': 900, 'min_samples_split': 250...</td>\n",
       "      <td>...</td>\n",
       "      <td>0.845395</td>\n",
       "      <td>0.090220</td>\n",
       "      <td>2</td>\n",
       "      <td>0.909109</td>\n",
       "      <td>0.839793</td>\n",
       "      <td>0.840886</td>\n",
       "      <td>0.841206</td>\n",
       "      <td>0.838978</td>\n",
       "      <td>0.853994</td>\n",
       "      <td>0.027569</td>\n",
       "    </tr>\n",
       "    <tr>\n",
       "      <th>3</th>\n",
       "      <td>551.116306</td>\n",
       "      <td>16.471421</td>\n",
       "      <td>9.137833</td>\n",
       "      <td>0.309931</td>\n",
       "      <td>1300</td>\n",
       "      <td>250</td>\n",
       "      <td>200</td>\n",
       "      <td>14</td>\n",
       "      <td>12</td>\n",
       "      <td>{'n_estimators': 1300, 'min_samples_split': 25...</td>\n",
       "      <td>...</td>\n",
       "      <td>0.845090</td>\n",
       "      <td>0.088408</td>\n",
       "      <td>3</td>\n",
       "      <td>0.909872</td>\n",
       "      <td>0.839624</td>\n",
       "      <td>0.840939</td>\n",
       "      <td>0.838898</td>\n",
       "      <td>0.839484</td>\n",
       "      <td>0.853764</td>\n",
       "      <td>0.028062</td>\n",
       "    </tr>\n",
       "    <tr>\n",
       "      <th>4</th>\n",
       "      <td>80.130889</td>\n",
       "      <td>6.269692</td>\n",
       "      <td>4.538680</td>\n",
       "      <td>0.291028</td>\n",
       "      <td>1300</td>\n",
       "      <td>300</td>\n",
       "      <td>200</td>\n",
       "      <td>4</td>\n",
       "      <td>2</td>\n",
       "      <td>{'n_estimators': 1300, 'min_samples_split': 30...</td>\n",
       "      <td>...</td>\n",
       "      <td>0.787571</td>\n",
       "      <td>0.061753</td>\n",
       "      <td>8</td>\n",
       "      <td>0.837051</td>\n",
       "      <td>0.780932</td>\n",
       "      <td>0.779230</td>\n",
       "      <td>0.782514</td>\n",
       "      <td>0.776302</td>\n",
       "      <td>0.791206</td>\n",
       "      <td>0.023015</td>\n",
       "    </tr>\n",
       "  </tbody>\n",
       "</table>\n",
       "<p>5 rows × 25 columns</p>\n",
       "</div>"
      ],
      "text/plain": [
       "   mean_fit_time  std_fit_time  mean_score_time  std_score_time  \\\n",
       "0     291.675113      0.870708         5.283850        0.038777   \n",
       "1     567.675311      3.150532         9.124047        0.292113   \n",
       "2     539.304207      7.525407         7.064638        0.053772   \n",
       "3     551.116306     16.471421         9.137833        0.309931   \n",
       "4      80.130889      6.269692         4.538680        0.291028   \n",
       "\n",
       "  param_n_estimators param_min_samples_split param_min_samples_leaf  \\\n",
       "0                900                     350                    300   \n",
       "1               1300                     400                    250   \n",
       "2                900                     250                    300   \n",
       "3               1300                     250                    200   \n",
       "4               1300                     300                    200   \n",
       "\n",
       "  param_max_features param_max_depth  \\\n",
       "0                 14               7   \n",
       "1                 14              12   \n",
       "2                 20              17   \n",
       "3                 14              12   \n",
       "4                  4               2   \n",
       "\n",
       "                                              params  ...  mean_test_score  \\\n",
       "0  {'n_estimators': 900, 'min_samples_split': 350...  ...         0.799748   \n",
       "1  {'n_estimators': 1300, 'min_samples_split': 40...  ...         0.840993   \n",
       "2  {'n_estimators': 900, 'min_samples_split': 250...  ...         0.845395   \n",
       "3  {'n_estimators': 1300, 'min_samples_split': 25...  ...         0.845090   \n",
       "4  {'n_estimators': 1300, 'min_samples_split': 30...  ...         0.787571   \n",
       "\n",
       "   std_test_score  rank_test_score  split0_train_score  split1_train_score  \\\n",
       "0        0.068165                7            0.859611            0.796668   \n",
       "1        0.087147                4            0.905097            0.835249   \n",
       "2        0.090220                2            0.909109            0.839793   \n",
       "3        0.088408                3            0.909872            0.839624   \n",
       "4        0.061753                8            0.837051            0.780932   \n",
       "\n",
       "   split2_train_score  split3_train_score  split4_train_score  \\\n",
       "0            0.794602            0.793617            0.793431   \n",
       "1            0.836875            0.836014            0.834762   \n",
       "2            0.840886            0.841206            0.838978   \n",
       "3            0.840939            0.838898            0.839484   \n",
       "4            0.779230            0.782514            0.776302   \n",
       "\n",
       "   mean_train_score  std_train_score  \n",
       "0          0.807586         0.026038  \n",
       "1          0.849599         0.027758  \n",
       "2          0.853994         0.027569  \n",
       "3          0.853764         0.028062  \n",
       "4          0.791206         0.023015  \n",
       "\n",
       "[5 rows x 25 columns]"
      ]
     },
     "execution_count": 19,
     "metadata": {},
     "output_type": "execute_result"
    }
   ],
   "source": [
    "scores = rf.cv_results_\n",
    "pd.DataFrame(scores).head()"
   ]
  },
  {
   "cell_type": "code",
   "execution_count": 20,
   "metadata": {},
   "outputs": [
    {
     "name": "stdout",
     "output_type": "stream",
     "text": [
      "{'n_estimators': 900, 'min_samples_split': 300, 'min_samples_leaf': 200, 'max_features': 20, 'max_depth': 17}\n"
     ]
    }
   ],
   "source": [
    "# Get the best parameters\n",
    "best_parameters = rf.best_params_\n",
    "print(best_parameters)"
   ]
  },
  {
   "cell_type": "code",
   "execution_count": 21,
   "metadata": {},
   "outputs": [],
   "source": [
    "# Build the Random Forest with the best_parameters\n",
    "rf_best = RandomForestClassifier(n_estimators=best_parameters['n_estimators'],\n",
    "                                 min_samples_split=best_parameters['min_samples_split'],\n",
    "                                 min_samples_leaf=best_parameters['min_samples_leaf'],\n",
    "                                 max_features=best_parameters['max_features'],\n",
    "                                 max_depth=best_parameters['max_depth'],\n",
    "                                 criterion='gini')\n",
    "# fit the model\n",
    "rf_best.fit(X_train, y_train)\n",
    "\n",
    "# predict\n",
    "best_predictions = rf_best.predict(X_test)"
   ]
  },
  {
   "cell_type": "code",
   "execution_count": 22,
   "metadata": {},
   "outputs": [
    {
     "name": "stdout",
     "output_type": "stream",
     "text": [
      "              precision    recall  f1-score   support\n",
      "\n",
      "           0       0.89      0.93      0.91     17605\n",
      "           1       0.22      0.14      0.18      2263\n",
      "\n",
      "    accuracy                           0.84     19868\n",
      "   macro avg       0.56      0.54      0.54     19868\n",
      "weighted avg       0.82      0.84      0.83     19868\n",
      "\n"
     ]
    }
   ],
   "source": [
    "# evaluation metrics\n",
    "print(classification_report(y_test,best_predictions))"
   ]
  },
  {
   "cell_type": "code",
   "execution_count": 23,
   "metadata": {},
   "outputs": [
    {
     "name": "stdout",
     "output_type": "stream",
     "text": [
      "Accuracy_score:  0.8447251862291122\n",
      "AUC_accu = 0.539808996535276\n",
      "Precision_score =  0.2219215155615697\n",
      "recall_score =  0.1449403446752099\n"
     ]
    }
   ],
   "source": [
    "# Let's check the overall accuracy over the test dataset\n",
    "from sklearn import metrics\n",
    "from sklearn.metrics import precision_score, recall_score\n",
    "print(\"Accuracy_score: \", metrics.accuracy_score(y_test, best_predictions))\n",
    "\n",
    "print(\"AUC_accu =\", metrics.roc_auc_score(y_test, best_predictions ))\n",
    "print(\"Precision_score = \",precision_score(y_test, best_predictions))\n",
    "print(\"recall_score = \",recall_score(y_test, best_predictions))\n"
   ]
  },
  {
   "cell_type": "code",
   "execution_count": 24,
   "metadata": {},
   "outputs": [
    {
     "name": "stdout",
     "output_type": "stream",
     "text": [
      "Validation AUC Accuracy=  0.8629102286730955\n",
      "Validation Accuracy=  0.8629102090821992\n"
     ]
    },
    {
     "data": {
      "text/plain": [
       "<matplotlib.legend.Legend at 0x7faba1da8280>"
      ]
     },
     "execution_count": 24,
     "metadata": {},
     "output_type": "execute_result"
    },
    {
     "data": {
      "image/png": "[encoded data removed]",
      "text/plain": [
       "<Figure size 720x720 with 1 Axes>"
      ]
     },
     "metadata": {
      "needs_background": "light"
     },
     "output_type": "display_data"
    }
   ],
   "source": [
    "# validate the model using kfold cross validation\n",
    "from sklearn.model_selection import StratifiedKFold\n",
    "from sklearn import metrics\n",
    "\n",
    "y_train_skf = y_train.values\n",
    "X_train_skf = X_train.values\n",
    "train_score = []\n",
    "test_score = []\n",
    "splits=5\n",
    "folds=range(1,splits+1)\n",
    "val_auc_score = 0.0\n",
    "val_accracy_score = 0.0\n",
    "skf = StratifiedKFold(n_splits=splits, shuffle=True)\n",
    "for train_index, test_index in skf.split(X_train_skf, y_train_skf):\n",
    "    X_train_cv, y_train_cv = X_train_skf[train_index], y_train_skf[train_index]\n",
    "    X_test_cv, y_test_cv = X_train_skf[test_index], y_train_skf[test_index]\n",
    "    rf_val = RandomForestClassifier(n_estimators=best_parameters['n_estimators'],\n",
    "                                 min_samples_split=best_parameters['min_samples_split'],\n",
    "                                 min_samples_leaf=best_parameters['min_samples_leaf'],\n",
    "                                 max_features=best_parameters['max_features'],\n",
    "                                 max_depth=best_parameters['max_depth'],\n",
    "                                 criterion='gini')\n",
    "    rf_val.fit(X_train_cv,y_train_cv)\n",
    "    y_test_cv_predict = rf_val.predict(X_test_cv)\n",
    "    val_auc_score += metrics.roc_auc_score(y_test_cv, y_test_cv_predict)\n",
    "    val_accracy_score += metrics.accuracy_score(y_test_cv, y_test_cv_predict)\n",
    "    train_score.append(rf_val.score(X_train_cv,y_train_cv))\n",
    "    test_score.append(rf_val.score(X_test_cv,y_test_cv))\n",
    "\n",
    "print(\"Validation AUC Accuracy= \", val_auc_score/splits)\n",
    "print(\"Validation Accuracy= \", val_accracy_score/splits) \n",
    "plt.plot(folds,train_score,label= 'Accuracy on training set')\n",
    "plt.plot(folds,test_score,label= 'Accuracy on validation set')\n",
    "plt.xlabel('K fold RandomForest')\n",
    "plt.ylabel('Accuracy')\n",
    "plt.legend()"
   ]
  }
 ],
 "metadata": {
  "kernelspec": {
   "display_name": "Python 3",
   "language": "python",
   "name": "python3"
  },
  "language_info": {
   "codemirror_mode": {
    "name": "ipython",
    "version": 3
   },
   "file_extension": ".py",
   "mimetype": "text/x-python",
   "name": "python",
   "nbconvert_exporter": "python",
   "pygments_lexer": "ipython3",
   "version": "3.8.5"
  }
 },
 "nbformat": 4,
 "nbformat_minor": 4
}
