{
 "cells": [
  {
   "cell_type": "markdown",
   "metadata": {},
   "source": [
    "### Random Forest with all dummy features"
   ]
  },
  {
   "cell_type": "code",
   "execution_count": 1,
   "metadata": {},
   "outputs": [],
   "source": [
    "import pandas as pd\n",
    "import matplotlib.pyplot as plt\n",
    "from sklearn.metrics import classification_report,confusion_matrix"
   ]
  },
  {
   "cell_type": "code",
   "execution_count": 2,
   "metadata": {},
   "outputs": [
    {
     "data": {
      "text/plain": [
       "(99340, 131)"
      ]
     },
     "execution_count": 2,
     "metadata": {},
     "output_type": "execute_result"
    }
   ],
   "source": [
    "# Read the dataset\n",
    "data = pd.read_csv(\"./data_all_dfeatures.csv\")\n",
    "data.shape"
   ]
  },
  {
   "cell_type": "code",
   "execution_count": 3,
   "metadata": {},
   "outputs": [
    {
     "data": {
      "text/html": [
       "<div>\n",
       "<style scoped>\n",
       "    .dataframe tbody tr th:only-of-type {\n",
       "        vertical-align: middle;\n",
       "    }\n",
       "\n",
       "    .dataframe tbody tr th {\n",
       "        vertical-align: top;\n",
       "    }\n",
       "\n",
       "    .dataframe thead th {\n",
       "        text-align: right;\n",
       "    }\n",
       "</style>\n",
       "<table border=\"1\" class=\"dataframe\">\n",
       "  <thead>\n",
       "    <tr style=\"text-align: right;\">\n",
       "      <th></th>\n",
       "      <th>gender</th>\n",
       "      <th>age</th>\n",
       "      <th>admission_type_id</th>\n",
       "      <th>discharge_disposition_id</th>\n",
       "      <th>admission_source_id</th>\n",
       "      <th>time_in_hospital</th>\n",
       "      <th>num_lab_procedures</th>\n",
       "      <th>num_procedures</th>\n",
       "      <th>num_medications</th>\n",
       "      <th>number_outpatient</th>\n",
       "      <th>...</th>\n",
       "      <th>insulin_No</th>\n",
       "      <th>insulin_Steady</th>\n",
       "      <th>insulin_Up</th>\n",
       "      <th>glyburide-metformin_No</th>\n",
       "      <th>glyburide-metformin_Steady</th>\n",
       "      <th>glyburide-metformin_Up</th>\n",
       "      <th>glipizide-metformin_Steady</th>\n",
       "      <th>glimepiride-pioglitazone_Steady</th>\n",
       "      <th>metformin-rosiglitazone_Steady</th>\n",
       "      <th>metformin-pioglitazone_Steady</th>\n",
       "    </tr>\n",
       "  </thead>\n",
       "  <tbody>\n",
       "    <tr>\n",
       "      <th>0</th>\n",
       "      <td>0</td>\n",
       "      <td>5</td>\n",
       "      <td>5</td>\n",
       "      <td>5.779898</td>\n",
       "      <td>-1.431088</td>\n",
       "      <td>-1.138455</td>\n",
       "      <td>-0.097257</td>\n",
       "      <td>-0.783548</td>\n",
       "      <td>-1.850433</td>\n",
       "      <td>-0.40111</td>\n",
       "      <td>...</td>\n",
       "      <td>1</td>\n",
       "      <td>0</td>\n",
       "      <td>0</td>\n",
       "      <td>1</td>\n",
       "      <td>0</td>\n",
       "      <td>0</td>\n",
       "      <td>0</td>\n",
       "      <td>0</td>\n",
       "      <td>0</td>\n",
       "      <td>0</td>\n",
       "    </tr>\n",
       "    <tr>\n",
       "      <th>1</th>\n",
       "      <td>0</td>\n",
       "      <td>15</td>\n",
       "      <td>1</td>\n",
       "      <td>-0.317652</td>\n",
       "      <td>0.648827</td>\n",
       "      <td>-0.464686</td>\n",
       "      <td>0.820652</td>\n",
       "      <td>-0.783548</td>\n",
       "      <td>0.249657</td>\n",
       "      <td>-0.40111</td>\n",
       "      <td>...</td>\n",
       "      <td>0</td>\n",
       "      <td>0</td>\n",
       "      <td>1</td>\n",
       "      <td>1</td>\n",
       "      <td>0</td>\n",
       "      <td>0</td>\n",
       "      <td>0</td>\n",
       "      <td>0</td>\n",
       "      <td>0</td>\n",
       "      <td>0</td>\n",
       "    </tr>\n",
       "    <tr>\n",
       "      <th>2</th>\n",
       "      <td>0</td>\n",
       "      <td>25</td>\n",
       "      <td>1</td>\n",
       "      <td>-0.317652</td>\n",
       "      <td>0.648827</td>\n",
       "      <td>-0.801570</td>\n",
       "      <td>-1.627106</td>\n",
       "      <td>2.152858</td>\n",
       "      <td>-0.368016</td>\n",
       "      <td>2.15797</td>\n",
       "      <td>...</td>\n",
       "      <td>1</td>\n",
       "      <td>0</td>\n",
       "      <td>0</td>\n",
       "      <td>1</td>\n",
       "      <td>0</td>\n",
       "      <td>0</td>\n",
       "      <td>0</td>\n",
       "      <td>0</td>\n",
       "      <td>0</td>\n",
       "      <td>0</td>\n",
       "    </tr>\n",
       "    <tr>\n",
       "      <th>3</th>\n",
       "      <td>1</td>\n",
       "      <td>35</td>\n",
       "      <td>1</td>\n",
       "      <td>-0.317652</td>\n",
       "      <td>0.648827</td>\n",
       "      <td>-0.801570</td>\n",
       "      <td>0.055727</td>\n",
       "      <td>-0.196267</td>\n",
       "      <td>0.002588</td>\n",
       "      <td>-0.40111</td>\n",
       "      <td>...</td>\n",
       "      <td>0</td>\n",
       "      <td>0</td>\n",
       "      <td>1</td>\n",
       "      <td>1</td>\n",
       "      <td>0</td>\n",
       "      <td>0</td>\n",
       "      <td>0</td>\n",
       "      <td>0</td>\n",
       "      <td>0</td>\n",
       "      <td>0</td>\n",
       "    </tr>\n",
       "    <tr>\n",
       "      <th>4</th>\n",
       "      <td>1</td>\n",
       "      <td>45</td>\n",
       "      <td>1</td>\n",
       "      <td>-0.317652</td>\n",
       "      <td>0.648827</td>\n",
       "      <td>-1.138455</td>\n",
       "      <td>0.412692</td>\n",
       "      <td>-0.783548</td>\n",
       "      <td>-0.985690</td>\n",
       "      <td>-0.40111</td>\n",
       "      <td>...</td>\n",
       "      <td>0</td>\n",
       "      <td>1</td>\n",
       "      <td>0</td>\n",
       "      <td>1</td>\n",
       "      <td>0</td>\n",
       "      <td>0</td>\n",
       "      <td>0</td>\n",
       "      <td>0</td>\n",
       "      <td>0</td>\n",
       "      <td>0</td>\n",
       "    </tr>\n",
       "  </tbody>\n",
       "</table>\n",
       "<p>5 rows × 131 columns</p>\n",
       "</div>"
      ],
      "text/plain": [
       "   gender  age  admission_type_id  discharge_disposition_id  \\\n",
       "0       0    5                  5                  5.779898   \n",
       "1       0   15                  1                 -0.317652   \n",
       "2       0   25                  1                 -0.317652   \n",
       "3       1   35                  1                 -0.317652   \n",
       "4       1   45                  1                 -0.317652   \n",
       "\n",
       "   admission_source_id  time_in_hospital  num_lab_procedures  num_procedures  \\\n",
       "0            -1.431088         -1.138455           -0.097257       -0.783548   \n",
       "1             0.648827         -0.464686            0.820652       -0.783548   \n",
       "2             0.648827         -0.801570           -1.627106        2.152858   \n",
       "3             0.648827         -0.801570            0.055727       -0.196267   \n",
       "4             0.648827         -1.138455            0.412692       -0.783548   \n",
       "\n",
       "   num_medications  number_outpatient              ...                \\\n",
       "0        -1.850433           -0.40111              ...                 \n",
       "1         0.249657           -0.40111              ...                 \n",
       "2        -0.368016            2.15797              ...                 \n",
       "3         0.002588           -0.40111              ...                 \n",
       "4        -0.985690           -0.40111              ...                 \n",
       "\n",
       "   insulin_No  insulin_Steady  insulin_Up  glyburide-metformin_No  \\\n",
       "0           1               0           0                       1   \n",
       "1           0               0           1                       1   \n",
       "2           1               0           0                       1   \n",
       "3           0               0           1                       1   \n",
       "4           0               1           0                       1   \n",
       "\n",
       "   glyburide-metformin_Steady  glyburide-metformin_Up  \\\n",
       "0                           0                       0   \n",
       "1                           0                       0   \n",
       "2                           0                       0   \n",
       "3                           0                       0   \n",
       "4                           0                       0   \n",
       "\n",
       "   glipizide-metformin_Steady  glimepiride-pioglitazone_Steady  \\\n",
       "0                           0                                0   \n",
       "1                           0                                0   \n",
       "2                           0                                0   \n",
       "3                           0                                0   \n",
       "4                           0                                0   \n",
       "\n",
       "   metformin-rosiglitazone_Steady  metformin-pioglitazone_Steady  \n",
       "0                               0                              0  \n",
       "1                               0                              0  \n",
       "2                               0                              0  \n",
       "3                               0                              0  \n",
       "4                               0                              0  \n",
       "\n",
       "[5 rows x 131 columns]"
      ]
     },
     "execution_count": 3,
     "metadata": {},
     "output_type": "execute_result"
    }
   ],
   "source": [
    "data.head()"
   ]
  },
  {
   "cell_type": "code",
   "execution_count": 4,
   "metadata": {},
   "outputs": [],
   "source": [
    "# SMOTE balancing technique is applied\n",
    "from imblearn.over_sampling import SMOTE\n",
    "# Importing test_train_split from sklearn library\n",
    "from sklearn.model_selection import train_test_split\n",
    "\n",
    "# get the predictors and target variable from dataset\n",
    "X = data.drop('readmitted', axis=1)\n",
    "y = data['readmitted']\n",
    "oversample = SMOTE()\n",
    "\n",
    "# Splitting the data into train and test\n",
    "X_train, X_test, y_train, y_test = train_test_split(X, y, test_size=0.20, random_state=101, stratify=y)\n",
    "X_train, y_train = oversample.fit_resample(X_train, y_train)"
   ]
  },
  {
   "cell_type": "code",
   "execution_count": 5,
   "metadata": {},
   "outputs": [],
   "source": [
    "# Random Forest\n",
    "\n",
    "# Let's first fit a random forest model with default hyperparameters.\n",
    "# Importing random forest classifier from sklearn library\n",
    "from sklearn.ensemble import RandomForestClassifier\n",
    "# Importing classification report and confusion matrix from sklearn metrics\n",
    "from sklearn.metrics import classification_report, confusion_matrix, accuracy_score"
   ]
  },
  {
   "cell_type": "code",
   "execution_count": 6,
   "metadata": {},
   "outputs": [],
   "source": [
    "# Running the random forest with default parameters.\n",
    "rfc = RandomForestClassifier()"
   ]
  },
  {
   "cell_type": "code",
   "execution_count": 7,
   "metadata": {},
   "outputs": [
    {
     "data": {
      "text/plain": [
       "RandomForestClassifier()"
      ]
     },
     "execution_count": 7,
     "metadata": {},
     "output_type": "execute_result"
    }
   ],
   "source": [
    "# fit the model\n",
    "rfc.fit(X_train, y_train)"
   ]
  },
  {
   "cell_type": "code",
   "execution_count": 8,
   "metadata": {},
   "outputs": [],
   "source": [
    "# predict\n",
    "predictions = rfc.predict(X_test)"
   ]
  },
  {
   "cell_type": "code",
   "execution_count": 9,
   "metadata": {},
   "outputs": [
    {
     "name": "stdout",
     "output_type": "stream",
     "text": [
      "[[17462   143]\n",
      " [ 2189    74]]\n"
     ]
    }
   ],
   "source": [
    "# Printing confusion matrix\n",
    "print(confusion_matrix(y_test,predictions))"
   ]
  },
  {
   "cell_type": "code",
   "execution_count": 10,
   "metadata": {},
   "outputs": [
    {
     "name": "stdout",
     "output_type": "stream",
     "text": [
      "0.882625327159251\n"
     ]
    }
   ],
   "source": [
    "print(accuracy_score(y_test,predictions))"
   ]
  },
  {
   "cell_type": "code",
   "execution_count": 11,
   "metadata": {},
   "outputs": [
    {
     "name": "stdout",
     "output_type": "stream",
     "text": [
      "              precision    recall  f1-score   support\n",
      "\n",
      "           0       0.89      0.99      0.94     17605\n",
      "           1       0.34      0.03      0.06      2263\n",
      "\n",
      "    accuracy                           0.88     19868\n",
      "   macro avg       0.61      0.51      0.50     19868\n",
      "weighted avg       0.83      0.88      0.84     19868\n",
      "\n"
     ]
    }
   ],
   "source": [
    "# Let's check the report of our default model\n",
    "print(classification_report(y_test,predictions))"
   ]
  },
  {
   "cell_type": "code",
   "execution_count": 12,
   "metadata": {},
   "outputs": [],
   "source": [
    "from sklearn.model_selection import RandomizedSearchCV"
   ]
  },
  {
   "cell_type": "code",
   "execution_count": 13,
   "metadata": {},
   "outputs": [
    {
     "name": "stdout",
     "output_type": "stream",
     "text": [
      "Fitting 5 folds for each of 10 candidates, totalling 50 fits\n",
      "{'n_estimators': 900, 'min_samples_split': 300, 'min_samples_leaf': 100, 'max_features': 20, 'max_depth': 17}\n"
     ]
    }
   ],
   "source": [
    "# specify number of folds for k-fold CV\n",
    "n_folds = 5\n",
    "\n",
    "# parameters to build the model on\n",
    "param_grid = {'max_features': [4, 8, 14, 20],\n",
    "             'n_estimators': range(100, 1500, 400),\n",
    "             'max_depth': range(2, 20, 5),\n",
    "             'min_samples_leaf': range(100, 400, 50),\n",
    "             'min_samples_split': range(200, 500, 50),\n",
    "             }\n",
    "# instantiate the model \n",
    "rf = RandomForestClassifier()\n",
    "\n",
    "\n",
    "# fit tree on training data\n",
    "rf = RandomizedSearchCV(rf, param_grid, \n",
    "                  cv=n_folds, \n",
    "                  scoring=\"accuracy\",\n",
    "                  return_train_score=True,\n",
    "                  n_jobs = -1,verbose = 1)\n",
    "rf.fit(X_train, y_train)\n",
    "\n",
    "best_parameters = rf.best_params_\n",
    "print(best_parameters)"
   ]
  },
  {
   "cell_type": "code",
   "execution_count": 14,
   "metadata": {},
   "outputs": [
    {
     "data": {
      "text/html": [
       "<div>\n",
       "<style scoped>\n",
       "    .dataframe tbody tr th:only-of-type {\n",
       "        vertical-align: middle;\n",
       "    }\n",
       "\n",
       "    .dataframe tbody tr th {\n",
       "        vertical-align: top;\n",
       "    }\n",
       "\n",
       "    .dataframe thead th {\n",
       "        text-align: right;\n",
       "    }\n",
       "</style>\n",
       "<table border=\"1\" class=\"dataframe\">\n",
       "  <thead>\n",
       "    <tr style=\"text-align: right;\">\n",
       "      <th></th>\n",
       "      <th>mean_fit_time</th>\n",
       "      <th>std_fit_time</th>\n",
       "      <th>mean_score_time</th>\n",
       "      <th>std_score_time</th>\n",
       "      <th>param_n_estimators</th>\n",
       "      <th>param_min_samples_split</th>\n",
       "      <th>param_min_samples_leaf</th>\n",
       "      <th>param_max_features</th>\n",
       "      <th>param_max_depth</th>\n",
       "      <th>params</th>\n",
       "      <th>...</th>\n",
       "      <th>mean_test_score</th>\n",
       "      <th>std_test_score</th>\n",
       "      <th>rank_test_score</th>\n",
       "      <th>split0_train_score</th>\n",
       "      <th>split1_train_score</th>\n",
       "      <th>split2_train_score</th>\n",
       "      <th>split3_train_score</th>\n",
       "      <th>split4_train_score</th>\n",
       "      <th>mean_train_score</th>\n",
       "      <th>std_train_score</th>\n",
       "    </tr>\n",
       "  </thead>\n",
       "  <tbody>\n",
       "    <tr>\n",
       "      <th>0</th>\n",
       "      <td>10.522410</td>\n",
       "      <td>0.356660</td>\n",
       "      <td>0.386081</td>\n",
       "      <td>0.019490</td>\n",
       "      <td>100</td>\n",
       "      <td>350</td>\n",
       "      <td>350</td>\n",
       "      <td>8</td>\n",
       "      <td>7</td>\n",
       "      <td>{'n_estimators': 100, 'min_samples_split': 350...</td>\n",
       "      <td>...</td>\n",
       "      <td>0.804782</td>\n",
       "      <td>0.072120</td>\n",
       "      <td>7</td>\n",
       "      <td>0.861457</td>\n",
       "      <td>0.795222</td>\n",
       "      <td>0.807524</td>\n",
       "      <td>0.799625</td>\n",
       "      <td>0.792916</td>\n",
       "      <td>0.811349</td>\n",
       "      <td>0.025545</td>\n",
       "    </tr>\n",
       "    <tr>\n",
       "      <th>1</th>\n",
       "      <td>97.346365</td>\n",
       "      <td>0.947468</td>\n",
       "      <td>4.650152</td>\n",
       "      <td>0.201077</td>\n",
       "      <td>1300</td>\n",
       "      <td>300</td>\n",
       "      <td>250</td>\n",
       "      <td>4</td>\n",
       "      <td>12</td>\n",
       "      <td>{'n_estimators': 1300, 'min_samples_split': 30...</td>\n",
       "      <td>...</td>\n",
       "      <td>0.833573</td>\n",
       "      <td>0.082707</td>\n",
       "      <td>4</td>\n",
       "      <td>0.895121</td>\n",
       "      <td>0.827856</td>\n",
       "      <td>0.826136</td>\n",
       "      <td>0.825248</td>\n",
       "      <td>0.826535</td>\n",
       "      <td>0.840179</td>\n",
       "      <td>0.027484</td>\n",
       "    </tr>\n",
       "    <tr>\n",
       "      <th>2</th>\n",
       "      <td>2.853763</td>\n",
       "      <td>0.180202</td>\n",
       "      <td>0.196871</td>\n",
       "      <td>0.009361</td>\n",
       "      <td>100</td>\n",
       "      <td>200</td>\n",
       "      <td>150</td>\n",
       "      <td>4</td>\n",
       "      <td>2</td>\n",
       "      <td>{'n_estimators': 100, 'min_samples_split': 200...</td>\n",
       "      <td>...</td>\n",
       "      <td>0.768046</td>\n",
       "      <td>0.057479</td>\n",
       "      <td>10</td>\n",
       "      <td>0.802934</td>\n",
       "      <td>0.765037</td>\n",
       "      <td>0.757389</td>\n",
       "      <td>0.768687</td>\n",
       "      <td>0.755844</td>\n",
       "      <td>0.769978</td>\n",
       "      <td>0.017149</td>\n",
       "    </tr>\n",
       "    <tr>\n",
       "      <th>3</th>\n",
       "      <td>202.087237</td>\n",
       "      <td>1.203264</td>\n",
       "      <td>4.475873</td>\n",
       "      <td>0.165657</td>\n",
       "      <td>1300</td>\n",
       "      <td>200</td>\n",
       "      <td>150</td>\n",
       "      <td>14</td>\n",
       "      <td>7</td>\n",
       "      <td>{'n_estimators': 1300, 'min_samples_split': 20...</td>\n",
       "      <td>...</td>\n",
       "      <td>0.801402</td>\n",
       "      <td>0.069724</td>\n",
       "      <td>8</td>\n",
       "      <td>0.863534</td>\n",
       "      <td>0.798257</td>\n",
       "      <td>0.796084</td>\n",
       "      <td>0.795747</td>\n",
       "      <td>0.797353</td>\n",
       "      <td>0.810195</td>\n",
       "      <td>0.026685</td>\n",
       "    </tr>\n",
       "    <tr>\n",
       "      <th>4</th>\n",
       "      <td>3.040040</td>\n",
       "      <td>0.058157</td>\n",
       "      <td>0.203712</td>\n",
       "      <td>0.002017</td>\n",
       "      <td>100</td>\n",
       "      <td>300</td>\n",
       "      <td>100</td>\n",
       "      <td>4</td>\n",
       "      <td>2</td>\n",
       "      <td>{'n_estimators': 100, 'min_samples_split': 300...</td>\n",
       "      <td>...</td>\n",
       "      <td>0.776353</td>\n",
       "      <td>0.061593</td>\n",
       "      <td>9</td>\n",
       "      <td>0.822344</td>\n",
       "      <td>0.768986</td>\n",
       "      <td>0.769299</td>\n",
       "      <td>0.770755</td>\n",
       "      <td>0.771118</td>\n",
       "      <td>0.780501</td>\n",
       "      <td>0.020938</td>\n",
       "    </tr>\n",
       "  </tbody>\n",
       "</table>\n",
       "<p>5 rows × 25 columns</p>\n",
       "</div>"
      ],
      "text/plain": [
       "   mean_fit_time  std_fit_time  mean_score_time  std_score_time  \\\n",
       "0      10.522410      0.356660         0.386081        0.019490   \n",
       "1      97.346365      0.947468         4.650152        0.201077   \n",
       "2       2.853763      0.180202         0.196871        0.009361   \n",
       "3     202.087237      1.203264         4.475873        0.165657   \n",
       "4       3.040040      0.058157         0.203712        0.002017   \n",
       "\n",
       "  param_n_estimators param_min_samples_split param_min_samples_leaf  \\\n",
       "0                100                     350                    350   \n",
       "1               1300                     300                    250   \n",
       "2                100                     200                    150   \n",
       "3               1300                     200                    150   \n",
       "4                100                     300                    100   \n",
       "\n",
       "  param_max_features param_max_depth  \\\n",
       "0                  8               7   \n",
       "1                  4              12   \n",
       "2                  4               2   \n",
       "3                 14               7   \n",
       "4                  4               2   \n",
       "\n",
       "                                              params       ...         \\\n",
       "0  {'n_estimators': 100, 'min_samples_split': 350...       ...          \n",
       "1  {'n_estimators': 1300, 'min_samples_split': 30...       ...          \n",
       "2  {'n_estimators': 100, 'min_samples_split': 200...       ...          \n",
       "3  {'n_estimators': 1300, 'min_samples_split': 20...       ...          \n",
       "4  {'n_estimators': 100, 'min_samples_split': 300...       ...          \n",
       "\n",
       "   mean_test_score  std_test_score  rank_test_score  split0_train_score  \\\n",
       "0         0.804782        0.072120                7            0.861457   \n",
       "1         0.833573        0.082707                4            0.895121   \n",
       "2         0.768046        0.057479               10            0.802934   \n",
       "3         0.801402        0.069724                8            0.863534   \n",
       "4         0.776353        0.061593                9            0.822344   \n",
       "\n",
       "   split1_train_score  split2_train_score  split3_train_score  \\\n",
       "0            0.795222            0.807524            0.799625   \n",
       "1            0.827856            0.826136            0.825248   \n",
       "2            0.765037            0.757389            0.768687   \n",
       "3            0.798257            0.796084            0.795747   \n",
       "4            0.768986            0.769299            0.770755   \n",
       "\n",
       "   split4_train_score  mean_train_score  std_train_score  \n",
       "0            0.792916          0.811349         0.025545  \n",
       "1            0.826535          0.840179         0.027484  \n",
       "2            0.755844          0.769978         0.017149  \n",
       "3            0.797353          0.810195         0.026685  \n",
       "4            0.771118          0.780501         0.020938  \n",
       "\n",
       "[5 rows x 25 columns]"
      ]
     },
     "execution_count": 14,
     "metadata": {},
     "output_type": "execute_result"
    }
   ],
   "source": [
    "scores = rf.cv_results_\n",
    "pd.DataFrame(scores).head()"
   ]
  },
  {
   "cell_type": "code",
   "execution_count": 15,
   "metadata": {},
   "outputs": [
    {
     "name": "stdout",
     "output_type": "stream",
     "text": [
      "{'n_estimators': 900, 'min_samples_split': 300, 'min_samples_leaf': 100, 'max_features': 20, 'max_depth': 17}\n"
     ]
    }
   ],
   "source": [
    "# Get the best parameters\n",
    "best_parameters = rf.best_params_\n",
    "print(best_parameters)"
   ]
  },
  {
   "cell_type": "code",
   "execution_count": 16,
   "metadata": {},
   "outputs": [],
   "source": [
    "# Build the Random Forest with the best_parameters\n",
    "rf_best = RandomForestClassifier(n_estimators=best_parameters['n_estimators'],\n",
    "                                 min_samples_split=best_parameters['min_samples_split'],\n",
    "                                 min_samples_leaf=best_parameters['min_samples_leaf'],\n",
    "                                 max_features=best_parameters['max_features'],\n",
    "                                 max_depth=best_parameters['max_depth'],\n",
    "                                 criterion='gini')\n",
    "# fit the model\n",
    "rf_best.fit(X_train, y_train)\n",
    "\n",
    "# predict\n",
    "best_predictions = rf_best.predict(X_test)"
   ]
  },
  {
   "cell_type": "code",
   "execution_count": 17,
   "metadata": {},
   "outputs": [
    {
     "name": "stdout",
     "output_type": "stream",
     "text": [
      "              precision    recall  f1-score   support\n",
      "\n",
      "           0       0.89      0.95      0.92     17605\n",
      "           1       0.23      0.12      0.16      2263\n",
      "\n",
      "    accuracy                           0.85     19868\n",
      "   macro avg       0.56      0.53      0.54     19868\n",
      "weighted avg       0.82      0.85      0.83     19868\n",
      "\n"
     ]
    }
   ],
   "source": [
    "# evaluation metrics\n",
    "print(classification_report(y_test,best_predictions))"
   ]
  },
  {
   "cell_type": "code",
   "execution_count": 18,
   "metadata": {},
   "outputs": [
    {
     "name": "stdout",
     "output_type": "stream",
     "text": [
      "Accuracy_score:  0.8545902959532917\n",
      "AUC_accu = 0.5344005533116558\n",
      "Precision_score =  0.2320205479452055\n",
      "recall_score =  0.11975254087494476\n"
     ]
    }
   ],
   "source": [
    "# Let's check the overall accuracy over the test dataset\n",
    "from sklearn import metrics\n",
    "from sklearn.metrics import precision_score, recall_score\n",
    "print(\"Accuracy_score: \", metrics.accuracy_score(y_test, best_predictions))\n",
    "\n",
    "print(\"AUC_accu =\", metrics.roc_auc_score(y_test, best_predictions ))\n",
    "print(\"Precision_score = \",precision_score(y_test, best_predictions))\n",
    "print(\"recall_score = \",recall_score(y_test, best_predictions))\n"
   ]
  },
  {
   "cell_type": "code",
   "execution_count": null,
   "metadata": {},
   "outputs": [],
   "source": []
  }
 ],
 "metadata": {
  "kernelspec": {
   "display_name": "Python 3",
   "language": "python",
   "name": "python3"
  },
  "language_info": {
   "codemirror_mode": {
    "name": "ipython",
    "version": 3
   },
   "file_extension": ".py",
   "mimetype": "text/x-python",
   "name": "python",
   "nbconvert_exporter": "python",
   "pygments_lexer": "ipython3",
   "version": "3.6.6"
  }
 },
 "nbformat": 4,
 "nbformat_minor": 4
}
