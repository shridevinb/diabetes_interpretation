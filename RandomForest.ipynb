{
 "cells": [
  {
   "cell_type": "markdown",
   "metadata": {},
   "source": [
    "### Random Forest with 25 features"
   ]
  },
  {
   "cell_type": "code",
   "execution_count": 40,
   "metadata": {},
   "outputs": [],
   "source": [
    "import pandas as pd\n",
    "import matplotlib.pyplot as plt\n",
    "from sklearn.metrics import classification_report,confusion_matrix"
   ]
  },
  {
   "cell_type": "code",
   "execution_count": 58,
   "metadata": {},
   "outputs": [
    {
     "data": {
      "text/plain": [
       "(99340, 26)"
      ]
     },
     "execution_count": 58,
     "metadata": {},
     "output_type": "execute_result"
    }
   ],
   "source": [
    "# Read the dataset\n",
    "data = pd.read_csv(\"./data_top25_dfeatures.csv\")\n",
    "data.shape"
   ]
  },
  {
   "cell_type": "code",
   "execution_count": 59,
   "metadata": {},
   "outputs": [
    {
     "data": {
      "text/html": [
       "<div>\n",
       "<style scoped>\n",
       "    .dataframe tbody tr th:only-of-type {\n",
       "        vertical-align: middle;\n",
       "    }\n",
       "\n",
       "    .dataframe tbody tr th {\n",
       "        vertical-align: top;\n",
       "    }\n",
       "\n",
       "    .dataframe thead th {\n",
       "        text-align: right;\n",
       "    }\n",
       "</style>\n",
       "<table border=\"1\" class=\"dataframe\">\n",
       "  <thead>\n",
       "    <tr style=\"text-align: right;\">\n",
       "      <th></th>\n",
       "      <th>num_lab_procedures</th>\n",
       "      <th>num_medications</th>\n",
       "      <th>time_in_hospital</th>\n",
       "      <th>age</th>\n",
       "      <th>num_procedures</th>\n",
       "      <th>number_diagnoses</th>\n",
       "      <th>number_inpatient</th>\n",
       "      <th>service_utilization</th>\n",
       "      <th>admission_source_id</th>\n",
       "      <th>gender</th>\n",
       "      <th>...</th>\n",
       "      <th>diag_2_circulatory</th>\n",
       "      <th>medical_specialty_Missing</th>\n",
       "      <th>race_Caucasian</th>\n",
       "      <th>number_emergency</th>\n",
       "      <th>diag_1_circulatory</th>\n",
       "      <th>diag_3_neoplasms</th>\n",
       "      <th>medical_specialty_InternalMedicine</th>\n",
       "      <th>diag_2_neoplasms</th>\n",
       "      <th>diag_3_diabetes</th>\n",
       "      <th>readmitted</th>\n",
       "    </tr>\n",
       "  </thead>\n",
       "  <tbody>\n",
       "    <tr>\n",
       "      <th>0</th>\n",
       "      <td>-0.097257</td>\n",
       "      <td>-1.850433</td>\n",
       "      <td>-1.138455</td>\n",
       "      <td>5</td>\n",
       "      <td>-0.783548</td>\n",
       "      <td>-3.298205</td>\n",
       "      <td>-0.635213</td>\n",
       "      <td>-0.774135</td>\n",
       "      <td>-1.431088</td>\n",
       "      <td>0</td>\n",
       "      <td>...</td>\n",
       "      <td>0</td>\n",
       "      <td>0</td>\n",
       "      <td>1</td>\n",
       "      <td>-0.323034</td>\n",
       "      <td>0</td>\n",
       "      <td>0</td>\n",
       "      <td>0</td>\n",
       "      <td>0</td>\n",
       "      <td>0</td>\n",
       "      <td>0</td>\n",
       "    </tr>\n",
       "    <tr>\n",
       "      <th>1</th>\n",
       "      <td>0.820652</td>\n",
       "      <td>0.249657</td>\n",
       "      <td>-0.464686</td>\n",
       "      <td>15</td>\n",
       "      <td>-0.783548</td>\n",
       "      <td>0.823423</td>\n",
       "      <td>-0.635213</td>\n",
       "      <td>-0.774135</td>\n",
       "      <td>0.648827</td>\n",
       "      <td>0</td>\n",
       "      <td>...</td>\n",
       "      <td>0</td>\n",
       "      <td>1</td>\n",
       "      <td>1</td>\n",
       "      <td>-0.323034</td>\n",
       "      <td>0</td>\n",
       "      <td>1</td>\n",
       "      <td>0</td>\n",
       "      <td>0</td>\n",
       "      <td>0</td>\n",
       "      <td>0</td>\n",
       "    </tr>\n",
       "    <tr>\n",
       "      <th>2</th>\n",
       "      <td>-1.627106</td>\n",
       "      <td>-0.368016</td>\n",
       "      <td>-0.801570</td>\n",
       "      <td>25</td>\n",
       "      <td>2.152858</td>\n",
       "      <td>-0.722187</td>\n",
       "      <td>0.724104</td>\n",
       "      <td>1.319347</td>\n",
       "      <td>0.648827</td>\n",
       "      <td>0</td>\n",
       "      <td>...</td>\n",
       "      <td>0</td>\n",
       "      <td>1</td>\n",
       "      <td>0</td>\n",
       "      <td>-0.323034</td>\n",
       "      <td>0</td>\n",
       "      <td>0</td>\n",
       "      <td>0</td>\n",
       "      <td>0</td>\n",
       "      <td>0</td>\n",
       "      <td>0</td>\n",
       "    </tr>\n",
       "    <tr>\n",
       "      <th>3</th>\n",
       "      <td>0.055727</td>\n",
       "      <td>0.002588</td>\n",
       "      <td>-0.801570</td>\n",
       "      <td>35</td>\n",
       "      <td>-0.196267</td>\n",
       "      <td>-0.206984</td>\n",
       "      <td>-0.635213</td>\n",
       "      <td>-0.774135</td>\n",
       "      <td>0.648827</td>\n",
       "      <td>1</td>\n",
       "      <td>...</td>\n",
       "      <td>0</td>\n",
       "      <td>1</td>\n",
       "      <td>1</td>\n",
       "      <td>-0.323034</td>\n",
       "      <td>0</td>\n",
       "      <td>0</td>\n",
       "      <td>0</td>\n",
       "      <td>0</td>\n",
       "      <td>0</td>\n",
       "      <td>0</td>\n",
       "    </tr>\n",
       "    <tr>\n",
       "      <th>4</th>\n",
       "      <td>0.412692</td>\n",
       "      <td>-0.985690</td>\n",
       "      <td>-1.138455</td>\n",
       "      <td>45</td>\n",
       "      <td>-0.783548</td>\n",
       "      <td>-1.237391</td>\n",
       "      <td>-0.635213</td>\n",
       "      <td>-0.774135</td>\n",
       "      <td>0.648827</td>\n",
       "      <td>1</td>\n",
       "      <td>...</td>\n",
       "      <td>0</td>\n",
       "      <td>1</td>\n",
       "      <td>1</td>\n",
       "      <td>-0.323034</td>\n",
       "      <td>0</td>\n",
       "      <td>0</td>\n",
       "      <td>0</td>\n",
       "      <td>1</td>\n",
       "      <td>1</td>\n",
       "      <td>0</td>\n",
       "    </tr>\n",
       "  </tbody>\n",
       "</table>\n",
       "<p>5 rows × 26 columns</p>\n",
       "</div>"
      ],
      "text/plain": [
       "   num_lab_procedures  num_medications  time_in_hospital  age  num_procedures  \\\n",
       "0           -0.097257        -1.850433         -1.138455    5       -0.783548   \n",
       "1            0.820652         0.249657         -0.464686   15       -0.783548   \n",
       "2           -1.627106        -0.368016         -0.801570   25        2.152858   \n",
       "3            0.055727         0.002588         -0.801570   35       -0.196267   \n",
       "4            0.412692        -0.985690         -1.138455   45       -0.783548   \n",
       "\n",
       "   number_diagnoses  number_inpatient  service_utilization  \\\n",
       "0         -3.298205         -0.635213            -0.774135   \n",
       "1          0.823423         -0.635213            -0.774135   \n",
       "2         -0.722187          0.724104             1.319347   \n",
       "3         -0.206984         -0.635213            -0.774135   \n",
       "4         -1.237391         -0.635213            -0.774135   \n",
       "\n",
       "   admission_source_id  gender  ...  diag_2_circulatory  \\\n",
       "0            -1.431088       0  ...                   0   \n",
       "1             0.648827       0  ...                   0   \n",
       "2             0.648827       0  ...                   0   \n",
       "3             0.648827       1  ...                   0   \n",
       "4             0.648827       1  ...                   0   \n",
       "\n",
       "   medical_specialty_Missing  race_Caucasian  number_emergency  \\\n",
       "0                          0               1         -0.323034   \n",
       "1                          1               1         -0.323034   \n",
       "2                          1               0         -0.323034   \n",
       "3                          1               1         -0.323034   \n",
       "4                          1               1         -0.323034   \n",
       "\n",
       "   diag_1_circulatory  diag_3_neoplasms  medical_specialty_InternalMedicine  \\\n",
       "0                   0                 0                                   0   \n",
       "1                   0                 1                                   0   \n",
       "2                   0                 0                                   0   \n",
       "3                   0                 0                                   0   \n",
       "4                   0                 0                                   0   \n",
       "\n",
       "   diag_2_neoplasms  diag_3_diabetes  readmitted  \n",
       "0                 0                0           0  \n",
       "1                 0                0           0  \n",
       "2                 0                0           0  \n",
       "3                 0                0           0  \n",
       "4                 1                1           0  \n",
       "\n",
       "[5 rows x 26 columns]"
      ]
     },
     "execution_count": 59,
     "metadata": {},
     "output_type": "execute_result"
    }
   ],
   "source": [
    "data.head()"
   ]
  },
  {
   "cell_type": "code",
   "execution_count": 60,
   "metadata": {},
   "outputs": [],
   "source": [
    "# SMOTE balancing technique is applied\n",
    "from imblearn.over_sampling import SMOTE\n",
    "# Importing test_train_split from sklearn library\n",
    "from sklearn.model_selection import train_test_split\n",
    "\n",
    "# get the predictors and target variable from dataset\n",
    "X = data.drop('readmitted', axis=1)\n",
    "y = data['readmitted']\n",
    "oversample = SMOTE()\n",
    "\n",
    "# Splitting the data into train and test\n",
    "X_train, X_test, y_train, y_test = train_test_split(X, y, test_size=0.20, random_state=101, stratify=y)\n",
    "X_train, y_train = oversample.fit_resample(X_train, y_train)"
   ]
  },
  {
   "cell_type": "code",
   "execution_count": 61,
   "metadata": {},
   "outputs": [],
   "source": [
    "# Random Forest\n",
    "\n",
    "# Let's first fit a random forest model with default hyperparameters.\n",
    "# Importing random forest classifier from sklearn library\n",
    "from sklearn.ensemble import RandomForestClassifier\n",
    "# Importing classification report and confusion matrix from sklearn metrics\n",
    "from sklearn.metrics import classification_report, confusion_matrix, accuracy_score"
   ]
  },
  {
   "cell_type": "code",
   "execution_count": 62,
   "metadata": {},
   "outputs": [],
   "source": [
    "# Running the random forest with default parameters.\n",
    "rfc = RandomForestClassifier()"
   ]
  },
  {
   "cell_type": "code",
   "execution_count": 63,
   "metadata": {},
   "outputs": [
    {
     "data": {
      "text/plain": [
       "RandomForestClassifier()"
      ]
     },
     "execution_count": 63,
     "metadata": {},
     "output_type": "execute_result"
    }
   ],
   "source": [
    "# fit the model\n",
    "rfc.fit(X_train, y_train)"
   ]
  },
  {
   "cell_type": "code",
   "execution_count": 64,
   "metadata": {},
   "outputs": [],
   "source": [
    "# predict\n",
    "predictions = rfc.predict(X_test)"
   ]
  },
  {
   "cell_type": "code",
   "execution_count": 65,
   "metadata": {},
   "outputs": [
    {
     "name": "stdout",
     "output_type": "stream",
     "text": [
      "[[17362   243]\n",
      " [ 2157   106]]\n"
     ]
    }
   ],
   "source": [
    "# Printing confusion matrix\n",
    "print(confusion_matrix(y_test,predictions))"
   ]
  },
  {
   "cell_type": "code",
   "execution_count": 66,
   "metadata": {},
   "outputs": [
    {
     "name": "stdout",
     "output_type": "stream",
     "text": [
      "0.8792027380712704\n"
     ]
    }
   ],
   "source": [
    "print(accuracy_score(y_test,predictions))"
   ]
  },
  {
   "cell_type": "code",
   "execution_count": 67,
   "metadata": {},
   "outputs": [
    {
     "name": "stdout",
     "output_type": "stream",
     "text": [
      "              precision    recall  f1-score   support\n",
      "\n",
      "           0       0.89      0.99      0.94     17605\n",
      "           1       0.30      0.05      0.08      2263\n",
      "\n",
      "    accuracy                           0.88     19868\n",
      "   macro avg       0.60      0.52      0.51     19868\n",
      "weighted avg       0.82      0.88      0.84     19868\n",
      "\n"
     ]
    }
   ],
   "source": [
    "# Let's check the report of our default model\n",
    "print(classification_report(y_test,predictions))"
   ]
  },
  {
   "cell_type": "code",
   "execution_count": 69,
   "metadata": {},
   "outputs": [],
   "source": [
    "from sklearn.model_selection import RandomizedSearchCV"
   ]
  },
  {
   "cell_type": "code",
   "execution_count": 70,
   "metadata": {},
   "outputs": [
    {
     "name": "stdout",
     "output_type": "stream",
     "text": [
      "Fitting 5 folds for each of 10 candidates, totalling 50 fits\n",
      "{'n_estimators': 500, 'min_samples_split': 450, 'min_samples_leaf': 100, 'max_features': 14, 'max_depth': 17}\n"
     ]
    }
   ],
   "source": [
    "# specify number of folds for k-fold CV\n",
    "n_folds = 5\n",
    "\n",
    "# parameters to build the model on\n",
    "param_grid = {'max_features': [4, 8, 14, 20],\n",
    "             'n_estimators': range(100, 1500, 400),\n",
    "             'max_depth': range(2, 20, 5),\n",
    "             'min_samples_leaf': range(100, 400, 50),\n",
    "             'min_samples_split': range(200, 500, 50),\n",
    "             }\n",
    "# instantiate the model \n",
    "rf = RandomForestClassifier()\n",
    "\n",
    "\n",
    "# fit tree on training data\n",
    "rf = RandomizedSearchCV(rf, param_grid, \n",
    "                  cv=n_folds, \n",
    "                  scoring=\"accuracy\",\n",
    "                  return_train_score=True,\n",
    "                  n_jobs = -1,verbose = 1)\n",
    "rf.fit(X_train, y_train)\n",
    "\n",
    "best_parameters = rf.best_params_\n",
    "print(best_parameters)"
   ]
  },
  {
   "cell_type": "code",
   "execution_count": 71,
   "metadata": {},
   "outputs": [
    {
     "data": {
      "text/html": [
       "<div>\n",
       "<style scoped>\n",
       "    .dataframe tbody tr th:only-of-type {\n",
       "        vertical-align: middle;\n",
       "    }\n",
       "\n",
       "    .dataframe tbody tr th {\n",
       "        vertical-align: top;\n",
       "    }\n",
       "\n",
       "    .dataframe thead th {\n",
       "        text-align: right;\n",
       "    }\n",
       "</style>\n",
       "<table border=\"1\" class=\"dataframe\">\n",
       "  <thead>\n",
       "    <tr style=\"text-align: right;\">\n",
       "      <th></th>\n",
       "      <th>mean_fit_time</th>\n",
       "      <th>std_fit_time</th>\n",
       "      <th>mean_score_time</th>\n",
       "      <th>std_score_time</th>\n",
       "      <th>param_n_estimators</th>\n",
       "      <th>param_min_samples_split</th>\n",
       "      <th>param_min_samples_leaf</th>\n",
       "      <th>param_max_features</th>\n",
       "      <th>param_max_depth</th>\n",
       "      <th>params</th>\n",
       "      <th>...</th>\n",
       "      <th>mean_test_score</th>\n",
       "      <th>std_test_score</th>\n",
       "      <th>rank_test_score</th>\n",
       "      <th>split0_train_score</th>\n",
       "      <th>split1_train_score</th>\n",
       "      <th>split2_train_score</th>\n",
       "      <th>split3_train_score</th>\n",
       "      <th>split4_train_score</th>\n",
       "      <th>mean_train_score</th>\n",
       "      <th>std_train_score</th>\n",
       "    </tr>\n",
       "  </thead>\n",
       "  <tbody>\n",
       "    <tr>\n",
       "      <th>0</th>\n",
       "      <td>59.798544</td>\n",
       "      <td>0.434290</td>\n",
       "      <td>0.604027</td>\n",
       "      <td>0.046845</td>\n",
       "      <td>100</td>\n",
       "      <td>300</td>\n",
       "      <td>350</td>\n",
       "      <td>14</td>\n",
       "      <td>12</td>\n",
       "      <td>{'n_estimators': 100, 'min_samples_split': 300...</td>\n",
       "      <td>...</td>\n",
       "      <td>0.826154</td>\n",
       "      <td>0.086077</td>\n",
       "      <td>3</td>\n",
       "      <td>0.867368</td>\n",
       "      <td>0.820099</td>\n",
       "      <td>0.820589</td>\n",
       "      <td>0.819222</td>\n",
       "      <td>0.822373</td>\n",
       "      <td>0.829930</td>\n",
       "      <td>0.018747</td>\n",
       "    </tr>\n",
       "    <tr>\n",
       "      <th>1</th>\n",
       "      <td>113.357718</td>\n",
       "      <td>0.634001</td>\n",
       "      <td>3.988026</td>\n",
       "      <td>0.081820</td>\n",
       "      <td>1300</td>\n",
       "      <td>450</td>\n",
       "      <td>250</td>\n",
       "      <td>4</td>\n",
       "      <td>2</td>\n",
       "      <td>{'n_estimators': 1300, 'min_samples_split': 45...</td>\n",
       "      <td>...</td>\n",
       "      <td>0.706089</td>\n",
       "      <td>0.034384</td>\n",
       "      <td>9</td>\n",
       "      <td>0.731160</td>\n",
       "      <td>0.702404</td>\n",
       "      <td>0.701227</td>\n",
       "      <td>0.702762</td>\n",
       "      <td>0.701200</td>\n",
       "      <td>0.707751</td>\n",
       "      <td>0.011721</td>\n",
       "    </tr>\n",
       "    <tr>\n",
       "      <th>2</th>\n",
       "      <td>170.007929</td>\n",
       "      <td>1.998870</td>\n",
       "      <td>2.530532</td>\n",
       "      <td>0.091941</td>\n",
       "      <td>500</td>\n",
       "      <td>300</td>\n",
       "      <td>150</td>\n",
       "      <td>8</td>\n",
       "      <td>7</td>\n",
       "      <td>{'n_estimators': 500, 'min_samples_split': 300...</td>\n",
       "      <td>...</td>\n",
       "      <td>0.793571</td>\n",
       "      <td>0.070323</td>\n",
       "      <td>7</td>\n",
       "      <td>0.834495</td>\n",
       "      <td>0.788574</td>\n",
       "      <td>0.790129</td>\n",
       "      <td>0.787431</td>\n",
       "      <td>0.789330</td>\n",
       "      <td>0.797992</td>\n",
       "      <td>0.018273</td>\n",
       "    </tr>\n",
       "    <tr>\n",
       "      <th>3</th>\n",
       "      <td>334.596261</td>\n",
       "      <td>5.702701</td>\n",
       "      <td>7.837084</td>\n",
       "      <td>0.424925</td>\n",
       "      <td>1300</td>\n",
       "      <td>250</td>\n",
       "      <td>350</td>\n",
       "      <td>4</td>\n",
       "      <td>17</td>\n",
       "      <td>{'n_estimators': 1300, 'min_samples_split': 25...</td>\n",
       "      <td>...</td>\n",
       "      <td>0.800067</td>\n",
       "      <td>0.070654</td>\n",
       "      <td>6</td>\n",
       "      <td>0.850346</td>\n",
       "      <td>0.796704</td>\n",
       "      <td>0.795401</td>\n",
       "      <td>0.795383</td>\n",
       "      <td>0.796075</td>\n",
       "      <td>0.806782</td>\n",
       "      <td>0.021787</td>\n",
       "    </tr>\n",
       "    <tr>\n",
       "      <th>4</th>\n",
       "      <td>34.611176</td>\n",
       "      <td>1.228292</td>\n",
       "      <td>0.579777</td>\n",
       "      <td>0.019677</td>\n",
       "      <td>100</td>\n",
       "      <td>250</td>\n",
       "      <td>100</td>\n",
       "      <td>8</td>\n",
       "      <td>7</td>\n",
       "      <td>{'n_estimators': 100, 'min_samples_split': 250...</td>\n",
       "      <td>...</td>\n",
       "      <td>0.792264</td>\n",
       "      <td>0.070308</td>\n",
       "      <td>8</td>\n",
       "      <td>0.832968</td>\n",
       "      <td>0.787465</td>\n",
       "      <td>0.787919</td>\n",
       "      <td>0.791522</td>\n",
       "      <td>0.786348</td>\n",
       "      <td>0.797244</td>\n",
       "      <td>0.017946</td>\n",
       "    </tr>\n",
       "  </tbody>\n",
       "</table>\n",
       "<p>5 rows × 25 columns</p>\n",
       "</div>"
      ],
      "text/plain": [
       "   mean_fit_time  std_fit_time  mean_score_time  std_score_time  \\\n",
       "0      59.798544      0.434290         0.604027        0.046845   \n",
       "1     113.357718      0.634001         3.988026        0.081820   \n",
       "2     170.007929      1.998870         2.530532        0.091941   \n",
       "3     334.596261      5.702701         7.837084        0.424925   \n",
       "4      34.611176      1.228292         0.579777        0.019677   \n",
       "\n",
       "  param_n_estimators param_min_samples_split param_min_samples_leaf  \\\n",
       "0                100                     300                    350   \n",
       "1               1300                     450                    250   \n",
       "2                500                     300                    150   \n",
       "3               1300                     250                    350   \n",
       "4                100                     250                    100   \n",
       "\n",
       "  param_max_features param_max_depth  \\\n",
       "0                 14              12   \n",
       "1                  4               2   \n",
       "2                  8               7   \n",
       "3                  4              17   \n",
       "4                  8               7   \n",
       "\n",
       "                                              params  ...  mean_test_score  \\\n",
       "0  {'n_estimators': 100, 'min_samples_split': 300...  ...         0.826154   \n",
       "1  {'n_estimators': 1300, 'min_samples_split': 45...  ...         0.706089   \n",
       "2  {'n_estimators': 500, 'min_samples_split': 300...  ...         0.793571   \n",
       "3  {'n_estimators': 1300, 'min_samples_split': 25...  ...         0.800067   \n",
       "4  {'n_estimators': 100, 'min_samples_split': 250...  ...         0.792264   \n",
       "\n",
       "   std_test_score  rank_test_score  split0_train_score  split1_train_score  \\\n",
       "0        0.086077                3            0.867368            0.820099   \n",
       "1        0.034384                9            0.731160            0.702404   \n",
       "2        0.070323                7            0.834495            0.788574   \n",
       "3        0.070654                6            0.850346            0.796704   \n",
       "4        0.070308                8            0.832968            0.787465   \n",
       "\n",
       "   split2_train_score  split3_train_score  split4_train_score  \\\n",
       "0            0.820589            0.819222            0.822373   \n",
       "1            0.701227            0.702762            0.701200   \n",
       "2            0.790129            0.787431            0.789330   \n",
       "3            0.795401            0.795383            0.796075   \n",
       "4            0.787919            0.791522            0.786348   \n",
       "\n",
       "   mean_train_score  std_train_score  \n",
       "0          0.829930         0.018747  \n",
       "1          0.707751         0.011721  \n",
       "2          0.797992         0.018273  \n",
       "3          0.806782         0.021787  \n",
       "4          0.797244         0.017946  \n",
       "\n",
       "[5 rows x 25 columns]"
      ]
     },
     "execution_count": 71,
     "metadata": {},
     "output_type": "execute_result"
    }
   ],
   "source": [
    "scores = rf.cv_results_\n",
    "pd.DataFrame(scores).head()"
   ]
  },
  {
   "cell_type": "code",
   "execution_count": 72,
   "metadata": {},
   "outputs": [
    {
     "name": "stdout",
     "output_type": "stream",
     "text": [
      "{'n_estimators': 500, 'min_samples_split': 450, 'min_samples_leaf': 100, 'max_features': 14, 'max_depth': 17}\n"
     ]
    }
   ],
   "source": [
    "# Get the best parameters\n",
    "best_parameters = rf.best_params_\n",
    "print(best_parameters)"
   ]
  },
  {
   "cell_type": "code",
   "execution_count": 73,
   "metadata": {},
   "outputs": [],
   "source": [
    "# Build the Random Forest with the best_parameters\n",
    "rf_best = RandomForestClassifier(n_estimators=best_parameters['n_estimators'],\n",
    "                                 min_samples_split=best_parameters['min_samples_split'],\n",
    "                                 min_samples_leaf=best_parameters['min_samples_leaf'],\n",
    "                                 max_features=best_parameters['max_features'],\n",
    "                                 max_depth=best_parameters['max_depth'],\n",
    "                                 criterion='gini')\n",
    "# fit the model\n",
    "rf_best.fit(X_train, y_train)\n",
    "\n",
    "# predict\n",
    "best_predictions = rf_best.predict(X_test)"
   ]
  },
  {
   "cell_type": "code",
   "execution_count": 76,
   "metadata": {},
   "outputs": [
    {
     "name": "stdout",
     "output_type": "stream",
     "text": [
      "Validation Accuracy=  0.8587282386113362\n"
     ]
    },
    {
     "data": {
      "text/plain": [
       "<matplotlib.legend.Legend at 0x7fe1311cd9a0>"
      ]
     },
     "execution_count": 76,
     "metadata": {},
     "output_type": "execute_result"
    },
    {
     "data": {
      "image/png": "[encoded data removed]",
      "text/plain": [
       "<Figure size 432x288 with 1 Axes>"
      ]
     },
     "metadata": {
      "needs_background": "light"
     },
     "output_type": "display_data"
    }
   ],
   "source": [
    "# validate the model using kfold cross validation\n",
    "from sklearn.model_selection import StratifiedKFold\n",
    "from sklearn import metrics\n",
    "\n",
    "y_train_skf = y_train.values\n",
    "X_train_skf = X_train.values\n",
    "train_score = []\n",
    "test_score = []\n",
    "splits=5\n",
    "folds=range(1,splits+1)\n",
    "val_score = 0.0\n",
    "skf = StratifiedKFold(n_splits=splits, shuffle=True)\n",
    "for train_index, test_index in skf.split(X_train_skf, y_train_skf):\n",
    "    X_train_cv, y_train_cv = X_train_skf[train_index], y_train_skf[train_index]\n",
    "    X_test_cv, y_test_cv = X_train_skf[test_index], y_train_skf[test_index]\n",
    "    rf_val = RandomForestClassifier(n_estimators=best_parameters['n_estimators'],\n",
    "                                 min_samples_split=best_parameters['min_samples_split'],\n",
    "                                 min_samples_leaf=best_parameters['min_samples_leaf'],\n",
    "                                 max_features=best_parameters['max_features'],\n",
    "                                 max_depth=best_parameters['max_depth'],\n",
    "                                 criterion='gini')\n",
    "    rf_val.fit(X_train_cv,y_train_cv)\n",
    "    y_test_cv_predict = rf_val.predict(X_test_cv)\n",
    "    val_score += metrics.roc_auc_score(y_test_cv, y_test_cv_predict)\n",
    "    train_score.append(rf_val.score(X_train_cv,y_train_cv))\n",
    "    test_score.append(rf_val.score(X_test_cv,y_test_cv))\n",
    "\n",
    "print(\"Validation Accuracy= \", val_score/splits)    \n",
    "plt.plot(folds,train_score,label= 'Accuracy on training set')\n",
    "plt.plot(folds,test_score,label= 'Accuracy on validation set')\n",
    "plt.xlabel('K fold RandomForest')\n",
    "plt.ylabel('Accuracy')\n",
    "plt.legend()"
   ]
  },
  {
   "cell_type": "code",
   "execution_count": 74,
   "metadata": {},
   "outputs": [
    {
     "name": "stdout",
     "output_type": "stream",
     "text": [
      "              precision    recall  f1-score   support\n",
      "\n",
      "           0       0.89      0.97      0.93     17605\n",
      "           1       0.29      0.10      0.15      2263\n",
      "\n",
      "    accuracy                           0.87     19868\n",
      "   macro avg       0.59      0.53      0.54     19868\n",
      "weighted avg       0.82      0.87      0.84     19868\n",
      "\n"
     ]
    }
   ],
   "source": [
    "# evaluation metrics\n",
    "print(classification_report(y_test,best_predictions))"
   ]
  },
  {
   "cell_type": "code",
   "execution_count": 75,
   "metadata": {},
   "outputs": [
    {
     "name": "stdout",
     "output_type": "stream",
     "text": [
      "Accuracy_score:  0.8694382927320314\n",
      "AUC_accu = 0.533729257558619\n",
      "Precision_score =  0.28754813863928114\n",
      "recall_score =  0.09898365002209457\n"
     ]
    }
   ],
   "source": [
    "# Let's check the overall accuracy over the test dataset\n",
    "from sklearn import metrics\n",
    "from sklearn.metrics import precision_score, recall_score\n",
    "print(\"Accuracy_score: \", metrics.accuracy_score(y_test, best_predictions))\n",
    "\n",
    "print(\"AUC_accu =\", metrics.roc_auc_score(y_test, best_predictions ))\n",
    "print(\"Precision_score = \",precision_score(y_test, best_predictions))\n",
    "print(\"recall_score = \",recall_score(y_test, best_predictions))\n"
   ]
  },
  {
   "cell_type": "markdown",
   "metadata": {},
   "source": [
    "### Build the model using stratifiedsplit"
   ]
  },
  {
   "cell_type": "code",
   "execution_count": 81,
   "metadata": {},
   "outputs": [
    {
     "data": {
      "text/plain": [
       "(99340, 26)"
      ]
     },
     "execution_count": 81,
     "metadata": {},
     "output_type": "execute_result"
    }
   ],
   "source": [
    "# Read the dataset\n",
    "data = pd.read_csv(\"./data_top25_dfeatures.csv\")\n",
    "data.shape"
   ]
  },
  {
   "cell_type": "code",
   "execution_count": 127,
   "metadata": {},
   "outputs": [],
   "source": [
    "# SMOTE balancing technique is applied\n",
    "from imblearn.over_sampling import SMOTE\n",
    "# Importing test_train_split from sklearn library\n",
    "from sklearn.model_selection import StratifiedShuffleSplit\n",
    "\n",
    "# Get the predictors and target variable\n",
    "y = data['readmitted'].values\n",
    "X = data.drop(['readmitted'], axis=1).values\n",
    "\n",
    "oversample = SMOTE(random_state=0, sampling_strategy=0.5)\n",
    "# split the data into train/test \n",
    "strf_split = StratifiedShuffleSplit(n_splits=10, test_size=0.20, random_state=0)\n",
    "for train_index, test_index in strf_split.split(X, y):\n",
    "    X_train, X_test = X[train_index], X[test_index]\n",
    "    y_train, y_test = y[train_index], y[test_index]"
   ]
  },
  {
   "cell_type": "code",
   "execution_count": 128,
   "metadata": {},
   "outputs": [],
   "source": [
    "X_train_str, y_train_str = oversample.fit_resample(X_train, y_train)"
   ]
  },
  {
   "cell_type": "code",
   "execution_count": 129,
   "metadata": {},
   "outputs": [],
   "source": [
    "# Random Forest\n",
    "\n",
    "# Let's first fit a random forest model with default hyperparameters.\n",
    "# Importing random forest classifier from sklearn library\n",
    "from sklearn.ensemble import RandomForestClassifier\n",
    "# Importing classification report and confusion matrix from sklearn metrics\n",
    "from sklearn.metrics import classification_report, confusion_matrix, accuracy_score"
   ]
  },
  {
   "cell_type": "code",
   "execution_count": 130,
   "metadata": {},
   "outputs": [],
   "source": [
    "rfc = RandomForestClassifier()"
   ]
  },
  {
   "cell_type": "code",
   "execution_count": 131,
   "metadata": {},
   "outputs": [
    {
     "data": {
      "text/plain": [
       "RandomForestClassifier()"
      ]
     },
     "execution_count": 131,
     "metadata": {},
     "output_type": "execute_result"
    }
   ],
   "source": [
    "rfc.fit(X_train_str, y_train_str)"
   ]
  },
  {
   "cell_type": "code",
   "execution_count": 132,
   "metadata": {},
   "outputs": [],
   "source": [
    "# predict\n",
    "predictions = rfc.predict(X_test)"
   ]
  },
  {
   "cell_type": "code",
   "execution_count": 133,
   "metadata": {},
   "outputs": [
    {
     "name": "stdout",
     "output_type": "stream",
     "text": [
      "Accuracy_score:  0.8851419367827662\n",
      "AUC_accu = 0.5052367193217189\n",
      "Precision_score =  0.379746835443038\n",
      "recall_score =  0.013256738842244807\n"
     ]
    }
   ],
   "source": [
    "# Let's check the overall accuracy over the test dataset\n",
    "from sklearn import metrics\n",
    "from sklearn.metrics import precision_score, recall_score\n",
    "print(\"Accuracy_score: \", metrics.accuracy_score(y_test, predictions))\n",
    "\n",
    "print(\"AUC_accu =\", metrics.roc_auc_score(y_test, predictions ))\n",
    "print(\"Precision_score = \",precision_score(y_test, predictions))\n",
    "print(\"recall_score = \",recall_score(y_test, predictions))"
   ]
  },
  {
   "cell_type": "code",
   "execution_count": null,
   "metadata": {},
   "outputs": [],
   "source": []
  }
 ],
 "metadata": {
  "kernelspec": {
   "display_name": "Python 3",
   "language": "python",
   "name": "python3"
  },
  "language_info": {
   "codemirror_mode": {
    "name": "ipython",
    "version": 3
   },
   "file_extension": ".py",
   "mimetype": "text/x-python",
   "name": "python",
   "nbconvert_exporter": "python",
   "pygments_lexer": "ipython3",
   "version": "3.8.5"
  }
 },
 "nbformat": 4,
 "nbformat_minor": 4
}
