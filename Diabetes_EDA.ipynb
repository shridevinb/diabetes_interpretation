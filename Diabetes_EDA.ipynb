{
 "cells": [
  {
   "cell_type": "markdown",
   "metadata": {},
   "source": [
    "# Diabetes Prediction "
   ]
  },
  {
   "cell_type": "markdown",
   "metadata": {},
   "source": [
    "Import the Libraries"
   ]
  },
  {
   "cell_type": "code",
   "execution_count": 1,
   "metadata": {},
   "outputs": [],
   "source": [
    "# Python libraries\n",
    "import pandas as pd\n",
    "import numpy as np\n",
    "import seaborn as sns\n",
    "import matplotlib.pyplot as plt\n",
    "\n",
    "#ignore warning messages \n",
    "import warnings\n",
    "warnings.filterwarnings('ignore')\n",
    "\n",
    "# Importing test_train_split from sklearn library\n",
    "from sklearn.model_selection import train_test_split\n",
    "from sklearn.ensemble import RandomForestClassifier"
   ]
  },
  {
   "cell_type": "markdown",
   "metadata": {},
   "source": [
    "### Read the data from csv file"
   ]
  },
  {
   "cell_type": "code",
   "execution_count": 2,
   "metadata": {},
   "outputs": [],
   "source": [
    "data = pd.read_csv('./dataset_diabetes/diabetic_data.csv')"
   ]
  },
  {
   "cell_type": "code",
   "execution_count": 3,
   "metadata": {},
   "outputs": [
    {
     "data": {
      "text/html": [
       "<div>\n",
       "<style scoped>\n",
       "    .dataframe tbody tr th:only-of-type {\n",
       "        vertical-align: middle;\n",
       "    }\n",
       "\n",
       "    .dataframe tbody tr th {\n",
       "        vertical-align: top;\n",
       "    }\n",
       "\n",
       "    .dataframe thead th {\n",
       "        text-align: right;\n",
       "    }\n",
       "</style>\n",
       "<table border=\"1\" class=\"dataframe\">\n",
       "  <thead>\n",
       "    <tr style=\"text-align: right;\">\n",
       "      <th></th>\n",
       "      <th>encounter_id</th>\n",
       "      <th>patient_nbr</th>\n",
       "      <th>race</th>\n",
       "      <th>gender</th>\n",
       "      <th>age</th>\n",
       "      <th>weight</th>\n",
       "      <th>admission_type_id</th>\n",
       "      <th>discharge_disposition_id</th>\n",
       "      <th>admission_source_id</th>\n",
       "      <th>time_in_hospital</th>\n",
       "      <th>...</th>\n",
       "      <th>citoglipton</th>\n",
       "      <th>insulin</th>\n",
       "      <th>glyburide-metformin</th>\n",
       "      <th>glipizide-metformin</th>\n",
       "      <th>glimepiride-pioglitazone</th>\n",
       "      <th>metformin-rosiglitazone</th>\n",
       "      <th>metformin-pioglitazone</th>\n",
       "      <th>change</th>\n",
       "      <th>diabetesMed</th>\n",
       "      <th>readmitted</th>\n",
       "    </tr>\n",
       "  </thead>\n",
       "  <tbody>\n",
       "    <tr>\n",
       "      <th>0</th>\n",
       "      <td>2278392</td>\n",
       "      <td>8222157</td>\n",
       "      <td>Caucasian</td>\n",
       "      <td>Female</td>\n",
       "      <td>[0-10)</td>\n",
       "      <td>?</td>\n",
       "      <td>6</td>\n",
       "      <td>25</td>\n",
       "      <td>1</td>\n",
       "      <td>1</td>\n",
       "      <td>...</td>\n",
       "      <td>No</td>\n",
       "      <td>No</td>\n",
       "      <td>No</td>\n",
       "      <td>No</td>\n",
       "      <td>No</td>\n",
       "      <td>No</td>\n",
       "      <td>No</td>\n",
       "      <td>No</td>\n",
       "      <td>No</td>\n",
       "      <td>NO</td>\n",
       "    </tr>\n",
       "    <tr>\n",
       "      <th>1</th>\n",
       "      <td>149190</td>\n",
       "      <td>55629189</td>\n",
       "      <td>Caucasian</td>\n",
       "      <td>Female</td>\n",
       "      <td>[10-20)</td>\n",
       "      <td>?</td>\n",
       "      <td>1</td>\n",
       "      <td>1</td>\n",
       "      <td>7</td>\n",
       "      <td>3</td>\n",
       "      <td>...</td>\n",
       "      <td>No</td>\n",
       "      <td>Up</td>\n",
       "      <td>No</td>\n",
       "      <td>No</td>\n",
       "      <td>No</td>\n",
       "      <td>No</td>\n",
       "      <td>No</td>\n",
       "      <td>Ch</td>\n",
       "      <td>Yes</td>\n",
       "      <td>&gt;30</td>\n",
       "    </tr>\n",
       "    <tr>\n",
       "      <th>2</th>\n",
       "      <td>64410</td>\n",
       "      <td>86047875</td>\n",
       "      <td>AfricanAmerican</td>\n",
       "      <td>Female</td>\n",
       "      <td>[20-30)</td>\n",
       "      <td>?</td>\n",
       "      <td>1</td>\n",
       "      <td>1</td>\n",
       "      <td>7</td>\n",
       "      <td>2</td>\n",
       "      <td>...</td>\n",
       "      <td>No</td>\n",
       "      <td>No</td>\n",
       "      <td>No</td>\n",
       "      <td>No</td>\n",
       "      <td>No</td>\n",
       "      <td>No</td>\n",
       "      <td>No</td>\n",
       "      <td>No</td>\n",
       "      <td>Yes</td>\n",
       "      <td>NO</td>\n",
       "    </tr>\n",
       "    <tr>\n",
       "      <th>3</th>\n",
       "      <td>500364</td>\n",
       "      <td>82442376</td>\n",
       "      <td>Caucasian</td>\n",
       "      <td>Male</td>\n",
       "      <td>[30-40)</td>\n",
       "      <td>?</td>\n",
       "      <td>1</td>\n",
       "      <td>1</td>\n",
       "      <td>7</td>\n",
       "      <td>2</td>\n",
       "      <td>...</td>\n",
       "      <td>No</td>\n",
       "      <td>Up</td>\n",
       "      <td>No</td>\n",
       "      <td>No</td>\n",
       "      <td>No</td>\n",
       "      <td>No</td>\n",
       "      <td>No</td>\n",
       "      <td>Ch</td>\n",
       "      <td>Yes</td>\n",
       "      <td>NO</td>\n",
       "    </tr>\n",
       "    <tr>\n",
       "      <th>4</th>\n",
       "      <td>16680</td>\n",
       "      <td>42519267</td>\n",
       "      <td>Caucasian</td>\n",
       "      <td>Male</td>\n",
       "      <td>[40-50)</td>\n",
       "      <td>?</td>\n",
       "      <td>1</td>\n",
       "      <td>1</td>\n",
       "      <td>7</td>\n",
       "      <td>1</td>\n",
       "      <td>...</td>\n",
       "      <td>No</td>\n",
       "      <td>Steady</td>\n",
       "      <td>No</td>\n",
       "      <td>No</td>\n",
       "      <td>No</td>\n",
       "      <td>No</td>\n",
       "      <td>No</td>\n",
       "      <td>Ch</td>\n",
       "      <td>Yes</td>\n",
       "      <td>NO</td>\n",
       "    </tr>\n",
       "  </tbody>\n",
       "</table>\n",
       "<p>5 rows × 50 columns</p>\n",
       "</div>"
      ],
      "text/plain": [
       "   encounter_id  patient_nbr             race  gender      age weight  \\\n",
       "0       2278392      8222157        Caucasian  Female   [0-10)      ?   \n",
       "1        149190     55629189        Caucasian  Female  [10-20)      ?   \n",
       "2         64410     86047875  AfricanAmerican  Female  [20-30)      ?   \n",
       "3        500364     82442376        Caucasian    Male  [30-40)      ?   \n",
       "4         16680     42519267        Caucasian    Male  [40-50)      ?   \n",
       "\n",
       "   admission_type_id  discharge_disposition_id  admission_source_id  \\\n",
       "0                  6                        25                    1   \n",
       "1                  1                         1                    7   \n",
       "2                  1                         1                    7   \n",
       "3                  1                         1                    7   \n",
       "4                  1                         1                    7   \n",
       "\n",
       "   time_in_hospital  ... citoglipton insulin  glyburide-metformin  \\\n",
       "0                 1  ...          No      No                   No   \n",
       "1                 3  ...          No      Up                   No   \n",
       "2                 2  ...          No      No                   No   \n",
       "3                 2  ...          No      Up                   No   \n",
       "4                 1  ...          No  Steady                   No   \n",
       "\n",
       "   glipizide-metformin  glimepiride-pioglitazone  metformin-rosiglitazone  \\\n",
       "0                   No                        No                       No   \n",
       "1                   No                        No                       No   \n",
       "2                   No                        No                       No   \n",
       "3                   No                        No                       No   \n",
       "4                   No                        No                       No   \n",
       "\n",
       "   metformin-pioglitazone  change diabetesMed readmitted  \n",
       "0                      No      No          No         NO  \n",
       "1                      No      Ch         Yes        >30  \n",
       "2                      No      No         Yes         NO  \n",
       "3                      No      Ch         Yes         NO  \n",
       "4                      No      Ch         Yes         NO  \n",
       "\n",
       "[5 rows x 50 columns]"
      ]
     },
     "execution_count": 3,
     "metadata": {},
     "output_type": "execute_result"
    }
   ],
   "source": [
    "data.head()"
   ]
  },
  {
   "cell_type": "code",
   "execution_count": 4,
   "metadata": {},
   "outputs": [
    {
     "name": "stdout",
     "output_type": "stream",
     "text": [
      "<class 'pandas.core.frame.DataFrame'>\n",
      "RangeIndex: 101766 entries, 0 to 101765\n",
      "Data columns (total 50 columns):\n",
      " #   Column                    Non-Null Count   Dtype \n",
      "---  ------                    --------------   ----- \n",
      " 0   encounter_id              101766 non-null  int64 \n",
      " 1   patient_nbr               101766 non-null  int64 \n",
      " 2   race                      101766 non-null  object\n",
      " 3   gender                    101766 non-null  object\n",
      " 4   age                       101766 non-null  object\n",
      " 5   weight                    101766 non-null  object\n",
      " 6   admission_type_id         101766 non-null  int64 \n",
      " 7   discharge_disposition_id  101766 non-null  int64 \n",
      " 8   admission_source_id       101766 non-null  int64 \n",
      " 9   time_in_hospital          101766 non-null  int64 \n",
      " 10  payer_code                101766 non-null  object\n",
      " 11  medical_specialty         101766 non-null  object\n",
      " 12  num_lab_procedures        101766 non-null  int64 \n",
      " 13  num_procedures            101766 non-null  int64 \n",
      " 14  num_medications           101766 non-null  int64 \n",
      " 15  number_outpatient         101766 non-null  int64 \n",
      " 16  number_emergency          101766 non-null  int64 \n",
      " 17  number_inpatient          101766 non-null  int64 \n",
      " 18  diag_1                    101766 non-null  object\n",
      " 19  diag_2                    101766 non-null  object\n",
      " 20  diag_3                    101766 non-null  object\n",
      " 21  number_diagnoses          101766 non-null  int64 \n",
      " 22  max_glu_serum             101766 non-null  object\n",
      " 23  A1Cresult                 101766 non-null  object\n",
      " 24  metformin                 101766 non-null  object\n",
      " 25  repaglinide               101766 non-null  object\n",
      " 26  nateglinide               101766 non-null  object\n",
      " 27  chlorpropamide            101766 non-null  object\n",
      " 28  glimepiride               101766 non-null  object\n",
      " 29  acetohexamide             101766 non-null  object\n",
      " 30  glipizide                 101766 non-null  object\n",
      " 31  glyburide                 101766 non-null  object\n",
      " 32  tolbutamide               101766 non-null  object\n",
      " 33  pioglitazone              101766 non-null  object\n",
      " 34  rosiglitazone             101766 non-null  object\n",
      " 35  acarbose                  101766 non-null  object\n",
      " 36  miglitol                  101766 non-null  object\n",
      " 37  troglitazone              101766 non-null  object\n",
      " 38  tolazamide                101766 non-null  object\n",
      " 39  examide                   101766 non-null  object\n",
      " 40  citoglipton               101766 non-null  object\n",
      " 41  insulin                   101766 non-null  object\n",
      " 42  glyburide-metformin       101766 non-null  object\n",
      " 43  glipizide-metformin       101766 non-null  object\n",
      " 44  glimepiride-pioglitazone  101766 non-null  object\n",
      " 45  metformin-rosiglitazone   101766 non-null  object\n",
      " 46  metformin-pioglitazone    101766 non-null  object\n",
      " 47  change                    101766 non-null  object\n",
      " 48  diabetesMed               101766 non-null  object\n",
      " 49  readmitted                101766 non-null  object\n",
      "dtypes: int64(13), object(37)\n",
      "memory usage: 38.8+ MB\n"
     ]
    }
   ],
   "source": [
    "data.info()"
   ]
  },
  {
   "cell_type": "code",
   "execution_count": 5,
   "metadata": {},
   "outputs": [
    {
     "name": "stdout",
     "output_type": "stream",
     "text": [
      "Diabetes dataset dimensions : (101766, 50)\n"
     ]
    }
   ],
   "source": [
    "print(\"Diabetes dataset dimensions : {}\".format(data.shape))"
   ]
  },
  {
   "cell_type": "code",
   "execution_count": 6,
   "metadata": {},
   "outputs": [],
   "source": [
    "# Drop the columns irrelevant to the study, 'encounter_id', 'patient_nbr'\n",
    "data.drop(['encounter_id', 'patient_nbr'], inplace=True, axis=1)\n"
   ]
  },
  {
   "cell_type": "code",
   "execution_count": 7,
   "metadata": {},
   "outputs": [
    {
     "data": {
      "text/plain": [
       "readmitted\n",
       "<30    11357\n",
       ">30    35545\n",
       "NO     54864\n",
       "dtype: int64"
      ]
     },
     "execution_count": 7,
     "metadata": {},
     "output_type": "execute_result"
    }
   ],
   "source": [
    "# Distribution of the target variable\n",
    "\n",
    "data.groupby('readmitted').size()"
   ]
  },
  {
   "cell_type": "code",
   "execution_count": 8,
   "metadata": {},
   "outputs": [],
   "source": [
    "data['readmitted'] = data['readmitted'].apply(lambda x: '1' if x=='<30' else 0)"
   ]
  },
  {
   "cell_type": "code",
   "execution_count": 9,
   "metadata": {},
   "outputs": [
    {
     "data": {
      "text/plain": [
       "0    90409\n",
       "1    11357\n",
       "Name: readmitted, dtype: int64"
      ]
     },
     "execution_count": 9,
     "metadata": {},
     "output_type": "execute_result"
    }
   ],
   "source": [
    "data['readmitted'].value_counts()"
   ]
  },
  {
   "cell_type": "code",
   "execution_count": 10,
   "metadata": {},
   "outputs": [
    {
     "data": {
      "text/plain": [
       "array([[<AxesSubplot:title={'center':'admission_type_id'}>,\n",
       "        <AxesSubplot:title={'center':'discharge_disposition_id'}>,\n",
       "        <AxesSubplot:title={'center':'admission_source_id'}>],\n",
       "       [<AxesSubplot:title={'center':'time_in_hospital'}>,\n",
       "        <AxesSubplot:title={'center':'num_lab_procedures'}>,\n",
       "        <AxesSubplot:title={'center':'num_procedures'}>],\n",
       "       [<AxesSubplot:title={'center':'num_medications'}>,\n",
       "        <AxesSubplot:title={'center':'number_outpatient'}>,\n",
       "        <AxesSubplot:title={'center':'number_emergency'}>],\n",
       "       [<AxesSubplot:title={'center':'number_inpatient'}>,\n",
       "        <AxesSubplot:title={'center':'number_diagnoses'}>,\n",
       "        <AxesSubplot:>]], dtype=object)"
      ]
     },
     "execution_count": 10,
     "metadata": {},
     "output_type": "execute_result"
    },
    {
     "data": {
      "image/png": "[encoded data removed]",
      "text/plain": [
       "<Figure size 864x864 with 12 Axes>"
      ]
     },
     "metadata": {
      "needs_background": "light"
     },
     "output_type": "display_data"
    }
   ],
   "source": [
    "data.hist(figsize=(12, 12))"
   ]
  },
  {
   "cell_type": "code",
   "execution_count": 11,
   "metadata": {},
   "outputs": [
    {
     "data": {
      "text/plain": [
       "readmitted\n",
       "0    [[AxesSubplot(0.125,0.725918;0.215278x0.154082...\n",
       "1    [[AxesSubplot(0.125,0.725918;0.215278x0.154082...\n",
       "dtype: object"
      ]
     },
     "execution_count": 11,
     "metadata": {},
     "output_type": "execute_result"
    },
    {
     "data": {
      "image/png": "[encoded data removed]",
      "text/plain": [
       "<Figure size 864x864 with 12 Axes>"
      ]
     },
     "metadata": {
      "needs_background": "light"
     },
     "output_type": "display_data"
    },
    {
     "data": {
      "image/png": "[encoded data removed]",
      "text/plain": [
       "<Figure size 864x864 with 12 Axes>"
      ]
     },
     "metadata": {
      "needs_background": "light"
     },
     "output_type": "display_data"
    }
   ],
   "source": [
    "# Plot the graph\n",
    "data.groupby('readmitted').hist(figsize=(12, 12))"
   ]
  },
  {
   "cell_type": "code",
   "execution_count": 12,
   "metadata": {},
   "outputs": [
    {
     "data": {
      "text/plain": [
       "<AxesSubplot:xlabel='number_outpatient', ylabel='Density'>"
      ]
     },
     "execution_count": 12,
     "metadata": {},
     "output_type": "execute_result"
    },
    {
     "data": {
      "image/png": "[encoded data removed]",
      "text/plain": [
       "<Figure size 1152x432 with 8 Axes>"
      ]
     },
     "metadata": {
      "needs_background": "light"
     },
     "output_type": "display_data"
    }
   ],
   "source": [
    "# plot the distribution of a variable from the dataset to see the skewness\n",
    "# subplots\n",
    "\n",
    "# subplot 1\n",
    "plt.figure(figsize=(16, 6))\n",
    "plt.subplot(2, 4, 1)\n",
    "sns.distplot(data['number_emergency'])\n",
    "\n",
    "# subplot 2\n",
    "plt.subplot(2, 4, 2)\n",
    "sns.distplot(data['number_inpatient'])\n",
    "\n",
    "# subplot 3\n",
    "plt.subplot(2, 4, 3)\n",
    "sns.distplot(data['number_diagnoses'])\n",
    "\n",
    "# subplot 4\n",
    "plt.subplot(2, 4, 4)\n",
    "sns.distplot(data['time_in_hospital'])\n",
    "\n",
    "plt.subplot(2, 4, 5)\n",
    "sns.distplot(data['num_lab_procedures'])\n",
    "\n",
    "plt.subplot(2, 4, 6)\n",
    "sns.distplot(data['num_procedures'])\n",
    "\n",
    "plt.subplot(2, 4, 7)\n",
    "sns.distplot(data['num_medications'])\n",
    "\n",
    "plt.subplot(2, 4, 8)\n",
    "sns.distplot(data['number_outpatient'])"
   ]
  },
  {
   "cell_type": "markdown",
   "metadata": {},
   "source": [
    "#### 'number_inpatient', 'number_emergency', 'number_outpatient' are skewed. "
   ]
  },
  {
   "cell_type": "markdown",
   "metadata": {},
   "source": [
    "### Univariate Analysis"
   ]
  },
  {
   "cell_type": "code",
   "execution_count": 13,
   "metadata": {},
   "outputs": [],
   "source": [
    "# converting readmitted to integer type\n",
    "data['readmitted'] = data['readmitted'].apply(lambda x: pd.to_numeric(x))"
   ]
  },
  {
   "cell_type": "code",
   "execution_count": 14,
   "metadata": {},
   "outputs": [],
   "source": [
    "# lets define a function to plot 'readmitted' across categorical variables\n",
    "\n",
    "def plot_cat(cat_var):\n",
    "    sns.barplot(x=cat_var, y='readmitted', data=data)\n",
    "    plt.show()"
   ]
  },
  {
   "cell_type": "code",
   "execution_count": 15,
   "metadata": {},
   "outputs": [
    {
     "data": {
      "image/png": "[encoded data removed]",
      "text/plain": [
       "<Figure size 432x288 with 1 Axes>"
      ]
     },
     "metadata": {
      "needs_background": "light"
     },
     "output_type": "display_data"
    }
   ],
   "source": [
    "# race\n",
    "# plotting race again 'readmitted'\n",
    "plot_cat('race')"
   ]
  },
  {
   "cell_type": "code",
   "execution_count": 16,
   "metadata": {},
   "outputs": [
    {
     "data": {
      "image/png": "[encoded data removed]",
      "text/plain": [
       "<Figure size 432x288 with 1 Axes>"
      ]
     },
     "metadata": {
      "needs_background": "light"
     },
     "output_type": "display_data"
    }
   ],
   "source": [
    "# gender\n",
    "plot_cat('gender')"
   ]
  },
  {
   "cell_type": "code",
   "execution_count": 17,
   "metadata": {},
   "outputs": [
    {
     "data": {
      "image/png": "[encoded data removed]",
      "text/plain": [
       "<Figure size 432x288 with 1 Axes>"
      ]
     },
     "metadata": {
      "needs_background": "light"
     },
     "output_type": "display_data"
    }
   ],
   "source": [
    "# age\n",
    "plot_cat('age')"
   ]
  },
  {
   "cell_type": "code",
   "execution_count": 18,
   "metadata": {},
   "outputs": [
    {
     "data": {
      "image/png": "[encoded data removed]",
      "text/plain": [
       "<Figure size 1152x432 with 1 Axes>"
      ]
     },
     "metadata": {
      "needs_background": "light"
     },
     "output_type": "display_data"
    }
   ],
   "source": [
    "# weight\n",
    "plt.figure(figsize=(16, 6))\n",
    "plot_cat('weight')"
   ]
  },
  {
   "cell_type": "code",
   "execution_count": 19,
   "metadata": {},
   "outputs": [
    {
     "data": {
      "image/png": "[encoded data removed]",
      "text/plain": [
       "<Figure size 432x288 with 1 Axes>"
      ]
     },
     "metadata": {
      "needs_background": "light"
     },
     "output_type": "display_data"
    }
   ],
   "source": [
    "# payer code\n",
    "plot_cat('payer_code')"
   ]
  },
  {
   "cell_type": "code",
   "execution_count": 20,
   "metadata": {},
   "outputs": [
    {
     "data": {
      "image/png": "[encoded data removed]",
      "text/plain": [
       "<Figure size 432x288 with 1 Axes>"
      ]
     },
     "metadata": {
      "needs_background": "light"
     },
     "output_type": "display_data"
    }
   ],
   "source": [
    "# change\n",
    "plot_cat('change')"
   ]
  },
  {
   "cell_type": "code",
   "execution_count": 21,
   "metadata": {},
   "outputs": [
    {
     "data": {
      "image/png": "[encoded data removed]",
      "text/plain": [
       "<Figure size 432x288 with 1 Axes>"
      ]
     },
     "metadata": {
      "needs_background": "light"
     },
     "output_type": "display_data"
    }
   ],
   "source": [
    "# diabetesMed\n",
    "plot_cat('diabetesMed')"
   ]
  },
  {
   "cell_type": "code",
   "execution_count": 22,
   "metadata": {
    "scrolled": true
   },
   "outputs": [
    {
     "data": {
      "image/png": "[encoded data removed]",
      "text/plain": [
       "<Figure size 432x288 with 1 Axes>"
      ]
     },
     "metadata": {
      "needs_background": "light"
     },
     "output_type": "display_data"
    }
   ],
   "source": [
    "# max_glu_serum \n",
    "plot_cat('max_glu_serum')"
   ]
  },
  {
   "cell_type": "code",
   "execution_count": 23,
   "metadata": {},
   "outputs": [
    {
     "data": {
      "image/png": "[encoded data removed]",
      "text/plain": [
       "<Figure size 432x288 with 1 Axes>"
      ]
     },
     "metadata": {
      "needs_background": "light"
     },
     "output_type": "display_data"
    }
   ],
   "source": [
    "# A1Cresult\n",
    "plot_cat('A1Cresult')"
   ]
  },
  {
   "cell_type": "code",
   "execution_count": 24,
   "metadata": {},
   "outputs": [
    {
     "data": {
      "image/png": "[encoded data removed]",
      "text/plain": [
       "<Figure size 432x288 with 1 Axes>"
      ]
     },
     "metadata": {
      "needs_background": "light"
     },
     "output_type": "display_data"
    }
   ],
   "source": [
    "# metformin\n",
    "plot_cat('metformin')"
   ]
  },
  {
   "cell_type": "code",
   "execution_count": 25,
   "metadata": {},
   "outputs": [
    {
     "data": {
      "image/png": "[encoded data removed]",
      "text/plain": [
       "<Figure size 432x288 with 1 Axes>"
      ]
     },
     "metadata": {
      "needs_background": "light"
     },
     "output_type": "display_data"
    }
   ],
   "source": [
    "# insulin\n",
    "plot_cat('insulin')"
   ]
  },
  {
   "cell_type": "code",
   "execution_count": 26,
   "metadata": {},
   "outputs": [
    {
     "data": {
      "image/png": "[encoded data removed]",
      "text/plain": [
       "<Figure size 432x288 with 1 Axes>"
      ]
     },
     "metadata": {
      "needs_background": "light"
     },
     "output_type": "display_data"
    }
   ],
   "source": [
    "# examide\n",
    "plot_cat('examide')"
   ]
  },
  {
   "cell_type": "code",
   "execution_count": 27,
   "metadata": {},
   "outputs": [
    {
     "data": {
      "image/png": "[encoded data removed]",
      "text/plain": [
       "<Figure size 432x288 with 1 Axes>"
      ]
     },
     "metadata": {
      "needs_background": "light"
     },
     "output_type": "display_data"
    }
   ],
   "source": [
    "# citoglipton\n",
    "plot_cat('citoglipton')"
   ]
  },
  {
   "cell_type": "code",
   "execution_count": 28,
   "metadata": {},
   "outputs": [
    {
     "data": {
      "image/png": "[encoded data removed]",
      "text/plain": [
       "<Figure size 432x288 with 1 Axes>"
      ]
     },
     "metadata": {
      "needs_background": "light"
     },
     "output_type": "display_data"
    }
   ],
   "source": [
    "# glyburide-metformin\n",
    "plot_cat('glyburide-metformin')"
   ]
  },
  {
   "cell_type": "code",
   "execution_count": 29,
   "metadata": {
    "scrolled": true
   },
   "outputs": [
    {
     "data": {
      "image/png": "[encoded data removed]",
      "text/plain": [
       "<Figure size 432x288 with 1 Axes>"
      ]
     },
     "metadata": {
      "needs_background": "light"
     },
     "output_type": "display_data"
    }
   ],
   "source": [
    "# glipizide-metformin\n",
    "plot_cat('glipizide-metformin')"
   ]
  },
  {
   "cell_type": "code",
   "execution_count": 30,
   "metadata": {},
   "outputs": [
    {
     "data": {
      "image/png": "[encoded data removed]",
      "text/plain": [
       "<Figure size 432x288 with 1 Axes>"
      ]
     },
     "metadata": {
      "needs_background": "light"
     },
     "output_type": "display_data"
    }
   ],
   "source": [
    "# glimepiride-pioglitazone\n",
    "plot_cat('glimepiride-pioglitazone')"
   ]
  },
  {
   "cell_type": "code",
   "execution_count": 31,
   "metadata": {},
   "outputs": [
    {
     "data": {
      "text/plain": [
       "No        101765\n",
       "Steady         1\n",
       "Name: glimepiride-pioglitazone, dtype: int64"
      ]
     },
     "execution_count": 31,
     "metadata": {},
     "output_type": "execute_result"
    }
   ],
   "source": [
    "data['glimepiride-pioglitazone'].value_counts()"
   ]
  },
  {
   "cell_type": "code",
   "execution_count": 32,
   "metadata": {
    "scrolled": true
   },
   "outputs": [
    {
     "data": {
      "image/png": "[encoded data removed]",
      "text/plain": [
       "<Figure size 432x288 with 1 Axes>"
      ]
     },
     "metadata": {
      "needs_background": "light"
     },
     "output_type": "display_data"
    }
   ],
   "source": [
    "# metformin-rosiglitazone\n",
    "plot_cat('metformin-rosiglitazone')"
   ]
  },
  {
   "cell_type": "code",
   "execution_count": 33,
   "metadata": {},
   "outputs": [
    {
     "data": {
      "image/png": "[encoded data removed]",
      "text/plain": [
       "<Figure size 432x288 with 1 Axes>"
      ]
     },
     "metadata": {
      "needs_background": "light"
     },
     "output_type": "display_data"
    }
   ],
   "source": [
    "# metformin-pioglitazone\n",
    "plot_cat('metformin-pioglitazone')"
   ]
  },
  {
   "cell_type": "code",
   "execution_count": 34,
   "metadata": {},
   "outputs": [
    {
     "data": {
      "image/png": "[encoded data removed]",
      "text/plain": [
       "<Figure size 432x288 with 1 Axes>"
      ]
     },
     "metadata": {
      "needs_background": "light"
     },
     "output_type": "display_data"
    }
   ],
   "source": [
    "# tolazamide\n",
    "plot_cat('tolazamide')"
   ]
  },
  {
   "cell_type": "code",
   "execution_count": 35,
   "metadata": {},
   "outputs": [
    {
     "data": {
      "image/png": "[encoded data removed]",
      "text/plain": [
       "<Figure size 432x288 with 1 Axes>"
      ]
     },
     "metadata": {
      "needs_background": "light"
     },
     "output_type": "display_data"
    }
   ],
   "source": [
    "# troglitazone\n",
    "plot_cat('troglitazone')"
   ]
  },
  {
   "cell_type": "code",
   "execution_count": 36,
   "metadata": {},
   "outputs": [
    {
     "data": {
      "image/png": "[encoded data removed]",
      "text/plain": [
       "<Figure size 432x288 with 1 Axes>"
      ]
     },
     "metadata": {
      "needs_background": "light"
     },
     "output_type": "display_data"
    }
   ],
   "source": [
    "# miglitol\n",
    "plot_cat('miglitol')"
   ]
  },
  {
   "cell_type": "code",
   "execution_count": 37,
   "metadata": {},
   "outputs": [
    {
     "data": {
      "image/png": "[encoded data removed]",
      "text/plain": [
       "<Figure size 432x288 with 1 Axes>"
      ]
     },
     "metadata": {
      "needs_background": "light"
     },
     "output_type": "display_data"
    }
   ],
   "source": [
    "# acarbose\n",
    "plot_cat('acarbose')"
   ]
  },
  {
   "cell_type": "code",
   "execution_count": 38,
   "metadata": {},
   "outputs": [
    {
     "data": {
      "image/png": "[encoded data removed]",
      "text/plain": [
       "<Figure size 432x288 with 1 Axes>"
      ]
     },
     "metadata": {
      "needs_background": "light"
     },
     "output_type": "display_data"
    }
   ],
   "source": [
    "# rosiglitazone\n",
    "plot_cat('rosiglitazone')"
   ]
  },
  {
   "cell_type": "code",
   "execution_count": 39,
   "metadata": {},
   "outputs": [
    {
     "data": {
      "image/png": "[encoded data removed]",
      "text/plain": [
       "<Figure size 432x288 with 1 Axes>"
      ]
     },
     "metadata": {
      "needs_background": "light"
     },
     "output_type": "display_data"
    }
   ],
   "source": [
    "# pioglitazone\n",
    "plot_cat('pioglitazone')"
   ]
  },
  {
   "cell_type": "code",
   "execution_count": 40,
   "metadata": {},
   "outputs": [
    {
     "data": {
      "image/png": "[encoded data removed]",
      "text/plain": [
       "<Figure size 432x288 with 1 Axes>"
      ]
     },
     "metadata": {
      "needs_background": "light"
     },
     "output_type": "display_data"
    }
   ],
   "source": [
    "# tolbutamide\n",
    "plot_cat('tolbutamide')"
   ]
  },
  {
   "cell_type": "code",
   "execution_count": 41,
   "metadata": {},
   "outputs": [
    {
     "data": {
      "image/png": "[encoded data removed]",
      "text/plain": [
       "<Figure size 432x288 with 1 Axes>"
      ]
     },
     "metadata": {
      "needs_background": "light"
     },
     "output_type": "display_data"
    }
   ],
   "source": [
    "# glyburide\n",
    "plot_cat('glyburide')"
   ]
  },
  {
   "cell_type": "code",
   "execution_count": 42,
   "metadata": {},
   "outputs": [
    {
     "data": {
      "image/png": "[encoded data removed]",
      "text/plain": [
       "<Figure size 432x288 with 1 Axes>"
      ]
     },
     "metadata": {
      "needs_background": "light"
     },
     "output_type": "display_data"
    }
   ],
   "source": [
    "# glipizide\n",
    "plot_cat('glipizide')"
   ]
  },
  {
   "cell_type": "markdown",
   "metadata": {},
   "source": [
    "Analysis Results:\n",
    "- troglitazone, metformin-pioglitazone, metformin-rosiglitazone, glimepiride-pioglitazone, citoglipton, examide, \n",
    "  shows no difference, so can be deleted."
   ]
  },
  {
   "cell_type": "code",
   "execution_count": 43,
   "metadata": {
    "scrolled": true
   },
   "outputs": [
    {
     "data": {
      "image/png": "[encoded data removed]",
      "text/plain": [
       "<Figure size 1440x1440 with 2 Axes>"
      ]
     },
     "metadata": {
      "needs_background": "light"
     },
     "output_type": "display_data"
    }
   ],
   "source": [
    "corrmat = data.corr()\n",
    "top_corr_features = corrmat.index\n",
    "plt.figure(figsize=(20,20))\n",
    "#plot heat map\n",
    "g=sns.heatmap(data[top_corr_features].corr(),annot=True,cmap=\"RdYlGn\")"
   ]
  },
  {
   "cell_type": "markdown",
   "metadata": {},
   "source": [
    "#### There is no such feature among the non-categorical variables that are highly correlated to target variable"
   ]
  },
  {
   "cell_type": "markdown",
   "metadata": {},
   "source": [
    "### 1. Missing Value Imputation"
   ]
  },
  {
   "cell_type": "code",
   "execution_count": 44,
   "metadata": {},
   "outputs": [
    {
     "data": {
      "text/plain": [
       "race                        0\n",
       "gender                      0\n",
       "age                         0\n",
       "weight                      0\n",
       "admission_type_id           0\n",
       "discharge_disposition_id    0\n",
       "admission_source_id         0\n",
       "time_in_hospital            0\n",
       "payer_code                  0\n",
       "medical_specialty           0\n",
       "num_lab_procedures          0\n",
       "num_procedures              0\n",
       "num_medications             0\n",
       "number_outpatient           0\n",
       "number_emergency            0\n",
       "number_inpatient            0\n",
       "diag_1                      0\n",
       "diag_2                      0\n",
       "diag_3                      0\n",
       "number_diagnoses            0\n",
       "max_glu_serum               0\n",
       "A1Cresult                   0\n",
       "metformin                   0\n",
       "repaglinide                 0\n",
       "nateglinide                 0\n",
       "chlorpropamide              0\n",
       "glimepiride                 0\n",
       "acetohexamide               0\n",
       "glipizide                   0\n",
       "glyburide                   0\n",
       "tolbutamide                 0\n",
       "pioglitazone                0\n",
       "rosiglitazone               0\n",
       "acarbose                    0\n",
       "miglitol                    0\n",
       "troglitazone                0\n",
       "tolazamide                  0\n",
       "examide                     0\n",
       "citoglipton                 0\n",
       "insulin                     0\n",
       "glyburide-metformin         0\n",
       "glipizide-metformin         0\n",
       "glimepiride-pioglitazone    0\n",
       "metformin-rosiglitazone     0\n",
       "metformin-pioglitazone      0\n",
       "change                      0\n",
       "diabetesMed                 0\n",
       "readmitted                  0\n",
       "dtype: int64"
      ]
     },
     "execution_count": 44,
     "metadata": {},
     "output_type": "execute_result"
    }
   ],
   "source": [
    "# Find the Percentage of Missing Values in each columns and remove any if required.\n",
    "data.isna().sum(axis=0)"
   ]
  },
  {
   "cell_type": "code",
   "execution_count": 45,
   "metadata": {},
   "outputs": [],
   "source": [
    "# Replace missing value '?' with NAN\n",
    "data.replace(to_replace='?', value=np.nan, inplace=True)"
   ]
  },
  {
   "cell_type": "code",
   "execution_count": 46,
   "metadata": {},
   "outputs": [
    {
     "data": {
      "text/plain": [
       "race                         2.233555\n",
       "gender                       0.000000\n",
       "age                          0.000000\n",
       "weight                      96.858479\n",
       "admission_type_id            0.000000\n",
       "discharge_disposition_id     0.000000\n",
       "admission_source_id          0.000000\n",
       "time_in_hospital             0.000000\n",
       "payer_code                  39.557416\n",
       "medical_specialty           49.082208\n",
       "num_lab_procedures           0.000000\n",
       "num_procedures               0.000000\n",
       "num_medications              0.000000\n",
       "number_outpatient            0.000000\n",
       "number_emergency             0.000000\n",
       "number_inpatient             0.000000\n",
       "diag_1                       0.020636\n",
       "diag_2                       0.351787\n",
       "diag_3                       1.398306\n",
       "number_diagnoses             0.000000\n",
       "max_glu_serum                0.000000\n",
       "A1Cresult                    0.000000\n",
       "metformin                    0.000000\n",
       "repaglinide                  0.000000\n",
       "nateglinide                  0.000000\n",
       "chlorpropamide               0.000000\n",
       "glimepiride                  0.000000\n",
       "acetohexamide                0.000000\n",
       "glipizide                    0.000000\n",
       "glyburide                    0.000000\n",
       "tolbutamide                  0.000000\n",
       "pioglitazone                 0.000000\n",
       "rosiglitazone                0.000000\n",
       "acarbose                     0.000000\n",
       "miglitol                     0.000000\n",
       "troglitazone                 0.000000\n",
       "tolazamide                   0.000000\n",
       "examide                      0.000000\n",
       "citoglipton                  0.000000\n",
       "insulin                      0.000000\n",
       "glyburide-metformin          0.000000\n",
       "glipizide-metformin          0.000000\n",
       "glimepiride-pioglitazone     0.000000\n",
       "metformin-rosiglitazone      0.000000\n",
       "metformin-pioglitazone       0.000000\n",
       "change                       0.000000\n",
       "diabetesMed                  0.000000\n",
       "readmitted                   0.000000\n",
       "dtype: float64"
      ]
     },
     "execution_count": 46,
     "metadata": {},
     "output_type": "execute_result"
    }
   ],
   "source": [
    "# count the percentage of missing value\n",
    "data.isna().sum(axis=0)/len(data)*100"
   ]
  },
  {
   "cell_type": "markdown",
   "metadata": {},
   "source": [
    "#### 'weight', 'payer_code', 'medical_specialty' have high percentage of missing values, Ideally missing value greater than 50% are removed. So we remove 'weight'. 'medical_specialty' and 'payer_code' are considered to be high influencer by other reaserchers, so we keep them. Encode 'medical_specialty' as 'missing'."
   ]
  },
  {
   "cell_type": "code",
   "execution_count": 47,
   "metadata": {},
   "outputs": [],
   "source": [
    "# Drop the 'weight' column\n",
    "data.drop('weight', inplace=True, axis=1)"
   ]
  },
  {
   "cell_type": "code",
   "execution_count": 48,
   "metadata": {},
   "outputs": [],
   "source": [
    "# Replace missing values in 'medical_specialty' with value 'missing'\n",
    "# data.medical_specialty.replace(to_replace=np.nan, value='missing', inplace=True)\n",
    "data[\"medical_specialty\"].fillna(\"Missing\", inplace=True)"
   ]
  },
  {
   "cell_type": "code",
   "execution_count": 49,
   "metadata": {},
   "outputs": [
    {
     "data": {
      "text/html": [
       "<div>\n",
       "<style scoped>\n",
       "    .dataframe tbody tr th:only-of-type {\n",
       "        vertical-align: middle;\n",
       "    }\n",
       "\n",
       "    .dataframe tbody tr th {\n",
       "        vertical-align: top;\n",
       "    }\n",
       "\n",
       "    .dataframe thead th {\n",
       "        text-align: right;\n",
       "    }\n",
       "</style>\n",
       "<table border=\"1\" class=\"dataframe\">\n",
       "  <thead>\n",
       "    <tr style=\"text-align: right;\">\n",
       "      <th></th>\n",
       "      <th>race</th>\n",
       "      <th>gender</th>\n",
       "      <th>age</th>\n",
       "      <th>admission_type_id</th>\n",
       "      <th>discharge_disposition_id</th>\n",
       "      <th>admission_source_id</th>\n",
       "      <th>time_in_hospital</th>\n",
       "      <th>payer_code</th>\n",
       "      <th>medical_specialty</th>\n",
       "      <th>num_lab_procedures</th>\n",
       "      <th>...</th>\n",
       "      <th>citoglipton</th>\n",
       "      <th>insulin</th>\n",
       "      <th>glyburide-metformin</th>\n",
       "      <th>glipizide-metformin</th>\n",
       "      <th>glimepiride-pioglitazone</th>\n",
       "      <th>metformin-rosiglitazone</th>\n",
       "      <th>metformin-pioglitazone</th>\n",
       "      <th>change</th>\n",
       "      <th>diabetesMed</th>\n",
       "      <th>readmitted</th>\n",
       "    </tr>\n",
       "  </thead>\n",
       "  <tbody>\n",
       "    <tr>\n",
       "      <th>0</th>\n",
       "      <td>Caucasian</td>\n",
       "      <td>Female</td>\n",
       "      <td>[0-10)</td>\n",
       "      <td>6</td>\n",
       "      <td>25</td>\n",
       "      <td>1</td>\n",
       "      <td>1</td>\n",
       "      <td>NaN</td>\n",
       "      <td>Pediatrics-Endocrinology</td>\n",
       "      <td>41</td>\n",
       "      <td>...</td>\n",
       "      <td>No</td>\n",
       "      <td>No</td>\n",
       "      <td>No</td>\n",
       "      <td>No</td>\n",
       "      <td>No</td>\n",
       "      <td>No</td>\n",
       "      <td>No</td>\n",
       "      <td>No</td>\n",
       "      <td>No</td>\n",
       "      <td>0</td>\n",
       "    </tr>\n",
       "    <tr>\n",
       "      <th>1</th>\n",
       "      <td>Caucasian</td>\n",
       "      <td>Female</td>\n",
       "      <td>[10-20)</td>\n",
       "      <td>1</td>\n",
       "      <td>1</td>\n",
       "      <td>7</td>\n",
       "      <td>3</td>\n",
       "      <td>NaN</td>\n",
       "      <td>Missing</td>\n",
       "      <td>59</td>\n",
       "      <td>...</td>\n",
       "      <td>No</td>\n",
       "      <td>Up</td>\n",
       "      <td>No</td>\n",
       "      <td>No</td>\n",
       "      <td>No</td>\n",
       "      <td>No</td>\n",
       "      <td>No</td>\n",
       "      <td>Ch</td>\n",
       "      <td>Yes</td>\n",
       "      <td>0</td>\n",
       "    </tr>\n",
       "    <tr>\n",
       "      <th>2</th>\n",
       "      <td>AfricanAmerican</td>\n",
       "      <td>Female</td>\n",
       "      <td>[20-30)</td>\n",
       "      <td>1</td>\n",
       "      <td>1</td>\n",
       "      <td>7</td>\n",
       "      <td>2</td>\n",
       "      <td>NaN</td>\n",
       "      <td>Missing</td>\n",
       "      <td>11</td>\n",
       "      <td>...</td>\n",
       "      <td>No</td>\n",
       "      <td>No</td>\n",
       "      <td>No</td>\n",
       "      <td>No</td>\n",
       "      <td>No</td>\n",
       "      <td>No</td>\n",
       "      <td>No</td>\n",
       "      <td>No</td>\n",
       "      <td>Yes</td>\n",
       "      <td>0</td>\n",
       "    </tr>\n",
       "    <tr>\n",
       "      <th>3</th>\n",
       "      <td>Caucasian</td>\n",
       "      <td>Male</td>\n",
       "      <td>[30-40)</td>\n",
       "      <td>1</td>\n",
       "      <td>1</td>\n",
       "      <td>7</td>\n",
       "      <td>2</td>\n",
       "      <td>NaN</td>\n",
       "      <td>Missing</td>\n",
       "      <td>44</td>\n",
       "      <td>...</td>\n",
       "      <td>No</td>\n",
       "      <td>Up</td>\n",
       "      <td>No</td>\n",
       "      <td>No</td>\n",
       "      <td>No</td>\n",
       "      <td>No</td>\n",
       "      <td>No</td>\n",
       "      <td>Ch</td>\n",
       "      <td>Yes</td>\n",
       "      <td>0</td>\n",
       "    </tr>\n",
       "    <tr>\n",
       "      <th>4</th>\n",
       "      <td>Caucasian</td>\n",
       "      <td>Male</td>\n",
       "      <td>[40-50)</td>\n",
       "      <td>1</td>\n",
       "      <td>1</td>\n",
       "      <td>7</td>\n",
       "      <td>1</td>\n",
       "      <td>NaN</td>\n",
       "      <td>Missing</td>\n",
       "      <td>51</td>\n",
       "      <td>...</td>\n",
       "      <td>No</td>\n",
       "      <td>Steady</td>\n",
       "      <td>No</td>\n",
       "      <td>No</td>\n",
       "      <td>No</td>\n",
       "      <td>No</td>\n",
       "      <td>No</td>\n",
       "      <td>Ch</td>\n",
       "      <td>Yes</td>\n",
       "      <td>0</td>\n",
       "    </tr>\n",
       "  </tbody>\n",
       "</table>\n",
       "<p>5 rows × 47 columns</p>\n",
       "</div>"
      ],
      "text/plain": [
       "              race  gender      age  admission_type_id  \\\n",
       "0        Caucasian  Female   [0-10)                  6   \n",
       "1        Caucasian  Female  [10-20)                  1   \n",
       "2  AfricanAmerican  Female  [20-30)                  1   \n",
       "3        Caucasian    Male  [30-40)                  1   \n",
       "4        Caucasian    Male  [40-50)                  1   \n",
       "\n",
       "   discharge_disposition_id  admission_source_id  time_in_hospital payer_code  \\\n",
       "0                        25                    1                 1        NaN   \n",
       "1                         1                    7                 3        NaN   \n",
       "2                         1                    7                 2        NaN   \n",
       "3                         1                    7                 2        NaN   \n",
       "4                         1                    7                 1        NaN   \n",
       "\n",
       "          medical_specialty  num_lab_procedures  ...  citoglipton  insulin  \\\n",
       "0  Pediatrics-Endocrinology                  41  ...           No       No   \n",
       "1                   Missing                  59  ...           No       Up   \n",
       "2                   Missing                  11  ...           No       No   \n",
       "3                   Missing                  44  ...           No       Up   \n",
       "4                   Missing                  51  ...           No   Steady   \n",
       "\n",
       "   glyburide-metformin  glipizide-metformin  glimepiride-pioglitazone  \\\n",
       "0                   No                   No                        No   \n",
       "1                   No                   No                        No   \n",
       "2                   No                   No                        No   \n",
       "3                   No                   No                        No   \n",
       "4                   No                   No                        No   \n",
       "\n",
       "  metformin-rosiglitazone metformin-pioglitazone change  diabetesMed  \\\n",
       "0                      No                     No     No           No   \n",
       "1                      No                     No     Ch          Yes   \n",
       "2                      No                     No     No          Yes   \n",
       "3                      No                     No     Ch          Yes   \n",
       "4                      No                     No     Ch          Yes   \n",
       "\n",
       "  readmitted  \n",
       "0          0  \n",
       "1          0  \n",
       "2          0  \n",
       "3          0  \n",
       "4          0  \n",
       "\n",
       "[5 rows x 47 columns]"
      ]
     },
     "execution_count": 49,
     "metadata": {},
     "output_type": "execute_result"
    }
   ],
   "source": [
    "data.head()"
   ]
  },
  {
   "cell_type": "code",
   "execution_count": 50,
   "metadata": {},
   "outputs": [
    {
     "data": {
      "text/plain": [
       "race                         2.233555\n",
       "gender                       0.000000\n",
       "age                          0.000000\n",
       "admission_type_id            0.000000\n",
       "discharge_disposition_id     0.000000\n",
       "admission_source_id          0.000000\n",
       "time_in_hospital             0.000000\n",
       "payer_code                  39.557416\n",
       "medical_specialty            0.000000\n",
       "num_lab_procedures           0.000000\n",
       "num_procedures               0.000000\n",
       "num_medications              0.000000\n",
       "number_outpatient            0.000000\n",
       "number_emergency             0.000000\n",
       "number_inpatient             0.000000\n",
       "diag_1                       0.020636\n",
       "diag_2                       0.351787\n",
       "diag_3                       1.398306\n",
       "number_diagnoses             0.000000\n",
       "max_glu_serum                0.000000\n",
       "A1Cresult                    0.000000\n",
       "metformin                    0.000000\n",
       "repaglinide                  0.000000\n",
       "nateglinide                  0.000000\n",
       "chlorpropamide               0.000000\n",
       "glimepiride                  0.000000\n",
       "acetohexamide                0.000000\n",
       "glipizide                    0.000000\n",
       "glyburide                    0.000000\n",
       "tolbutamide                  0.000000\n",
       "pioglitazone                 0.000000\n",
       "rosiglitazone                0.000000\n",
       "acarbose                     0.000000\n",
       "miglitol                     0.000000\n",
       "troglitazone                 0.000000\n",
       "tolazamide                   0.000000\n",
       "examide                      0.000000\n",
       "citoglipton                  0.000000\n",
       "insulin                      0.000000\n",
       "glyburide-metformin          0.000000\n",
       "glipizide-metformin          0.000000\n",
       "glimepiride-pioglitazone     0.000000\n",
       "metformin-rosiglitazone      0.000000\n",
       "metformin-pioglitazone       0.000000\n",
       "change                       0.000000\n",
       "diabetesMed                  0.000000\n",
       "readmitted                   0.000000\n",
       "dtype: float64"
      ]
     },
     "execution_count": 50,
     "metadata": {},
     "output_type": "execute_result"
    }
   ],
   "source": [
    "data.isna().sum(axis=0)/len(data)*100"
   ]
  },
  {
   "cell_type": "code",
   "execution_count": 51,
   "metadata": {},
   "outputs": [
    {
     "data": {
      "text/plain": [
       "(101766, 47)"
      ]
     },
     "execution_count": 51,
     "metadata": {},
     "output_type": "execute_result"
    }
   ],
   "source": [
    "data.shape"
   ]
  },
  {
   "cell_type": "code",
   "execution_count": 52,
   "metadata": {},
   "outputs": [
    {
     "data": {
      "text/plain": [
       "race                         0.000000\n",
       "gender                       0.000000\n",
       "age                          0.000000\n",
       "admission_type_id            0.000000\n",
       "discharge_disposition_id     0.000000\n",
       "admission_source_id          0.000000\n",
       "time_in_hospital             0.000000\n",
       "payer_code                  20.091190\n",
       "medical_specialty            0.000000\n",
       "num_lab_procedures           0.000000\n",
       "num_procedures               0.000000\n",
       "num_medications              0.000000\n",
       "number_outpatient            0.000000\n",
       "number_emergency             0.000000\n",
       "number_inpatient             0.000000\n",
       "diag_1                       0.000000\n",
       "diag_2                       0.000983\n",
       "diag_3                       0.000983\n",
       "number_diagnoses             0.000000\n",
       "max_glu_serum                0.000000\n",
       "A1Cresult                    0.000000\n",
       "metformin                    0.000000\n",
       "repaglinide                  0.000000\n",
       "nateglinide                  0.000000\n",
       "chlorpropamide               0.000000\n",
       "glimepiride                  0.000000\n",
       "acetohexamide                0.000000\n",
       "glipizide                    0.000000\n",
       "glyburide                    0.000000\n",
       "tolbutamide                  0.000000\n",
       "pioglitazone                 0.000000\n",
       "rosiglitazone                0.000000\n",
       "acarbose                     0.000000\n",
       "miglitol                     0.000000\n",
       "troglitazone                 0.000000\n",
       "tolazamide                   0.000000\n",
       "examide                      0.000000\n",
       "citoglipton                  0.000000\n",
       "insulin                      0.000000\n",
       "glyburide-metformin          0.000000\n",
       "glipizide-metformin          0.000000\n",
       "glimepiride-pioglitazone     0.000000\n",
       "metformin-rosiglitazone      0.000000\n",
       "metformin-pioglitazone       0.000000\n",
       "change                       0.000000\n",
       "diabetesMed                  0.000000\n",
       "readmitted                   0.000000\n",
       "dtype: float64"
      ]
     },
     "execution_count": 52,
     "metadata": {},
     "output_type": "execute_result"
    }
   ],
   "source": [
    "# Impute missing value of 'diag_1', 'diag_2', 'diag_3'\n",
    "data.fillna(method='ffill', inplace=True)\n",
    "data.isnull().sum(axis=0)/len(data)*100"
   ]
  },
  {
   "cell_type": "code",
   "execution_count": 53,
   "metadata": {},
   "outputs": [
    {
     "data": {
      "text/plain": [
       "race                         0.00000\n",
       "gender                       0.00000\n",
       "age                          0.00000\n",
       "admission_type_id            0.00000\n",
       "discharge_disposition_id     0.00000\n",
       "admission_source_id          0.00000\n",
       "time_in_hospital             0.00000\n",
       "payer_code                  20.09119\n",
       "medical_specialty            0.00000\n",
       "num_lab_procedures           0.00000\n",
       "num_procedures               0.00000\n",
       "num_medications              0.00000\n",
       "number_outpatient            0.00000\n",
       "number_emergency             0.00000\n",
       "number_inpatient             0.00000\n",
       "diag_1                       0.00000\n",
       "diag_2                       0.00000\n",
       "diag_3                       0.00000\n",
       "number_diagnoses             0.00000\n",
       "max_glu_serum                0.00000\n",
       "A1Cresult                    0.00000\n",
       "metformin                    0.00000\n",
       "repaglinide                  0.00000\n",
       "nateglinide                  0.00000\n",
       "chlorpropamide               0.00000\n",
       "glimepiride                  0.00000\n",
       "acetohexamide                0.00000\n",
       "glipizide                    0.00000\n",
       "glyburide                    0.00000\n",
       "tolbutamide                  0.00000\n",
       "pioglitazone                 0.00000\n",
       "rosiglitazone                0.00000\n",
       "acarbose                     0.00000\n",
       "miglitol                     0.00000\n",
       "troglitazone                 0.00000\n",
       "tolazamide                   0.00000\n",
       "examide                      0.00000\n",
       "citoglipton                  0.00000\n",
       "insulin                      0.00000\n",
       "glyburide-metformin          0.00000\n",
       "glipizide-metformin          0.00000\n",
       "glimepiride-pioglitazone     0.00000\n",
       "metformin-rosiglitazone      0.00000\n",
       "metformin-pioglitazone       0.00000\n",
       "change                       0.00000\n",
       "diabetesMed                  0.00000\n",
       "readmitted                   0.00000\n",
       "dtype: float64"
      ]
     },
     "execution_count": 53,
     "metadata": {},
     "output_type": "execute_result"
    }
   ],
   "source": [
    "# Replace Nan with zero's\n",
    "data['diag_3'] = data['diag_3'].fillna(0)\n",
    "data['diag_2'] = data['diag_2'].fillna(0)\n",
    "data.isna().sum(axis=0)/len(data)*100"
   ]
  },
  {
   "cell_type": "markdown",
   "metadata": {},
   "source": [
    "### 2. Cleaning Data"
   ]
  },
  {
   "cell_type": "code",
   "execution_count": 54,
   "metadata": {},
   "outputs": [
    {
     "data": {
      "text/html": [
       "<div>\n",
       "<style scoped>\n",
       "    .dataframe tbody tr th:only-of-type {\n",
       "        vertical-align: middle;\n",
       "    }\n",
       "\n",
       "    .dataframe tbody tr th {\n",
       "        vertical-align: top;\n",
       "    }\n",
       "\n",
       "    .dataframe thead th {\n",
       "        text-align: right;\n",
       "    }\n",
       "</style>\n",
       "<table border=\"1\" class=\"dataframe\">\n",
       "  <thead>\n",
       "    <tr style=\"text-align: right;\">\n",
       "      <th></th>\n",
       "      <th>race</th>\n",
       "      <th>gender</th>\n",
       "      <th>age</th>\n",
       "      <th>admission_type_id</th>\n",
       "      <th>discharge_disposition_id</th>\n",
       "      <th>admission_source_id</th>\n",
       "      <th>time_in_hospital</th>\n",
       "      <th>payer_code</th>\n",
       "      <th>medical_specialty</th>\n",
       "      <th>num_lab_procedures</th>\n",
       "      <th>...</th>\n",
       "      <th>citoglipton</th>\n",
       "      <th>insulin</th>\n",
       "      <th>glyburide-metformin</th>\n",
       "      <th>glipizide-metformin</th>\n",
       "      <th>glimepiride-pioglitazone</th>\n",
       "      <th>metformin-rosiglitazone</th>\n",
       "      <th>metformin-pioglitazone</th>\n",
       "      <th>change</th>\n",
       "      <th>diabetesMed</th>\n",
       "      <th>readmitted</th>\n",
       "    </tr>\n",
       "  </thead>\n",
       "  <tbody>\n",
       "    <tr>\n",
       "      <th>0</th>\n",
       "      <td>Caucasian</td>\n",
       "      <td>Female</td>\n",
       "      <td>[0-10)</td>\n",
       "      <td>6</td>\n",
       "      <td>25</td>\n",
       "      <td>1</td>\n",
       "      <td>1</td>\n",
       "      <td>NaN</td>\n",
       "      <td>Pediatrics-Endocrinology</td>\n",
       "      <td>41</td>\n",
       "      <td>...</td>\n",
       "      <td>No</td>\n",
       "      <td>No</td>\n",
       "      <td>No</td>\n",
       "      <td>No</td>\n",
       "      <td>No</td>\n",
       "      <td>No</td>\n",
       "      <td>No</td>\n",
       "      <td>No</td>\n",
       "      <td>No</td>\n",
       "      <td>0</td>\n",
       "    </tr>\n",
       "    <tr>\n",
       "      <th>1</th>\n",
       "      <td>Caucasian</td>\n",
       "      <td>Female</td>\n",
       "      <td>[10-20)</td>\n",
       "      <td>1</td>\n",
       "      <td>1</td>\n",
       "      <td>7</td>\n",
       "      <td>3</td>\n",
       "      <td>NaN</td>\n",
       "      <td>Missing</td>\n",
       "      <td>59</td>\n",
       "      <td>...</td>\n",
       "      <td>No</td>\n",
       "      <td>Up</td>\n",
       "      <td>No</td>\n",
       "      <td>No</td>\n",
       "      <td>No</td>\n",
       "      <td>No</td>\n",
       "      <td>No</td>\n",
       "      <td>Ch</td>\n",
       "      <td>Yes</td>\n",
       "      <td>0</td>\n",
       "    </tr>\n",
       "    <tr>\n",
       "      <th>2</th>\n",
       "      <td>AfricanAmerican</td>\n",
       "      <td>Female</td>\n",
       "      <td>[20-30)</td>\n",
       "      <td>1</td>\n",
       "      <td>1</td>\n",
       "      <td>7</td>\n",
       "      <td>2</td>\n",
       "      <td>NaN</td>\n",
       "      <td>Missing</td>\n",
       "      <td>11</td>\n",
       "      <td>...</td>\n",
       "      <td>No</td>\n",
       "      <td>No</td>\n",
       "      <td>No</td>\n",
       "      <td>No</td>\n",
       "      <td>No</td>\n",
       "      <td>No</td>\n",
       "      <td>No</td>\n",
       "      <td>No</td>\n",
       "      <td>Yes</td>\n",
       "      <td>0</td>\n",
       "    </tr>\n",
       "    <tr>\n",
       "      <th>3</th>\n",
       "      <td>Caucasian</td>\n",
       "      <td>Male</td>\n",
       "      <td>[30-40)</td>\n",
       "      <td>1</td>\n",
       "      <td>1</td>\n",
       "      <td>7</td>\n",
       "      <td>2</td>\n",
       "      <td>NaN</td>\n",
       "      <td>Missing</td>\n",
       "      <td>44</td>\n",
       "      <td>...</td>\n",
       "      <td>No</td>\n",
       "      <td>Up</td>\n",
       "      <td>No</td>\n",
       "      <td>No</td>\n",
       "      <td>No</td>\n",
       "      <td>No</td>\n",
       "      <td>No</td>\n",
       "      <td>Ch</td>\n",
       "      <td>Yes</td>\n",
       "      <td>0</td>\n",
       "    </tr>\n",
       "    <tr>\n",
       "      <th>4</th>\n",
       "      <td>Caucasian</td>\n",
       "      <td>Male</td>\n",
       "      <td>[40-50)</td>\n",
       "      <td>1</td>\n",
       "      <td>1</td>\n",
       "      <td>7</td>\n",
       "      <td>1</td>\n",
       "      <td>NaN</td>\n",
       "      <td>Missing</td>\n",
       "      <td>51</td>\n",
       "      <td>...</td>\n",
       "      <td>No</td>\n",
       "      <td>Steady</td>\n",
       "      <td>No</td>\n",
       "      <td>No</td>\n",
       "      <td>No</td>\n",
       "      <td>No</td>\n",
       "      <td>No</td>\n",
       "      <td>Ch</td>\n",
       "      <td>Yes</td>\n",
       "      <td>0</td>\n",
       "    </tr>\n",
       "  </tbody>\n",
       "</table>\n",
       "<p>5 rows × 47 columns</p>\n",
       "</div>"
      ],
      "text/plain": [
       "              race  gender      age  admission_type_id  \\\n",
       "0        Caucasian  Female   [0-10)                  6   \n",
       "1        Caucasian  Female  [10-20)                  1   \n",
       "2  AfricanAmerican  Female  [20-30)                  1   \n",
       "3        Caucasian    Male  [30-40)                  1   \n",
       "4        Caucasian    Male  [40-50)                  1   \n",
       "\n",
       "   discharge_disposition_id  admission_source_id  time_in_hospital payer_code  \\\n",
       "0                        25                    1                 1        NaN   \n",
       "1                         1                    7                 3        NaN   \n",
       "2                         1                    7                 2        NaN   \n",
       "3                         1                    7                 2        NaN   \n",
       "4                         1                    7                 1        NaN   \n",
       "\n",
       "          medical_specialty  num_lab_procedures  ...  citoglipton  insulin  \\\n",
       "0  Pediatrics-Endocrinology                  41  ...           No       No   \n",
       "1                   Missing                  59  ...           No       Up   \n",
       "2                   Missing                  11  ...           No       No   \n",
       "3                   Missing                  44  ...           No       Up   \n",
       "4                   Missing                  51  ...           No   Steady   \n",
       "\n",
       "   glyburide-metformin  glipizide-metformin  glimepiride-pioglitazone  \\\n",
       "0                   No                   No                        No   \n",
       "1                   No                   No                        No   \n",
       "2                   No                   No                        No   \n",
       "3                   No                   No                        No   \n",
       "4                   No                   No                        No   \n",
       "\n",
       "  metformin-rosiglitazone metformin-pioglitazone change  diabetesMed  \\\n",
       "0                      No                     No     No           No   \n",
       "1                      No                     No     Ch          Yes   \n",
       "2                      No                     No     No          Yes   \n",
       "3                      No                     No     Ch          Yes   \n",
       "4                      No                     No     Ch          Yes   \n",
       "\n",
       "  readmitted  \n",
       "0          0  \n",
       "1          0  \n",
       "2          0  \n",
       "3          0  \n",
       "4          0  \n",
       "\n",
       "[5 rows x 47 columns]"
      ]
     },
     "execution_count": 54,
     "metadata": {},
     "output_type": "execute_result"
    }
   ],
   "source": [
    "data.head()"
   ]
  },
  {
   "cell_type": "code",
   "execution_count": 55,
   "metadata": {},
   "outputs": [
    {
     "data": {
      "text/plain": [
       "1     60234\n",
       "3     13954\n",
       "6     12902\n",
       "18     3691\n",
       "2      2128\n",
       "22     1993\n",
       "11     1642\n",
       "5      1184\n",
       "25      989\n",
       "4       815\n",
       "7       623\n",
       "23      412\n",
       "13      399\n",
       "14      372\n",
       "28      139\n",
       "8       108\n",
       "15       63\n",
       "24       48\n",
       "9        21\n",
       "17       14\n",
       "16       11\n",
       "19        8\n",
       "10        6\n",
       "27        5\n",
       "12        3\n",
       "20        2\n",
       "Name: discharge_disposition_id, dtype: int64"
      ]
     },
     "execution_count": 55,
     "metadata": {},
     "output_type": "execute_result"
    }
   ],
   "source": [
    "# discharge_disposition, patient encounters related to 'expired' are removed\n",
    "# 11\tExpired\n",
    "# 19\tExpired at home. Medicaid only, hospice.\n",
    "# 20\tExpired in a medical facility. Medicaid only, hospice.\n",
    "# 21\tExpired, place unknown. Medicaid only, hospice.\n",
    "data['discharge_disposition_id'].value_counts()"
   ]
  },
  {
   "cell_type": "code",
   "execution_count": 56,
   "metadata": {},
   "outputs": [],
   "source": [
    "# So we have 1642 patients who got expired, \n",
    "# remove them as we are intrested in understanding in learning the pattern of survial patients.\n",
    "data.drop(data[data['discharge_disposition_id'] == 11].index, inplace=True)\n",
    "data.drop(data[data['discharge_disposition_id'] == 19].index, inplace=True)\n",
    "data.drop(data[data['discharge_disposition_id'] == 20].index, inplace=True)\n",
    "data.drop(data[data['discharge_disposition_id'] == 21].index, inplace=True)\n",
    "data.drop(data[data['discharge_disposition_id'] == 13].index, inplace=True)\n",
    "data.drop(data[data['discharge_disposition_id'] == 14].index, inplace=True)"
   ]
  },
  {
   "cell_type": "code",
   "execution_count": 57,
   "metadata": {},
   "outputs": [
    {
     "data": {
      "text/plain": [
       "1     60234\n",
       "3     13954\n",
       "6     12902\n",
       "18     3691\n",
       "2      2128\n",
       "22     1993\n",
       "5      1184\n",
       "25      989\n",
       "4       815\n",
       "7       623\n",
       "23      412\n",
       "28      139\n",
       "8       108\n",
       "15       63\n",
       "24       48\n",
       "9        21\n",
       "17       14\n",
       "16       11\n",
       "10        6\n",
       "27        5\n",
       "12        3\n",
       "Name: discharge_disposition_id, dtype: int64"
      ]
     },
     "execution_count": 57,
     "metadata": {},
     "output_type": "execute_result"
    }
   ],
   "source": [
    "data['discharge_disposition_id'].value_counts()"
   ]
  },
  {
   "cell_type": "code",
   "execution_count": 58,
   "metadata": {},
   "outputs": [
    {
     "data": {
      "text/plain": [
       "(99343, 47)"
      ]
     },
     "execution_count": 58,
     "metadata": {},
     "output_type": "execute_result"
    }
   ],
   "source": [
    "data.shape"
   ]
  },
  {
   "cell_type": "code",
   "execution_count": 59,
   "metadata": {},
   "outputs": [
    {
     "data": {
      "text/plain": [
       "No    99343\n",
       "Name: examide, dtype: int64"
      ]
     },
     "execution_count": 59,
     "metadata": {},
     "output_type": "execute_result"
    }
   ],
   "source": [
    "# 'examide’ and ‘citoglipton’ are listed as 'No' always, so remove them\n",
    "data['examide'].value_counts()"
   ]
  },
  {
   "cell_type": "code",
   "execution_count": 60,
   "metadata": {},
   "outputs": [
    {
     "data": {
      "text/plain": [
       "No    99343\n",
       "Name: citoglipton, dtype: int64"
      ]
     },
     "execution_count": 60,
     "metadata": {},
     "output_type": "execute_result"
    }
   ],
   "source": [
    "data ['citoglipton'].value_counts()"
   ]
  },
  {
   "cell_type": "code",
   "execution_count": 61,
   "metadata": {},
   "outputs": [],
   "source": [
    "data.drop(['examide', 'citoglipton'], axis=1, inplace=True)"
   ]
  },
  {
   "cell_type": "code",
   "execution_count": 62,
   "metadata": {},
   "outputs": [],
   "source": [
    "# Function to drop entire rows by the value of one column\n",
    "def dropRowsbyColValue(colname,value):\n",
    "    # Get index of rows with question marks in race column\n",
    "    indexOfRows = data[data[colname] == value].index\n",
    "    # Deleting rows by index\n",
    "    data.drop(indexOfRows, inplace=True)"
   ]
  },
  {
   "cell_type": "code",
   "execution_count": 63,
   "metadata": {},
   "outputs": [
    {
     "data": {
      "text/plain": [
       "array(['Female', 'Male', 'Unknown/Invalid'], dtype=object)"
      ]
     },
     "execution_count": 63,
     "metadata": {},
     "output_type": "execute_result"
    }
   ],
   "source": [
    "data['gender'].unique()"
   ]
  },
  {
   "cell_type": "code",
   "execution_count": 64,
   "metadata": {},
   "outputs": [],
   "source": [
    "# drop rows of gender with 'Unknown/Invalid'\n",
    "dropRowsbyColValue('gender','Unknown/Invalid')"
   ]
  },
  {
   "cell_type": "markdown",
   "metadata": {},
   "source": [
    "### 3. Data reduction"
   ]
  },
  {
   "cell_type": "code",
   "execution_count": 65,
   "metadata": {},
   "outputs": [],
   "source": [
    "# cluster ICD9 codes into 9 categories, Circulatory, Digestive, Diabetes, Injury,\n",
    "# Genitourinary, Respiratory, Musculoskeletal, Neoplasms and Others.\n",
    "\n",
    "def icd9_category(code_str):\n",
    "    if (isinstance(code_str, str) and \n",
    "    (code_str.startswith('V') or \n",
    "     code_str.startswith ('E'))):\n",
    "        return 'others'\n",
    "    code = int(float(code_str))\n",
    "    if code >= 250 and code < 251:\n",
    "        return 'diabetes'\n",
    "    elif code == 785 or (code >= 390 and code <= 459):\n",
    "        return 'circulatory'\n",
    "    elif code == 786 or (code >= 460 and code <= 519):\n",
    "        return 'respiratory'\n",
    "    elif code == 787 or (code >= 520 and code <= 579):\n",
    "        return 'digestive'\n",
    "    elif code >= 800 and code <= 999:\n",
    "        return 'injury'\n",
    "    elif code >= 710 and code <= 739:\n",
    "        return 'musculoskeletal'\n",
    "    elif code == '788'or (code >= 580 and code <= 629):\n",
    "        return 'Genitourinary'\n",
    "    elif (code == 780 or code == 781 or code == 784 or code == 782\n",
    "          or (code >= 790 and code <= 799)\n",
    "          or (code >= 140 and code < 250)\n",
    "          or (code > 250 and code <= 279)\n",
    "          or (code >= 680 and code <= 709)\n",
    "          or (code >= 1 and code <= 139)\n",
    "         ):\n",
    "        return 'neoplasms'\n",
    "    else:\n",
    "        return 'others'\n",
    "    "
   ]
  },
  {
   "cell_type": "code",
   "execution_count": 66,
   "metadata": {},
   "outputs": [],
   "source": [
    "data['diag_1'] = data['diag_1'].apply(lambda x: icd9_category(x))\n",
    "data['diag_2'] = data['diag_2'].apply(lambda x: icd9_category(x))\n",
    "data['diag_3'] = data['diag_3'].apply(lambda x: icd9_category(x))"
   ]
  },
  {
   "cell_type": "code",
   "execution_count": 67,
   "metadata": {},
   "outputs": [
    {
     "name": "stdout",
     "output_type": "stream",
     "text": [
      "<class 'pandas.core.frame.DataFrame'>\n",
      "Int64Index: 99340 entries, 0 to 101765\n",
      "Data columns (total 45 columns):\n",
      " #   Column                    Non-Null Count  Dtype \n",
      "---  ------                    --------------  ----- \n",
      " 0   race                      99340 non-null  object\n",
      " 1   gender                    99340 non-null  object\n",
      " 2   age                       99340 non-null  object\n",
      " 3   admission_type_id         99340 non-null  int64 \n",
      " 4   discharge_disposition_id  99340 non-null  int64 \n",
      " 5   admission_source_id       99340 non-null  int64 \n",
      " 6   time_in_hospital          99340 non-null  int64 \n",
      " 7   payer_code                79277 non-null  object\n",
      " 8   medical_specialty         99340 non-null  object\n",
      " 9   num_lab_procedures        99340 non-null  int64 \n",
      " 10  num_procedures            99340 non-null  int64 \n",
      " 11  num_medications           99340 non-null  int64 \n",
      " 12  number_outpatient         99340 non-null  int64 \n",
      " 13  number_emergency          99340 non-null  int64 \n",
      " 14  number_inpatient          99340 non-null  int64 \n",
      " 15  diag_1                    99340 non-null  object\n",
      " 16  diag_2                    99340 non-null  object\n",
      " 17  diag_3                    99340 non-null  object\n",
      " 18  number_diagnoses          99340 non-null  int64 \n",
      " 19  max_glu_serum             99340 non-null  object\n",
      " 20  A1Cresult                 99340 non-null  object\n",
      " 21  metformin                 99340 non-null  object\n",
      " 22  repaglinide               99340 non-null  object\n",
      " 23  nateglinide               99340 non-null  object\n",
      " 24  chlorpropamide            99340 non-null  object\n",
      " 25  glimepiride               99340 non-null  object\n",
      " 26  acetohexamide             99340 non-null  object\n",
      " 27  glipizide                 99340 non-null  object\n",
      " 28  glyburide                 99340 non-null  object\n",
      " 29  tolbutamide               99340 non-null  object\n",
      " 30  pioglitazone              99340 non-null  object\n",
      " 31  rosiglitazone             99340 non-null  object\n",
      " 32  acarbose                  99340 non-null  object\n",
      " 33  miglitol                  99340 non-null  object\n",
      " 34  troglitazone              99340 non-null  object\n",
      " 35  tolazamide                99340 non-null  object\n",
      " 36  insulin                   99340 non-null  object\n",
      " 37  glyburide-metformin       99340 non-null  object\n",
      " 38  glipizide-metformin       99340 non-null  object\n",
      " 39  glimepiride-pioglitazone  99340 non-null  object\n",
      " 40  metformin-rosiglitazone   99340 non-null  object\n",
      " 41  metformin-pioglitazone    99340 non-null  object\n",
      " 42  change                    99340 non-null  object\n",
      " 43  diabetesMed               99340 non-null  object\n",
      " 44  readmitted                99340 non-null  int64 \n",
      "dtypes: int64(12), object(33)\n",
      "memory usage: 34.9+ MB\n"
     ]
    }
   ],
   "source": [
    "data.info()"
   ]
  },
  {
   "cell_type": "code",
   "execution_count": 68,
   "metadata": {},
   "outputs": [],
   "source": [
    "# Categorise 'admission_type_id' and group based on the description\n",
    "\n",
    "def ad_type(adm_code):\n",
    "    if adm_code == 1 or adm_code == 2 or adm_code == 7:\n",
    "        return 'Emergency'\n",
    "    if adm_code == 5 or adm_code == 6 or adm_code == 8:\n",
    "        return 'Not available'\n",
    "    if adm_code == 3:\n",
    "        return 'Elective'\n",
    "    if adm_code == 4:\n",
    "        return 'Newborn'\n",
    "    return adm_code\n",
    "\n",
    "data['admission_type_id'] = data['admission_type_id'].apply(lambda x: ad_type(x))"
   ]
  },
  {
   "cell_type": "code",
   "execution_count": 69,
   "metadata": {},
   "outputs": [
    {
     "name": "stdout",
     "output_type": "stream",
     "text": [
      "object\n"
     ]
    }
   ],
   "source": [
    "print (np.dtype(data['admission_type_id']))"
   ]
  },
  {
   "cell_type": "code",
   "execution_count": 70,
   "metadata": {},
   "outputs": [
    {
     "data": {
      "text/plain": [
       "Missing                          48614\n",
       "InternalMedicine                 14237\n",
       "Emergency/Trauma                  7419\n",
       "Family/GeneralPractice            7252\n",
       "Cardiology                        5278\n",
       "                                 ...  \n",
       "SportsMedicine                       1\n",
       "Psychiatry-Addictive                 1\n",
       "Pediatrics-InfectiousDiseases        1\n",
       "Perinatology                         1\n",
       "Dermatology                          1\n",
       "Name: medical_specialty, Length: 73, dtype: int64"
      ]
     },
     "execution_count": 70,
     "metadata": {},
     "output_type": "execute_result"
    }
   ],
   "source": [
    "# categorise 'medical specialty'\n",
    "data['medical_specialty'].value_counts()"
   ]
  },
  {
   "cell_type": "markdown",
   "metadata": {},
   "source": [
    "#### There are 73 unique categorize, this has to be reduced"
   ]
  },
  {
   "cell_type": "code",
   "execution_count": 71,
   "metadata": {},
   "outputs": [
    {
     "name": "stdout",
     "output_type": "stream",
     "text": [
      "object\n"
     ]
    }
   ],
   "source": [
    "print (np.dtype(data['medical_specialty']))"
   ]
  },
  {
   "cell_type": "code",
   "execution_count": 72,
   "metadata": {},
   "outputs": [
    {
     "data": {
      "text/plain": [
       "Missing                              48614\n",
       "InternalMedicine                     14237\n",
       "Emergency/Trauma                      7419\n",
       "Family/GeneralPractice                7252\n",
       "Cardiology                            5278\n",
       "Surgery-General                       3059\n",
       "Nephrology                            1539\n",
       "Orthopedics                           1392\n",
       "Orthopedics-Reconstructive            1230\n",
       "Radiologist                           1121\n",
       "Pulmonology                            854\n",
       "Psychiatry                             853\n",
       "Urology                                682\n",
       "ObstetricsandGynecology                669\n",
       "Surgery-Cardiovascular/Thoracic        642\n",
       "Gastroenterology                       538\n",
       "Surgery-Vascular                       525\n",
       "Surgery-Neuro                          462\n",
       "PhysicalMedicineandRehabilitation      391\n",
       "Oncology                               319\n",
       "Name: medical_specialty, dtype: int64"
      ]
     },
     "execution_count": 72,
     "metadata": {},
     "output_type": "execute_result"
    }
   ],
   "source": [
    "data['medical_specialty'].value_counts()[:20]"
   ]
  },
  {
   "cell_type": "code",
   "execution_count": 73,
   "metadata": {},
   "outputs": [
    {
     "data": {
      "text/plain": [
       "Pediatrics                  253\n",
       "Neurology                   201\n",
       "Hematology/Oncology         187\n",
       "Pediatrics-Endocrinology    159\n",
       "Otolaryngology              125\n",
       "Endocrinology               119\n",
       "Surgery-Thoracic            108\n",
       "Psychology                  101\n",
       "Podiatry                    100\n",
       "Surgery-Cardiovascular       98\n",
       "Pediatrics-CriticalCare      87\n",
       "Hematology                   75\n",
       "Gynecology                   58\n",
       "Hospitalist                  57\n",
       "Radiology                    53\n",
       "Surgeon                      45\n",
       "Surgery-Plastic              40\n",
       "Osteopath                    38\n",
       "Ophthalmology                38\n",
       "InfectiousDiseases           37\n",
       "Name: medical_specialty, dtype: int64"
      ]
     },
     "execution_count": 73,
     "metadata": {},
     "output_type": "execute_result"
    }
   ],
   "source": [
    "data['medical_specialty'].value_counts()[20:40]"
   ]
  },
  {
   "cell_type": "code",
   "execution_count": 74,
   "metadata": {},
   "outputs": [
    {
     "data": {
      "text/plain": [
       "SurgicalSpecialty                       33\n",
       "Pediatrics-Pulmonology                  25\n",
       "Obsterics&Gynecology-GynecologicOnco    25\n",
       "Obstetrics                              19\n",
       "Anesthesiology-Pediatric                19\n",
       "Rheumatology                            17\n",
       "Pathology                               16\n",
       "OutreachServices                        12\n",
       "Anesthesiology                          12\n",
       "Surgery-Colon&Rectal                    11\n",
       "PhysicianNotFound                       10\n",
       "Pediatrics-Neurology                    10\n",
       "Surgery-Maxillofacial                    9\n",
       "Surgery-Pediatric                        8\n",
       "Endocrinology-Metabolism                 8\n",
       "Cardiology-Pediatric                     7\n",
       "Psychiatry-Child/Adolescent              7\n",
       "AllergyandImmunology                     7\n",
       "DCPTEAM                                  5\n",
       "Dentistry                                4\n",
       "Name: medical_specialty, dtype: int64"
      ]
     },
     "execution_count": 74,
     "metadata": {},
     "output_type": "execute_result"
    }
   ],
   "source": [
    "data['medical_specialty'].value_counts()[40:60]"
   ]
  },
  {
   "cell_type": "code",
   "execution_count": 75,
   "metadata": {},
   "outputs": [
    {
     "data": {
      "text/plain": [
       "Pediatrics-Hematology-Oncology      4\n",
       "Pediatrics-AllergyandImmunology     3\n",
       "Pediatrics-EmergencyMedicine        3\n",
       "Resident                            2\n",
       "Neurophysiology                     1\n",
       "Proctology                          1\n",
       "Speech                              1\n",
       "Surgery-PlasticwithinHeadandNeck    1\n",
       "SportsMedicine                      1\n",
       "Psychiatry-Addictive                1\n",
       "Pediatrics-InfectiousDiseases       1\n",
       "Perinatology                        1\n",
       "Dermatology                         1\n",
       "Name: medical_specialty, dtype: int64"
      ]
     },
     "execution_count": 75,
     "metadata": {},
     "output_type": "execute_result"
    }
   ],
   "source": [
    "data['medical_specialty'].value_counts()[60:73]"
   ]
  },
  {
   "cell_type": "code",
   "execution_count": 76,
   "metadata": {},
   "outputs": [],
   "source": [
    "# Group all the categorizes related to Surgery as one category \"Surgery\"\n",
    "def group_surgery(x):\n",
    "    if x.startswith('Surgery'):\n",
    "        return 'Surgery'\n",
    "    if x == 'Surgeon' or x == 'SurgicalSpecialty':\n",
    "        return 'Surgery'\n",
    "    return x\n",
    "    \n",
    "data['medical_specialty'] = data['medical_specialty'].apply(lambda x: group_surgery(x)) "
   ]
  },
  {
   "cell_type": "code",
   "execution_count": 77,
   "metadata": {},
   "outputs": [
    {
     "data": {
      "text/plain": [
       "Missing                          48614\n",
       "InternalMedicine                 14237\n",
       "Emergency/Trauma                  7419\n",
       "Family/GeneralPractice            7252\n",
       "Cardiology                        5278\n",
       "                                 ...  \n",
       "SportsMedicine                       1\n",
       "Pediatrics-InfectiousDiseases        1\n",
       "Perinatology                         1\n",
       "Psychiatry-Addictive                 1\n",
       "Dermatology                          1\n",
       "Name: medical_specialty, Length: 61, dtype: int64"
      ]
     },
     "execution_count": 77,
     "metadata": {},
     "output_type": "execute_result"
    }
   ],
   "source": [
    "data['medical_specialty'].value_counts()"
   ]
  },
  {
   "cell_type": "code",
   "execution_count": 78,
   "metadata": {},
   "outputs": [],
   "source": [
    "# Group all the categorizes related to pediatrics as 'Pediatrics'\n",
    "def group_pediatrics(x):\n",
    "    if x.startswith('Pediatrics'):\n",
    "        return 'Pediatrics'\n",
    "    if x == 'Anesthesiology-Pediatric' or x == 'Cardiology-Pediatric':\n",
    "        return 'Pediatrics'\n",
    "    return x\n",
    "\n",
    "data['medical_specialty'] = data['medical_specialty'].apply(lambda x: group_pediatrics(x))"
   ]
  },
  {
   "cell_type": "code",
   "execution_count": 79,
   "metadata": {},
   "outputs": [
    {
     "data": {
      "text/plain": [
       "Missing                                 48.936984\n",
       "InternalMedicine                        14.331588\n",
       "Emergency/Trauma                         7.468291\n",
       "Family/GeneralPractice                   7.300181\n",
       "Cardiology                               5.313066\n",
       "Surgery                                  5.074492\n",
       "Nephrology                               1.549225\n",
       "Orthopedics                              1.401248\n",
       "Orthopedics-Reconstructive               1.238172\n",
       "Radiologist                              1.128448\n",
       "Pulmonology                              0.859674\n",
       "Psychiatry                               0.858667\n",
       "Urology                                  0.686531\n",
       "ObstetricsandGynecology                  0.673445\n",
       "Pediatrics                               0.574794\n",
       "Gastroenterology                         0.541574\n",
       "PhysicalMedicineandRehabilitation        0.393598\n",
       "Oncology                                 0.321119\n",
       "Neurology                                0.202335\n",
       "Hematology/Oncology                      0.188242\n",
       "Otolaryngology                           0.125830\n",
       "Endocrinology                            0.119791\n",
       "Psychology                               0.101671\n",
       "Podiatry                                 0.100664\n",
       "Hematology                               0.075498\n",
       "Gynecology                               0.058385\n",
       "Hospitalist                              0.057379\n",
       "Radiology                                0.053352\n",
       "Ophthalmology                            0.038252\n",
       "Osteopath                                0.038252\n",
       "InfectiousDiseases                       0.037246\n",
       "Obsterics&Gynecology-GynecologicOnco     0.025166\n",
       "Obstetrics                               0.019126\n",
       "Rheumatology                             0.017113\n",
       "Pathology                                0.016106\n",
       "Anesthesiology                           0.012080\n",
       "OutreachServices                         0.012080\n",
       "PhysicianNotFound                        0.010066\n",
       "Endocrinology-Metabolism                 0.008053\n",
       "Psychiatry-Child/Adolescent              0.007047\n",
       "AllergyandImmunology                     0.007047\n",
       "DCPTEAM                                  0.005033\n",
       "Dentistry                                0.004027\n",
       "Resident                                 0.002013\n",
       "Proctology                               0.001007\n",
       "Neurophysiology                          0.001007\n",
       "Speech                                   0.001007\n",
       "SportsMedicine                           0.001007\n",
       "Psychiatry-Addictive                     0.001007\n",
       "Perinatology                             0.001007\n",
       "Dermatology                              0.001007\n",
       "Name: medical_specialty, dtype: float64"
      ]
     },
     "execution_count": 79,
     "metadata": {},
     "output_type": "execute_result"
    }
   ],
   "source": [
    "data['medical_specialty'].value_counts()/len(data) * 100"
   ]
  },
  {
   "cell_type": "code",
   "execution_count": 80,
   "metadata": {},
   "outputs": [],
   "source": [
    "# Replace PhysicianNotFound as Missing\n",
    "data['medical_specialty'] = data['medical_specialty'].replace('PhysicianNotFound', 'Missing')\n",
    "\n",
    "# Replace Family/GeneralPractice with InternalMedicine\n",
    "data['medical_specialty'] = data['medical_specialty'].replace(['Family/GeneralPractice', 'Hospitalist', 'InfectiousDiseases'], 'InternalMedicine' )\n",
    "\n",
    "data['medical_specialty'] = data['medical_specialty'].replace(['Orthopedics-Reconstructive', 'SportsMedicine', 'Rheumatology'], 'Orthopedics')\n",
    "\n",
    "data['medical_specialty'] = data['medical_specialty'].replace(['Perinatology', 'Obsterics&Gynecology-GynecologicOnco', 'ObstetricsandGynecology', 'Gynecology'], 'Obstetrics')\n",
    "\n",
    "data['medical_specialty'] = data['medical_specialty'].replace('Radiologist', 'Radiology')\n",
    "\n"
   ]
  },
  {
   "cell_type": "code",
   "execution_count": 81,
   "metadata": {},
   "outputs": [
    {
     "data": {
      "text/plain": [
       "Missing                              48.947051\n",
       "InternalMedicine                     21.726394\n",
       "Emergency/Trauma                      7.468291\n",
       "Cardiology                            5.313066\n",
       "Surgery                               5.074492\n",
       "Orthopedics                           2.657540\n",
       "Nephrology                            1.549225\n",
       "Radiology                             1.181800\n",
       "Pulmonology                           0.859674\n",
       "Psychiatry                            0.858667\n",
       "Obstetrics                            0.777129\n",
       "Urology                               0.686531\n",
       "Pediatrics                            0.574794\n",
       "Gastroenterology                      0.541574\n",
       "PhysicalMedicineandRehabilitation     0.393598\n",
       "Oncology                              0.321119\n",
       "Neurology                             0.202335\n",
       "Hematology/Oncology                   0.188242\n",
       "Otolaryngology                        0.125830\n",
       "Endocrinology                         0.119791\n",
       "Psychology                            0.101671\n",
       "Podiatry                              0.100664\n",
       "Hematology                            0.075498\n",
       "Osteopath                             0.038252\n",
       "Ophthalmology                         0.038252\n",
       "Pathology                             0.016106\n",
       "Anesthesiology                        0.012080\n",
       "OutreachServices                      0.012080\n",
       "Endocrinology-Metabolism              0.008053\n",
       "AllergyandImmunology                  0.007047\n",
       "Psychiatry-Child/Adolescent           0.007047\n",
       "DCPTEAM                               0.005033\n",
       "Dentistry                             0.004027\n",
       "Resident                              0.002013\n",
       "Speech                                0.001007\n",
       "Psychiatry-Addictive                  0.001007\n",
       "Neurophysiology                       0.001007\n",
       "Proctology                            0.001007\n",
       "Dermatology                           0.001007\n",
       "Name: medical_specialty, dtype: float64"
      ]
     },
     "execution_count": 81,
     "metadata": {},
     "output_type": "execute_result"
    }
   ],
   "source": [
    "data['medical_specialty'].value_counts()/len(data) * 100"
   ]
  },
  {
   "cell_type": "code",
   "execution_count": 82,
   "metadata": {},
   "outputs": [],
   "source": [
    "sr = (data['medical_specialty'].value_counts()/len(data) * 100) < 0.4\n",
    "data['medical_specialty'] = data['medical_specialty'].replace(sr[sr].index, 'Others')"
   ]
  },
  {
   "cell_type": "code",
   "execution_count": 83,
   "metadata": {},
   "outputs": [
    {
     "data": {
      "text/plain": [
       "Missing             48.947051\n",
       "InternalMedicine    21.726394\n",
       "Emergency/Trauma     7.468291\n",
       "Cardiology           5.313066\n",
       "Surgery              5.074492\n",
       "Orthopedics          2.657540\n",
       "Others               1.783773\n",
       "Nephrology           1.549225\n",
       "Radiology            1.181800\n",
       "Pulmonology          0.859674\n",
       "Psychiatry           0.858667\n",
       "Obstetrics           0.777129\n",
       "Urology              0.686531\n",
       "Pediatrics           0.574794\n",
       "Gastroenterology     0.541574\n",
       "Name: medical_specialty, dtype: float64"
      ]
     },
     "execution_count": 83,
     "metadata": {},
     "output_type": "execute_result"
    }
   ],
   "source": [
    "data['medical_specialty'].value_counts()/len(data) * 100"
   ]
  },
  {
   "cell_type": "code",
   "execution_count": 84,
   "metadata": {},
   "outputs": [
    {
     "data": {
      "text/plain": [
       "7     55848\n",
       "1     29167\n",
       "17     6570\n",
       "4      3118\n",
       "6      2239\n",
       "2      1081\n",
       "5       806\n",
       "3       185\n",
       "20      159\n",
       "9       125\n",
       "8        15\n",
       "22       12\n",
       "10        8\n",
       "11        2\n",
       "14        2\n",
       "25        2\n",
       "13        1\n",
       "Name: admission_source_id, dtype: int64"
      ]
     },
     "execution_count": 84,
     "metadata": {},
     "output_type": "execute_result"
    }
   ],
   "source": [
    "# Cluster 'admission_source_id'\n",
    "data['admission_source_id'].value_counts()"
   ]
  },
  {
   "cell_type": "markdown",
   "metadata": {},
   "source": [
    "#### admission_source_id has 26 distinct values"
   ]
  },
  {
   "cell_type": "code",
   "execution_count": 85,
   "metadata": {},
   "outputs": [],
   "source": [
    "# combine 15, 17, 20, 21 to 9 (Not Available)\n",
    "data['admission_source_id'] = data['admission_source_id'].replace([15, 17, 20, 21], 9)\n"
   ]
  },
  {
   "cell_type": "code",
   "execution_count": 86,
   "metadata": {},
   "outputs": [
    {
     "data": {
      "text/plain": [
       "7     55848\n",
       "1     29167\n",
       "9      6854\n",
       "4      3118\n",
       "6      2239\n",
       "2      1081\n",
       "5       806\n",
       "3       185\n",
       "8        15\n",
       "22       12\n",
       "10        8\n",
       "25        2\n",
       "14        2\n",
       "11        2\n",
       "13        1\n",
       "Name: admission_source_id, dtype: int64"
      ]
     },
     "execution_count": 86,
     "metadata": {},
     "output_type": "execute_result"
    }
   ],
   "source": [
    "data['admission_source_id'].value_counts()"
   ]
  },
  {
   "cell_type": "code",
   "execution_count": 87,
   "metadata": {},
   "outputs": [
    {
     "data": {
      "text/plain": [
       "7     55858\n",
       "1     29352\n",
       "9      6854\n",
       "4      6175\n",
       "2      1081\n",
       "27       20\n",
       "Name: admission_source_id, dtype: int64"
      ]
     },
     "execution_count": 87,
     "metadata": {},
     "output_type": "execute_result"
    }
   ],
   "source": [
    "# Replace 10, 25 with 7 (Emergency Room)\n",
    "# Replace 5, 6, 22 with 4 (Transfer from Hospital)\n",
    "# Replace 3 with 1 (Physicial Referral)\n",
    "# Replace others as 27(Others)\n",
    "data['admission_source_id'] = data['admission_source_id'].replace([10, 25], 7)\n",
    "data['admission_source_id'] = data['admission_source_id'].replace([5, 6, 22], 4)\n",
    "data['admission_source_id'] = data['admission_source_id'].replace(3, 1)\n",
    "data['admission_source_id'] = data['admission_source_id'].replace([8, 14, 11, 13], 27)\n",
    "data['admission_source_id'].value_counts()"
   ]
  },
  {
   "cell_type": "code",
   "execution_count": 88,
   "metadata": {},
   "outputs": [
    {
     "data": {
      "text/plain": [
       "1     60232\n",
       "3     13954\n",
       "6     12902\n",
       "18     3691\n",
       "2      2128\n",
       "22     1992\n",
       "5      1184\n",
       "25      989\n",
       "4       815\n",
       "7       623\n",
       "23      412\n",
       "28      139\n",
       "8       108\n",
       "15       63\n",
       "24       48\n",
       "9        21\n",
       "17       14\n",
       "16       11\n",
       "10        6\n",
       "27        5\n",
       "12        3\n",
       "Name: discharge_disposition_id, dtype: int64"
      ]
     },
     "execution_count": 88,
     "metadata": {},
     "output_type": "execute_result"
    }
   ],
   "source": [
    "# Cluster the 'discharge_disposition_id\n",
    "# check the unique values\n",
    "data['discharge_disposition_id'].value_counts()"
   ]
  },
  {
   "cell_type": "code",
   "execution_count": 89,
   "metadata": {},
   "outputs": [
    {
     "data": {
      "text/plain": [
       "1     60232\n",
       "2     33781\n",
       "18     3691\n",
       "25      989\n",
       "7       623\n",
       "9        21\n",
       "12        3\n",
       "Name: discharge_disposition_id, dtype: int64"
      ]
     },
     "execution_count": 89,
     "metadata": {},
     "output_type": "execute_result"
    }
   ],
   "source": [
    "data['discharge_disposition_id'] = data['discharge_disposition_id'].replace(\n",
    "    [3, 4, 5, 6, 8, 10, 15, 16, 17, 22, 23, 24, 27, 28, 29, 30], 2)\n",
    "data['discharge_disposition_id'].value_counts()"
   ]
  },
  {
   "cell_type": "code",
   "execution_count": 90,
   "metadata": {},
   "outputs": [
    {
     "data": {
      "text/plain": [
       "0    88026\n",
       "1    11314\n",
       "Name: readmitted, dtype: int64"
      ]
     },
     "execution_count": 90,
     "metadata": {},
     "output_type": "execute_result"
    }
   ],
   "source": [
    "data['readmitted'].value_counts()"
   ]
  },
  {
   "cell_type": "code",
   "execution_count": 91,
   "metadata": {},
   "outputs": [],
   "source": [
    "# We are interested in patients who got readmitted < 30, so combine 'No' and '>30'\n",
    "# so encode <30 as readmitted=1 an rest as 0\n",
    "data['readmitted'] = data['readmitted'].replace('<30', 1)\n",
    "data['readmitted'] = data['readmitted'].replace(['>30', 'NO'], 0)"
   ]
  },
  {
   "cell_type": "code",
   "execution_count": 92,
   "metadata": {},
   "outputs": [
    {
     "data": {
      "text/plain": [
       "0    88026\n",
       "1    11314\n",
       "Name: readmitted, dtype: int64"
      ]
     },
     "execution_count": 92,
     "metadata": {},
     "output_type": "execute_result"
    }
   ],
   "source": [
    "data['readmitted'].value_counts()"
   ]
  },
  {
   "cell_type": "code",
   "execution_count": 93,
   "metadata": {},
   "outputs": [
    {
     "name": "stdout",
     "output_type": "stream",
     "text": [
      "<class 'pandas.core.frame.DataFrame'>\n",
      "Int64Index: 99340 entries, 0 to 101765\n",
      "Data columns (total 45 columns):\n",
      " #   Column                    Non-Null Count  Dtype \n",
      "---  ------                    --------------  ----- \n",
      " 0   race                      99340 non-null  object\n",
      " 1   gender                    99340 non-null  object\n",
      " 2   age                       99340 non-null  object\n",
      " 3   admission_type_id         99340 non-null  object\n",
      " 4   discharge_disposition_id  99340 non-null  int64 \n",
      " 5   admission_source_id       99340 non-null  int64 \n",
      " 6   time_in_hospital          99340 non-null  int64 \n",
      " 7   payer_code                79277 non-null  object\n",
      " 8   medical_specialty         99340 non-null  object\n",
      " 9   num_lab_procedures        99340 non-null  int64 \n",
      " 10  num_procedures            99340 non-null  int64 \n",
      " 11  num_medications           99340 non-null  int64 \n",
      " 12  number_outpatient         99340 non-null  int64 \n",
      " 13  number_emergency          99340 non-null  int64 \n",
      " 14  number_inpatient          99340 non-null  int64 \n",
      " 15  diag_1                    99340 non-null  object\n",
      " 16  diag_2                    99340 non-null  object\n",
      " 17  diag_3                    99340 non-null  object\n",
      " 18  number_diagnoses          99340 non-null  int64 \n",
      " 19  max_glu_serum             99340 non-null  object\n",
      " 20  A1Cresult                 99340 non-null  object\n",
      " 21  metformin                 99340 non-null  object\n",
      " 22  repaglinide               99340 non-null  object\n",
      " 23  nateglinide               99340 non-null  object\n",
      " 24  chlorpropamide            99340 non-null  object\n",
      " 25  glimepiride               99340 non-null  object\n",
      " 26  acetohexamide             99340 non-null  object\n",
      " 27  glipizide                 99340 non-null  object\n",
      " 28  glyburide                 99340 non-null  object\n",
      " 29  tolbutamide               99340 non-null  object\n",
      " 30  pioglitazone              99340 non-null  object\n",
      " 31  rosiglitazone             99340 non-null  object\n",
      " 32  acarbose                  99340 non-null  object\n",
      " 33  miglitol                  99340 non-null  object\n",
      " 34  troglitazone              99340 non-null  object\n",
      " 35  tolazamide                99340 non-null  object\n",
      " 36  insulin                   99340 non-null  object\n",
      " 37  glyburide-metformin       99340 non-null  object\n",
      " 38  glipizide-metformin       99340 non-null  object\n",
      " 39  glimepiride-pioglitazone  99340 non-null  object\n",
      " 40  metformin-rosiglitazone   99340 non-null  object\n",
      " 41  metformin-pioglitazone    99340 non-null  object\n",
      " 42  change                    99340 non-null  object\n",
      " 43  diabetesMed               99340 non-null  object\n",
      " 44  readmitted                99340 non-null  int64 \n",
      "dtypes: int64(11), object(34)\n",
      "memory usage: 34.9+ MB\n"
     ]
    }
   ],
   "source": [
    "data.info()"
   ]
  },
  {
   "cell_type": "code",
   "execution_count": 94,
   "metadata": {},
   "outputs": [
    {
     "data": {
      "text/plain": [
       "race                         0.000000\n",
       "gender                       0.000000\n",
       "age                          0.000000\n",
       "admission_type_id            0.000000\n",
       "discharge_disposition_id     0.000000\n",
       "admission_source_id          0.000000\n",
       "time_in_hospital             0.000000\n",
       "payer_code                  20.196296\n",
       "medical_specialty            0.000000\n",
       "num_lab_procedures           0.000000\n",
       "num_procedures               0.000000\n",
       "num_medications              0.000000\n",
       "number_outpatient            0.000000\n",
       "number_emergency             0.000000\n",
       "number_inpatient             0.000000\n",
       "diag_1                       0.000000\n",
       "diag_2                       0.000000\n",
       "diag_3                       0.000000\n",
       "number_diagnoses             0.000000\n",
       "max_glu_serum                0.000000\n",
       "A1Cresult                    0.000000\n",
       "metformin                    0.000000\n",
       "repaglinide                  0.000000\n",
       "nateglinide                  0.000000\n",
       "chlorpropamide               0.000000\n",
       "glimepiride                  0.000000\n",
       "acetohexamide                0.000000\n",
       "glipizide                    0.000000\n",
       "glyburide                    0.000000\n",
       "tolbutamide                  0.000000\n",
       "pioglitazone                 0.000000\n",
       "rosiglitazone                0.000000\n",
       "acarbose                     0.000000\n",
       "miglitol                     0.000000\n",
       "troglitazone                 0.000000\n",
       "tolazamide                   0.000000\n",
       "insulin                      0.000000\n",
       "glyburide-metformin          0.000000\n",
       "glipizide-metformin          0.000000\n",
       "glimepiride-pioglitazone     0.000000\n",
       "metformin-rosiglitazone      0.000000\n",
       "metformin-pioglitazone       0.000000\n",
       "change                       0.000000\n",
       "diabetesMed                  0.000000\n",
       "readmitted                   0.000000\n",
       "dtype: float64"
      ]
     },
     "execution_count": 94,
     "metadata": {},
     "output_type": "execute_result"
    }
   ],
   "source": [
    "data.isna().sum(axis=0)/len(data)*100"
   ]
  },
  {
   "cell_type": "markdown",
   "metadata": {},
   "source": [
    "### Feature Creation"
   ]
  },
  {
   "cell_type": "code",
   "execution_count": 95,
   "metadata": {},
   "outputs": [
    {
     "data": {
      "text/html": [
       "<div>\n",
       "<style scoped>\n",
       "    .dataframe tbody tr th:only-of-type {\n",
       "        vertical-align: middle;\n",
       "    }\n",
       "\n",
       "    .dataframe tbody tr th {\n",
       "        vertical-align: top;\n",
       "    }\n",
       "\n",
       "    .dataframe thead th {\n",
       "        text-align: right;\n",
       "    }\n",
       "</style>\n",
       "<table border=\"1\" class=\"dataframe\">\n",
       "  <thead>\n",
       "    <tr style=\"text-align: right;\">\n",
       "      <th></th>\n",
       "      <th>service_utilization</th>\n",
       "      <th>number_inpatient</th>\n",
       "      <th>number_outpatient</th>\n",
       "      <th>number_emergency</th>\n",
       "    </tr>\n",
       "  </thead>\n",
       "  <tbody>\n",
       "    <tr>\n",
       "      <th>0</th>\n",
       "      <td>0</td>\n",
       "      <td>0</td>\n",
       "      <td>0</td>\n",
       "      <td>0</td>\n",
       "    </tr>\n",
       "    <tr>\n",
       "      <th>1</th>\n",
       "      <td>0</td>\n",
       "      <td>0</td>\n",
       "      <td>0</td>\n",
       "      <td>0</td>\n",
       "    </tr>\n",
       "    <tr>\n",
       "      <th>2</th>\n",
       "      <td>3</td>\n",
       "      <td>1</td>\n",
       "      <td>2</td>\n",
       "      <td>0</td>\n",
       "    </tr>\n",
       "    <tr>\n",
       "      <th>3</th>\n",
       "      <td>0</td>\n",
       "      <td>0</td>\n",
       "      <td>0</td>\n",
       "      <td>0</td>\n",
       "    </tr>\n",
       "    <tr>\n",
       "      <th>4</th>\n",
       "      <td>0</td>\n",
       "      <td>0</td>\n",
       "      <td>0</td>\n",
       "      <td>0</td>\n",
       "    </tr>\n",
       "  </tbody>\n",
       "</table>\n",
       "</div>"
      ],
      "text/plain": [
       "   service_utilization  number_inpatient  number_outpatient  number_emergency\n",
       "0                    0                 0                  0                 0\n",
       "1                    0                 0                  0                 0\n",
       "2                    3                 1                  2                 0\n",
       "3                    0                 0                  0                 0\n",
       "4                    0                 0                  0                 0"
      ]
     },
     "execution_count": 95,
     "metadata": {},
     "output_type": "execute_result"
    }
   ],
   "source": [
    "# Combine 'number_inpatient', 'number_outpatient' 'number_emergency' to derive new feature, 'service_utilization'\n",
    "data['service_utilization'] = data[['number_inpatient', 'number_outpatient','number_emergency']].sum(axis=1)\n",
    "data[['service_utilization', 'number_inpatient', 'number_outpatient', 'number_emergency']].head()"
   ]
  },
  {
   "cell_type": "code",
   "execution_count": 96,
   "metadata": {},
   "outputs": [
    {
     "name": "stdout",
     "output_type": "stream",
     "text": [
      "['metformin', 'repaglinide', 'nateglinide', 'chlorpropamide', 'glimepiride', 'acetohexamide', 'glipizide', 'glyburide', 'tolbutamide', 'pioglitazone', 'rosiglitazone', 'acarbose', 'miglitol', 'troglitazone', 'tolazamide', 'insulin', 'glyburide-metformin', 'glipizide-metformin', 'glimepiride-pioglitazone', 'metformin-rosiglitazone', 'metformin-pioglitazone']\n"
     ]
    }
   ],
   "source": [
    "# columns of all the 20 medication\n",
    "columns = ['metformin', 'repaglinide', 'nateglinide', 'chlorpropamide',\n",
    "       'glimepiride', 'acetohexamide', 'glipizide', 'glyburide', 'tolbutamide',\n",
    "       'pioglitazone', 'rosiglitazone', 'acarbose', 'miglitol', 'troglitazone',\n",
    "       'tolazamide', 'insulin', 'glyburide-metformin', 'glipizide-metformin',\n",
    "       'glimepiride-pioglitazone', 'metformin-rosiglitazone', 'metformin-pioglitazone'] \n",
    "print (columns)"
   ]
  },
  {
   "cell_type": "code",
   "execution_count": 97,
   "metadata": {},
   "outputs": [],
   "source": [
    "# Combine, UP+Down as 'medication_change' considering all the 20 medication used\n",
    "count = 0\n",
    "data['medication_change'] = np.nan\n",
    "for i, row in data.iterrows():\n",
    "    row  = list(row)\n",
    "    data['medication_change'][i] = row.count('Up') + row.count('Down')\n",
    "    \n",
    "data['medication_change'] = data['medication_change'].astype('int64')"
   ]
  },
  {
   "cell_type": "code",
   "execution_count": 98,
   "metadata": {},
   "outputs": [
    {
     "data": {
      "text/plain": [
       "0    0\n",
       "1    1\n",
       "2    0\n",
       "3    1\n",
       "4    0\n",
       "Name: medication_change, dtype: int64"
      ]
     },
     "execution_count": 98,
     "metadata": {},
     "output_type": "execute_result"
    }
   ],
   "source": [
    "data['medication_change'].head()"
   ]
  },
  {
   "cell_type": "code",
   "execution_count": 99,
   "metadata": {},
   "outputs": [],
   "source": [
    "# Get the total medication used, Up+Down+Steady\n",
    "data['count_of_medication'] = np.nan\n",
    "for i, row in data.iterrows():\n",
    "    row  = list(row)\n",
    "    data['count_of_medication'][i] = row.count('Up') + row.count('Down') + row.count('Steady')\n",
    "    \n",
    "data['count_of_medication'] = data['count_of_medication'].astype('int64')"
   ]
  },
  {
   "cell_type": "code",
   "execution_count": 100,
   "metadata": {},
   "outputs": [
    {
     "data": {
      "text/plain": [
       "0    0\n",
       "1    1\n",
       "2    1\n",
       "3    1\n",
       "4    2\n",
       "Name: count_of_medication, dtype: int64"
      ]
     },
     "execution_count": 100,
     "metadata": {},
     "output_type": "execute_result"
    }
   ],
   "source": [
    "data['count_of_medication'].head()"
   ]
  },
  {
   "cell_type": "markdown",
   "metadata": {},
   "source": [
    "### Log Transformation"
   ]
  },
  {
   "cell_type": "markdown",
   "metadata": {},
   "source": [
    "Numeric variables \"number_inpatient”, “number_outpatient”, “number_emergency\" are skewed as we saw in the graphs"
   ]
  },
  {
   "cell_type": "code",
   "execution_count": 101,
   "metadata": {},
   "outputs": [
    {
     "name": "stdout",
     "output_type": "stream",
     "text": [
      "skew ratio for number_inpatient = 3.633364965761238\n",
      "skew ratio for number_outpatient = 8.839543644977354\n",
      "skew ratio for number_emergency = 22.848462012319096\n"
     ]
    }
   ],
   "source": [
    "print('skew ratio for number_inpatient =', data['number_inpatient'].skew())\n",
    "print('skew ratio for number_outpatient =', data['number_outpatient'].skew())\n",
    "print('skew ratio for number_emergency =', data['number_emergency'].skew())"
   ]
  },
  {
   "cell_type": "code",
   "execution_count": 102,
   "metadata": {},
   "outputs": [],
   "source": [
    "to_log = ['number_inpatient', 'number_outpatient', 'number_emergency']\n",
    "\n",
    "data[to_log] = data[to_log].applymap(lambda x: np.log(x+1))"
   ]
  },
  {
   "cell_type": "code",
   "execution_count": 103,
   "metadata": {},
   "outputs": [
    {
     "data": {
      "text/plain": [
       "<AxesSubplot:xlabel='number_outpatient', ylabel='Density'>"
      ]
     },
     "execution_count": 103,
     "metadata": {},
     "output_type": "execute_result"
    },
    {
     "data": {
      "image/png": "[encoded data removed]",
      "text/plain": [
       "<Figure size 432x288 with 3 Axes>"
      ]
     },
     "metadata": {
      "needs_background": "light"
     },
     "output_type": "display_data"
    }
   ],
   "source": [
    "plt.subplot(1, 3, 1)\n",
    "sns.distplot(data['number_emergency'])\n",
    "\n",
    "plt.subplot(1, 3, 2)\n",
    "sns.distplot(data['number_inpatient'])\n",
    "\n",
    "plt.subplot(1, 3, 3)\n",
    "sns.distplot(data['number_outpatient'])"
   ]
  },
  {
   "cell_type": "code",
   "execution_count": 104,
   "metadata": {},
   "outputs": [
    {
     "name": "stdout",
     "output_type": "stream",
     "text": [
      "skew ratio for number_inpatient = 1.4550640935683798\n",
      "skew ratio for number_outpatient = 2.736857795422908\n",
      "skew ratio for number_emergency = 3.6663175832285333\n"
     ]
    }
   ],
   "source": [
    "print('skew ratio for number_inpatient =', data['number_inpatient'].skew())\n",
    "print('skew ratio for number_outpatient =', data['number_outpatient'].skew())\n",
    "print('skew ratio for number_emergency =', data['number_emergency'].skew())"
   ]
  },
  {
   "cell_type": "code",
   "execution_count": 105,
   "metadata": {},
   "outputs": [
    {
     "data": {
      "text/plain": [
       "<AxesSubplot:xlabel='service_utilization', ylabel='Density'>"
      ]
     },
     "execution_count": 105,
     "metadata": {},
     "output_type": "execute_result"
    },
    {
     "data": {
      "image/png": "[encoded data removed]",
      "text/plain": [
       "<Figure size 432x288 with 3 Axes>"
      ]
     },
     "metadata": {
      "needs_background": "light"
     },
     "output_type": "display_data"
    }
   ],
   "source": [
    "# check the distributions of the newly created variables\n",
    "plt.subplot(1, 3, 1)\n",
    "sns.distplot(data['count_of_medication'])\n",
    "\n",
    "plt.subplot(1, 3, 2)\n",
    "sns.distplot(data['medication_change'])\n",
    "\n",
    "plt.subplot(1, 3, 3)\n",
    "sns.distplot(data['service_utilization'])"
   ]
  },
  {
   "cell_type": "code",
   "execution_count": 106,
   "metadata": {},
   "outputs": [
    {
     "data": {
      "text/plain": [
       "<AxesSubplot:xlabel='service_utilization', ylabel='Density'>"
      ]
     },
     "execution_count": 106,
     "metadata": {},
     "output_type": "execute_result"
    },
    {
     "data": {
      "image/png": "[encoded data removed]",
      "text/plain": [
       "<Figure size 432x288 with 1 Axes>"
      ]
     },
     "metadata": {
      "needs_background": "light"
     },
     "output_type": "display_data"
    }
   ],
   "source": [
    "# service_utilization if higly skewed, so transform it\n",
    "data['service_utilization'] = data['service_utilization'].apply(lambda x: np.log(x+1))\n",
    "sns.distplot(data['service_utilization'])"
   ]
  },
  {
   "cell_type": "markdown",
   "metadata": {},
   "source": [
    "### Standardization"
   ]
  },
  {
   "cell_type": "code",
   "execution_count": 107,
   "metadata": {},
   "outputs": [
    {
     "data": {
      "text/html": [
       "<div>\n",
       "<style scoped>\n",
       "    .dataframe tbody tr th:only-of-type {\n",
       "        vertical-align: middle;\n",
       "    }\n",
       "\n",
       "    .dataframe tbody tr th {\n",
       "        vertical-align: top;\n",
       "    }\n",
       "\n",
       "    .dataframe thead th {\n",
       "        text-align: right;\n",
       "    }\n",
       "</style>\n",
       "<table border=\"1\" class=\"dataframe\">\n",
       "  <thead>\n",
       "    <tr style=\"text-align: right;\">\n",
       "      <th></th>\n",
       "      <th>discharge_disposition_id</th>\n",
       "      <th>admission_source_id</th>\n",
       "      <th>time_in_hospital</th>\n",
       "      <th>num_lab_procedures</th>\n",
       "      <th>num_procedures</th>\n",
       "      <th>num_medications</th>\n",
       "      <th>number_outpatient</th>\n",
       "      <th>number_emergency</th>\n",
       "      <th>number_inpatient</th>\n",
       "      <th>number_diagnoses</th>\n",
       "      <th>readmitted</th>\n",
       "      <th>service_utilization</th>\n",
       "      <th>medication_change</th>\n",
       "      <th>count_of_medication</th>\n",
       "    </tr>\n",
       "  </thead>\n",
       "  <tbody>\n",
       "    <tr>\n",
       "      <th>count</th>\n",
       "      <td>99340.000000</td>\n",
       "      <td>99340.000000</td>\n",
       "      <td>99340.000000</td>\n",
       "      <td>99340.000000</td>\n",
       "      <td>99340.000000</td>\n",
       "      <td>99340.000000</td>\n",
       "      <td>99340.000000</td>\n",
       "      <td>99340.000000</td>\n",
       "      <td>99340.000000</td>\n",
       "      <td>99340.000000</td>\n",
       "      <td>99340.000000</td>\n",
       "      <td>99340.000000</td>\n",
       "      <td>99340.000000</td>\n",
       "      <td>99340.000000</td>\n",
       "    </tr>\n",
       "    <tr>\n",
       "      <th>mean</th>\n",
       "      <td>2.250282</td>\n",
       "      <td>5.128307</td>\n",
       "      <td>4.379364</td>\n",
       "      <td>42.907198</td>\n",
       "      <td>1.334196</td>\n",
       "      <td>15.979052</td>\n",
       "      <td>0.172196</td>\n",
       "      <td>0.101920</td>\n",
       "      <td>0.323910</td>\n",
       "      <td>7.401752</td>\n",
       "      <td>0.113892</td>\n",
       "      <td>0.512629</td>\n",
       "      <td>0.287377</td>\n",
       "      <td>1.187367</td>\n",
       "    </tr>\n",
       "    <tr>\n",
       "      <th>std</th>\n",
       "      <td>3.936027</td>\n",
       "      <td>2.884748</td>\n",
       "      <td>2.968393</td>\n",
       "      <td>19.609887</td>\n",
       "      <td>1.702770</td>\n",
       "      <td>8.094931</td>\n",
       "      <td>0.429302</td>\n",
       "      <td>0.315510</td>\n",
       "      <td>0.509925</td>\n",
       "      <td>1.940990</td>\n",
       "      <td>0.317681</td>\n",
       "      <td>0.662199</td>\n",
       "      <td>0.487866</td>\n",
       "      <td>0.922431</td>\n",
       "    </tr>\n",
       "    <tr>\n",
       "      <th>min</th>\n",
       "      <td>1.000000</td>\n",
       "      <td>1.000000</td>\n",
       "      <td>1.000000</td>\n",
       "      <td>1.000000</td>\n",
       "      <td>0.000000</td>\n",
       "      <td>1.000000</td>\n",
       "      <td>0.000000</td>\n",
       "      <td>0.000000</td>\n",
       "      <td>0.000000</td>\n",
       "      <td>1.000000</td>\n",
       "      <td>0.000000</td>\n",
       "      <td>0.000000</td>\n",
       "      <td>0.000000</td>\n",
       "      <td>0.000000</td>\n",
       "    </tr>\n",
       "    <tr>\n",
       "      <th>25%</th>\n",
       "      <td>1.000000</td>\n",
       "      <td>1.000000</td>\n",
       "      <td>2.000000</td>\n",
       "      <td>31.000000</td>\n",
       "      <td>0.000000</td>\n",
       "      <td>10.000000</td>\n",
       "      <td>0.000000</td>\n",
       "      <td>0.000000</td>\n",
       "      <td>0.000000</td>\n",
       "      <td>6.000000</td>\n",
       "      <td>0.000000</td>\n",
       "      <td>0.000000</td>\n",
       "      <td>0.000000</td>\n",
       "      <td>1.000000</td>\n",
       "    </tr>\n",
       "    <tr>\n",
       "      <th>50%</th>\n",
       "      <td>1.000000</td>\n",
       "      <td>7.000000</td>\n",
       "      <td>4.000000</td>\n",
       "      <td>44.000000</td>\n",
       "      <td>1.000000</td>\n",
       "      <td>15.000000</td>\n",
       "      <td>0.000000</td>\n",
       "      <td>0.000000</td>\n",
       "      <td>0.000000</td>\n",
       "      <td>8.000000</td>\n",
       "      <td>0.000000</td>\n",
       "      <td>0.000000</td>\n",
       "      <td>0.000000</td>\n",
       "      <td>1.000000</td>\n",
       "    </tr>\n",
       "    <tr>\n",
       "      <th>75%</th>\n",
       "      <td>2.000000</td>\n",
       "      <td>7.000000</td>\n",
       "      <td>6.000000</td>\n",
       "      <td>57.000000</td>\n",
       "      <td>2.000000</td>\n",
       "      <td>20.000000</td>\n",
       "      <td>0.000000</td>\n",
       "      <td>0.000000</td>\n",
       "      <td>0.693147</td>\n",
       "      <td>9.000000</td>\n",
       "      <td>0.000000</td>\n",
       "      <td>1.098612</td>\n",
       "      <td>1.000000</td>\n",
       "      <td>2.000000</td>\n",
       "    </tr>\n",
       "    <tr>\n",
       "      <th>max</th>\n",
       "      <td>25.000000</td>\n",
       "      <td>27.000000</td>\n",
       "      <td>14.000000</td>\n",
       "      <td>132.000000</td>\n",
       "      <td>6.000000</td>\n",
       "      <td>81.000000</td>\n",
       "      <td>3.761200</td>\n",
       "      <td>4.343805</td>\n",
       "      <td>3.091042</td>\n",
       "      <td>16.000000</td>\n",
       "      <td>1.000000</td>\n",
       "      <td>4.394449</td>\n",
       "      <td>4.000000</td>\n",
       "      <td>6.000000</td>\n",
       "    </tr>\n",
       "  </tbody>\n",
       "</table>\n",
       "</div>"
      ],
      "text/plain": [
       "       discharge_disposition_id  admission_source_id  time_in_hospital  \\\n",
       "count              99340.000000         99340.000000      99340.000000   \n",
       "mean                   2.250282             5.128307          4.379364   \n",
       "std                    3.936027             2.884748          2.968393   \n",
       "min                    1.000000             1.000000          1.000000   \n",
       "25%                    1.000000             1.000000          2.000000   \n",
       "50%                    1.000000             7.000000          4.000000   \n",
       "75%                    2.000000             7.000000          6.000000   \n",
       "max                   25.000000            27.000000         14.000000   \n",
       "\n",
       "       num_lab_procedures  num_procedures  num_medications  number_outpatient  \\\n",
       "count        99340.000000    99340.000000     99340.000000       99340.000000   \n",
       "mean            42.907198        1.334196        15.979052           0.172196   \n",
       "std             19.609887        1.702770         8.094931           0.429302   \n",
       "min              1.000000        0.000000         1.000000           0.000000   \n",
       "25%             31.000000        0.000000        10.000000           0.000000   \n",
       "50%             44.000000        1.000000        15.000000           0.000000   \n",
       "75%             57.000000        2.000000        20.000000           0.000000   \n",
       "max            132.000000        6.000000        81.000000           3.761200   \n",
       "\n",
       "       number_emergency  number_inpatient  number_diagnoses    readmitted  \\\n",
       "count      99340.000000      99340.000000      99340.000000  99340.000000   \n",
       "mean           0.101920          0.323910          7.401752      0.113892   \n",
       "std            0.315510          0.509925          1.940990      0.317681   \n",
       "min            0.000000          0.000000          1.000000      0.000000   \n",
       "25%            0.000000          0.000000          6.000000      0.000000   \n",
       "50%            0.000000          0.000000          8.000000      0.000000   \n",
       "75%            0.000000          0.693147          9.000000      0.000000   \n",
       "max            4.343805          3.091042         16.000000      1.000000   \n",
       "\n",
       "       service_utilization  medication_change  count_of_medication  \n",
       "count         99340.000000       99340.000000         99340.000000  \n",
       "mean              0.512629           0.287377             1.187367  \n",
       "std               0.662199           0.487866             0.922431  \n",
       "min               0.000000           0.000000             0.000000  \n",
       "25%               0.000000           0.000000             1.000000  \n",
       "50%               0.000000           0.000000             1.000000  \n",
       "75%               1.098612           1.000000             2.000000  \n",
       "max               4.394449           4.000000             6.000000  "
      ]
     },
     "execution_count": 107,
     "metadata": {},
     "output_type": "execute_result"
    }
   ],
   "source": [
    "data.describe()"
   ]
  },
  {
   "cell_type": "code",
   "execution_count": 108,
   "metadata": {},
   "outputs": [],
   "source": [
    "# Standardize the data, where each of the numerical values are scaled to bring them on the same scale\n",
    "from sklearn.preprocessing import StandardScaler\n",
    "scaler = StandardScaler()\n",
    "cols_std = data.drop('readmitted', axis=1).select_dtypes([np.number]).columns\n",
    "for col in cols_std:\n",
    "     data[col] = scaler.fit_transform(data[[col]])"
   ]
  },
  {
   "cell_type": "code",
   "execution_count": 109,
   "metadata": {},
   "outputs": [
    {
     "data": {
      "text/html": [
       "<div>\n",
       "<style scoped>\n",
       "    .dataframe tbody tr th:only-of-type {\n",
       "        vertical-align: middle;\n",
       "    }\n",
       "\n",
       "    .dataframe tbody tr th {\n",
       "        vertical-align: top;\n",
       "    }\n",
       "\n",
       "    .dataframe thead th {\n",
       "        text-align: right;\n",
       "    }\n",
       "</style>\n",
       "<table border=\"1\" class=\"dataframe\">\n",
       "  <thead>\n",
       "    <tr style=\"text-align: right;\">\n",
       "      <th></th>\n",
       "      <th>discharge_disposition_id</th>\n",
       "      <th>admission_source_id</th>\n",
       "      <th>time_in_hospital</th>\n",
       "      <th>num_lab_procedures</th>\n",
       "      <th>num_procedures</th>\n",
       "      <th>num_medications</th>\n",
       "      <th>number_outpatient</th>\n",
       "      <th>number_emergency</th>\n",
       "      <th>number_inpatient</th>\n",
       "      <th>number_diagnoses</th>\n",
       "      <th>readmitted</th>\n",
       "      <th>service_utilization</th>\n",
       "      <th>medication_change</th>\n",
       "      <th>count_of_medication</th>\n",
       "    </tr>\n",
       "  </thead>\n",
       "  <tbody>\n",
       "    <tr>\n",
       "      <th>count</th>\n",
       "      <td>9.934000e+04</td>\n",
       "      <td>9.934000e+04</td>\n",
       "      <td>9.934000e+04</td>\n",
       "      <td>9.934000e+04</td>\n",
       "      <td>9.934000e+04</td>\n",
       "      <td>9.934000e+04</td>\n",
       "      <td>9.934000e+04</td>\n",
       "      <td>9.934000e+04</td>\n",
       "      <td>9.934000e+04</td>\n",
       "      <td>9.934000e+04</td>\n",
       "      <td>99340.000000</td>\n",
       "      <td>9.934000e+04</td>\n",
       "      <td>9.934000e+04</td>\n",
       "      <td>9.934000e+04</td>\n",
       "    </tr>\n",
       "    <tr>\n",
       "      <th>mean</th>\n",
       "      <td>4.137846e-15</td>\n",
       "      <td>4.300641e-14</td>\n",
       "      <td>-3.683409e-15</td>\n",
       "      <td>-2.440072e-15</td>\n",
       "      <td>1.401074e-14</td>\n",
       "      <td>-2.864534e-15</td>\n",
       "      <td>-9.471619e-14</td>\n",
       "      <td>1.364718e-13</td>\n",
       "      <td>6.933367e-15</td>\n",
       "      <td>3.974335e-14</td>\n",
       "      <td>0.113892</td>\n",
       "      <td>6.734185e-14</td>\n",
       "      <td>5.207491e-14</td>\n",
       "      <td>-4.502445e-14</td>\n",
       "    </tr>\n",
       "    <tr>\n",
       "      <th>std</th>\n",
       "      <td>1.000005e+00</td>\n",
       "      <td>1.000005e+00</td>\n",
       "      <td>1.000005e+00</td>\n",
       "      <td>1.000005e+00</td>\n",
       "      <td>1.000005e+00</td>\n",
       "      <td>1.000005e+00</td>\n",
       "      <td>1.000005e+00</td>\n",
       "      <td>1.000005e+00</td>\n",
       "      <td>1.000005e+00</td>\n",
       "      <td>1.000005e+00</td>\n",
       "      <td>0.317681</td>\n",
       "      <td>1.000005e+00</td>\n",
       "      <td>1.000005e+00</td>\n",
       "      <td>1.000005e+00</td>\n",
       "    </tr>\n",
       "    <tr>\n",
       "      <th>min</th>\n",
       "      <td>-3.176524e-01</td>\n",
       "      <td>-1.431088e+00</td>\n",
       "      <td>-1.138455e+00</td>\n",
       "      <td>-2.137055e+00</td>\n",
       "      <td>-7.835482e-01</td>\n",
       "      <td>-1.850433e+00</td>\n",
       "      <td>-4.011100e-01</td>\n",
       "      <td>-3.230340e-01</td>\n",
       "      <td>-6.352135e-01</td>\n",
       "      <td>-3.298205e+00</td>\n",
       "      <td>0.000000</td>\n",
       "      <td>-7.741353e-01</td>\n",
       "      <td>-5.890517e-01</td>\n",
       "      <td>-1.287220e+00</td>\n",
       "    </tr>\n",
       "    <tr>\n",
       "      <th>25%</th>\n",
       "      <td>-3.176524e-01</td>\n",
       "      <td>-1.431088e+00</td>\n",
       "      <td>-8.015704e-01</td>\n",
       "      <td>-6.072068e-01</td>\n",
       "      <td>-7.835482e-01</td>\n",
       "      <td>-7.386204e-01</td>\n",
       "      <td>-4.011100e-01</td>\n",
       "      <td>-3.230340e-01</td>\n",
       "      <td>-6.352135e-01</td>\n",
       "      <td>-7.221873e-01</td>\n",
       "      <td>0.000000</td>\n",
       "      <td>-7.741353e-01</td>\n",
       "      <td>-5.890517e-01</td>\n",
       "      <td>-2.031236e-01</td>\n",
       "    </tr>\n",
       "    <tr>\n",
       "      <th>50%</th>\n",
       "      <td>-3.176524e-01</td>\n",
       "      <td>6.488270e-01</td>\n",
       "      <td>-1.278017e-01</td>\n",
       "      <td>5.572740e-02</td>\n",
       "      <td>-1.962669e-01</td>\n",
       "      <td>-1.209469e-01</td>\n",
       "      <td>-4.011100e-01</td>\n",
       "      <td>-3.230340e-01</td>\n",
       "      <td>-6.352135e-01</td>\n",
       "      <td>3.082197e-01</td>\n",
       "      <td>0.000000</td>\n",
       "      <td>-7.741353e-01</td>\n",
       "      <td>-5.890517e-01</td>\n",
       "      <td>-2.031236e-01</td>\n",
       "    </tr>\n",
       "    <tr>\n",
       "      <th>75%</th>\n",
       "      <td>-6.358776e-02</td>\n",
       "      <td>6.488270e-01</td>\n",
       "      <td>5.459669e-01</td>\n",
       "      <td>7.186616e-01</td>\n",
       "      <td>3.910144e-01</td>\n",
       "      <td>4.967267e-01</td>\n",
       "      <td>-4.011100e-01</td>\n",
       "      <td>-3.230340e-01</td>\n",
       "      <td>7.241044e-01</td>\n",
       "      <td>8.234232e-01</td>\n",
       "      <td>0.000000</td>\n",
       "      <td>8.849105e-01</td>\n",
       "      <td>1.460703e+00</td>\n",
       "      <td>8.809733e-01</td>\n",
       "    </tr>\n",
       "    <tr>\n",
       "      <th>max</th>\n",
       "      <td>5.779898e+00</td>\n",
       "      <td>7.581876e+00</td>\n",
       "      <td>3.241042e+00</td>\n",
       "      <td>4.543282e+00</td>\n",
       "      <td>2.740140e+00</td>\n",
       "      <td>8.032344e+00</td>\n",
       "      <td>8.360136e+00</td>\n",
       "      <td>1.344460e+01</td>\n",
       "      <td>5.426572e+00</td>\n",
       "      <td>4.429848e+00</td>\n",
       "      <td>1.000000</td>\n",
       "      <td>5.862048e+00</td>\n",
       "      <td>7.609967e+00</td>\n",
       "      <td>5.217361e+00</td>\n",
       "    </tr>\n",
       "  </tbody>\n",
       "</table>\n",
       "</div>"
      ],
      "text/plain": [
       "       discharge_disposition_id  admission_source_id  time_in_hospital  \\\n",
       "count              9.934000e+04         9.934000e+04      9.934000e+04   \n",
       "mean               4.137846e-15         4.300641e-14     -3.683409e-15   \n",
       "std                1.000005e+00         1.000005e+00      1.000005e+00   \n",
       "min               -3.176524e-01        -1.431088e+00     -1.138455e+00   \n",
       "25%               -3.176524e-01        -1.431088e+00     -8.015704e-01   \n",
       "50%               -3.176524e-01         6.488270e-01     -1.278017e-01   \n",
       "75%               -6.358776e-02         6.488270e-01      5.459669e-01   \n",
       "max                5.779898e+00         7.581876e+00      3.241042e+00   \n",
       "\n",
       "       num_lab_procedures  num_procedures  num_medications  number_outpatient  \\\n",
       "count        9.934000e+04    9.934000e+04     9.934000e+04       9.934000e+04   \n",
       "mean        -2.440072e-15    1.401074e-14    -2.864534e-15      -9.471619e-14   \n",
       "std          1.000005e+00    1.000005e+00     1.000005e+00       1.000005e+00   \n",
       "min         -2.137055e+00   -7.835482e-01    -1.850433e+00      -4.011100e-01   \n",
       "25%         -6.072068e-01   -7.835482e-01    -7.386204e-01      -4.011100e-01   \n",
       "50%          5.572740e-02   -1.962669e-01    -1.209469e-01      -4.011100e-01   \n",
       "75%          7.186616e-01    3.910144e-01     4.967267e-01      -4.011100e-01   \n",
       "max          4.543282e+00    2.740140e+00     8.032344e+00       8.360136e+00   \n",
       "\n",
       "       number_emergency  number_inpatient  number_diagnoses    readmitted  \\\n",
       "count      9.934000e+04      9.934000e+04      9.934000e+04  99340.000000   \n",
       "mean       1.364718e-13      6.933367e-15      3.974335e-14      0.113892   \n",
       "std        1.000005e+00      1.000005e+00      1.000005e+00      0.317681   \n",
       "min       -3.230340e-01     -6.352135e-01     -3.298205e+00      0.000000   \n",
       "25%       -3.230340e-01     -6.352135e-01     -7.221873e-01      0.000000   \n",
       "50%       -3.230340e-01     -6.352135e-01      3.082197e-01      0.000000   \n",
       "75%       -3.230340e-01      7.241044e-01      8.234232e-01      0.000000   \n",
       "max        1.344460e+01      5.426572e+00      4.429848e+00      1.000000   \n",
       "\n",
       "       service_utilization  medication_change  count_of_medication  \n",
       "count         9.934000e+04       9.934000e+04         9.934000e+04  \n",
       "mean          6.734185e-14       5.207491e-14        -4.502445e-14  \n",
       "std           1.000005e+00       1.000005e+00         1.000005e+00  \n",
       "min          -7.741353e-01      -5.890517e-01        -1.287220e+00  \n",
       "25%          -7.741353e-01      -5.890517e-01        -2.031236e-01  \n",
       "50%          -7.741353e-01      -5.890517e-01        -2.031236e-01  \n",
       "75%           8.849105e-01       1.460703e+00         8.809733e-01  \n",
       "max           5.862048e+00       7.609967e+00         5.217361e+00  "
      ]
     },
     "execution_count": 109,
     "metadata": {},
     "output_type": "execute_result"
    }
   ],
   "source": [
    "data.describe()"
   ]
  },
  {
   "cell_type": "markdown",
   "metadata": {},
   "source": [
    "#### So, we have std-deviation = '1' and mean = nearly equal to '0' "
   ]
  },
  {
   "cell_type": "markdown",
   "metadata": {},
   "source": [
    "### Outlier Removal"
   ]
  },
  {
   "cell_type": "code",
   "execution_count": 110,
   "metadata": {},
   "outputs": [],
   "source": [
    "#from scipy import stats\n",
    "#import numpy as np\n",
    "#z = np.abs(stats.zscore(data))\n",
    "#print(z)\n",
    "\n",
    "#threshold = 3\n",
    "#print(np.where(z > 3))"
   ]
  },
  {
   "cell_type": "code",
   "execution_count": 111,
   "metadata": {},
   "outputs": [],
   "source": [
    "#data_o = data[(z < 3).all(axis=1)]\n",
    "#data_o.shape"
   ]
  },
  {
   "cell_type": "code",
   "execution_count": 112,
   "metadata": {},
   "outputs": [
    {
     "data": {
      "text/html": [
       "<div>\n",
       "<style scoped>\n",
       "    .dataframe tbody tr th:only-of-type {\n",
       "        vertical-align: middle;\n",
       "    }\n",
       "\n",
       "    .dataframe tbody tr th {\n",
       "        vertical-align: top;\n",
       "    }\n",
       "\n",
       "    .dataframe thead th {\n",
       "        text-align: right;\n",
       "    }\n",
       "</style>\n",
       "<table border=\"1\" class=\"dataframe\">\n",
       "  <thead>\n",
       "    <tr style=\"text-align: right;\">\n",
       "      <th></th>\n",
       "      <th>race</th>\n",
       "      <th>gender</th>\n",
       "      <th>age</th>\n",
       "      <th>admission_type_id</th>\n",
       "      <th>discharge_disposition_id</th>\n",
       "      <th>admission_source_id</th>\n",
       "      <th>time_in_hospital</th>\n",
       "      <th>payer_code</th>\n",
       "      <th>medical_specialty</th>\n",
       "      <th>num_lab_procedures</th>\n",
       "      <th>...</th>\n",
       "      <th>glipizide-metformin</th>\n",
       "      <th>glimepiride-pioglitazone</th>\n",
       "      <th>metformin-rosiglitazone</th>\n",
       "      <th>metformin-pioglitazone</th>\n",
       "      <th>change</th>\n",
       "      <th>diabetesMed</th>\n",
       "      <th>readmitted</th>\n",
       "      <th>service_utilization</th>\n",
       "      <th>medication_change</th>\n",
       "      <th>count_of_medication</th>\n",
       "    </tr>\n",
       "  </thead>\n",
       "  <tbody>\n",
       "    <tr>\n",
       "      <th>0</th>\n",
       "      <td>Caucasian</td>\n",
       "      <td>Female</td>\n",
       "      <td>[0-10)</td>\n",
       "      <td>Not available</td>\n",
       "      <td>5.779898</td>\n",
       "      <td>-1.431088</td>\n",
       "      <td>-1.138455</td>\n",
       "      <td>NaN</td>\n",
       "      <td>Pediatrics</td>\n",
       "      <td>-0.097257</td>\n",
       "      <td>...</td>\n",
       "      <td>No</td>\n",
       "      <td>No</td>\n",
       "      <td>No</td>\n",
       "      <td>No</td>\n",
       "      <td>No</td>\n",
       "      <td>No</td>\n",
       "      <td>0</td>\n",
       "      <td>-0.774135</td>\n",
       "      <td>-0.589052</td>\n",
       "      <td>-1.287220</td>\n",
       "    </tr>\n",
       "    <tr>\n",
       "      <th>1</th>\n",
       "      <td>Caucasian</td>\n",
       "      <td>Female</td>\n",
       "      <td>[10-20)</td>\n",
       "      <td>Emergency</td>\n",
       "      <td>-0.317652</td>\n",
       "      <td>0.648827</td>\n",
       "      <td>-0.464686</td>\n",
       "      <td>NaN</td>\n",
       "      <td>Missing</td>\n",
       "      <td>0.820652</td>\n",
       "      <td>...</td>\n",
       "      <td>No</td>\n",
       "      <td>No</td>\n",
       "      <td>No</td>\n",
       "      <td>No</td>\n",
       "      <td>Ch</td>\n",
       "      <td>Yes</td>\n",
       "      <td>0</td>\n",
       "      <td>-0.774135</td>\n",
       "      <td>1.460703</td>\n",
       "      <td>-0.203124</td>\n",
       "    </tr>\n",
       "    <tr>\n",
       "      <th>2</th>\n",
       "      <td>AfricanAmerican</td>\n",
       "      <td>Female</td>\n",
       "      <td>[20-30)</td>\n",
       "      <td>Emergency</td>\n",
       "      <td>-0.317652</td>\n",
       "      <td>0.648827</td>\n",
       "      <td>-0.801570</td>\n",
       "      <td>NaN</td>\n",
       "      <td>Missing</td>\n",
       "      <td>-1.627106</td>\n",
       "      <td>...</td>\n",
       "      <td>No</td>\n",
       "      <td>No</td>\n",
       "      <td>No</td>\n",
       "      <td>No</td>\n",
       "      <td>No</td>\n",
       "      <td>Yes</td>\n",
       "      <td>0</td>\n",
       "      <td>1.319347</td>\n",
       "      <td>-0.589052</td>\n",
       "      <td>-0.203124</td>\n",
       "    </tr>\n",
       "    <tr>\n",
       "      <th>3</th>\n",
       "      <td>Caucasian</td>\n",
       "      <td>Male</td>\n",
       "      <td>[30-40)</td>\n",
       "      <td>Emergency</td>\n",
       "      <td>-0.317652</td>\n",
       "      <td>0.648827</td>\n",
       "      <td>-0.801570</td>\n",
       "      <td>NaN</td>\n",
       "      <td>Missing</td>\n",
       "      <td>0.055727</td>\n",
       "      <td>...</td>\n",
       "      <td>No</td>\n",
       "      <td>No</td>\n",
       "      <td>No</td>\n",
       "      <td>No</td>\n",
       "      <td>Ch</td>\n",
       "      <td>Yes</td>\n",
       "      <td>0</td>\n",
       "      <td>-0.774135</td>\n",
       "      <td>1.460703</td>\n",
       "      <td>-0.203124</td>\n",
       "    </tr>\n",
       "    <tr>\n",
       "      <th>4</th>\n",
       "      <td>Caucasian</td>\n",
       "      <td>Male</td>\n",
       "      <td>[40-50)</td>\n",
       "      <td>Emergency</td>\n",
       "      <td>-0.317652</td>\n",
       "      <td>0.648827</td>\n",
       "      <td>-1.138455</td>\n",
       "      <td>NaN</td>\n",
       "      <td>Missing</td>\n",
       "      <td>0.412692</td>\n",
       "      <td>...</td>\n",
       "      <td>No</td>\n",
       "      <td>No</td>\n",
       "      <td>No</td>\n",
       "      <td>No</td>\n",
       "      <td>Ch</td>\n",
       "      <td>Yes</td>\n",
       "      <td>0</td>\n",
       "      <td>-0.774135</td>\n",
       "      <td>-0.589052</td>\n",
       "      <td>0.880973</td>\n",
       "    </tr>\n",
       "  </tbody>\n",
       "</table>\n",
       "<p>5 rows × 48 columns</p>\n",
       "</div>"
      ],
      "text/plain": [
       "              race  gender      age admission_type_id  \\\n",
       "0        Caucasian  Female   [0-10)     Not available   \n",
       "1        Caucasian  Female  [10-20)         Emergency   \n",
       "2  AfricanAmerican  Female  [20-30)         Emergency   \n",
       "3        Caucasian    Male  [30-40)         Emergency   \n",
       "4        Caucasian    Male  [40-50)         Emergency   \n",
       "\n",
       "   discharge_disposition_id  admission_source_id  time_in_hospital payer_code  \\\n",
       "0                  5.779898            -1.431088         -1.138455        NaN   \n",
       "1                 -0.317652             0.648827         -0.464686        NaN   \n",
       "2                 -0.317652             0.648827         -0.801570        NaN   \n",
       "3                 -0.317652             0.648827         -0.801570        NaN   \n",
       "4                 -0.317652             0.648827         -1.138455        NaN   \n",
       "\n",
       "  medical_specialty  num_lab_procedures  ...  glipizide-metformin  \\\n",
       "0        Pediatrics           -0.097257  ...                   No   \n",
       "1           Missing            0.820652  ...                   No   \n",
       "2           Missing           -1.627106  ...                   No   \n",
       "3           Missing            0.055727  ...                   No   \n",
       "4           Missing            0.412692  ...                   No   \n",
       "\n",
       "   glimepiride-pioglitazone  metformin-rosiglitazone  metformin-pioglitazone  \\\n",
       "0                        No                       No                      No   \n",
       "1                        No                       No                      No   \n",
       "2                        No                       No                      No   \n",
       "3                        No                       No                      No   \n",
       "4                        No                       No                      No   \n",
       "\n",
       "   change diabetesMed readmitted service_utilization  medication_change  \\\n",
       "0      No          No          0           -0.774135          -0.589052   \n",
       "1      Ch         Yes          0           -0.774135           1.460703   \n",
       "2      No         Yes          0            1.319347          -0.589052   \n",
       "3      Ch         Yes          0           -0.774135           1.460703   \n",
       "4      Ch         Yes          0           -0.774135          -0.589052   \n",
       "\n",
       "  count_of_medication  \n",
       "0           -1.287220  \n",
       "1           -0.203124  \n",
       "2           -0.203124  \n",
       "3           -0.203124  \n",
       "4            0.880973  \n",
       "\n",
       "[5 rows x 48 columns]"
      ]
     },
     "execution_count": 112,
     "metadata": {},
     "output_type": "execute_result"
    }
   ],
   "source": [
    "data.head()"
   ]
  },
  {
   "cell_type": "markdown",
   "metadata": {},
   "source": [
    "### Feature encoding"
   ]
  },
  {
   "cell_type": "code",
   "execution_count": 113,
   "metadata": {},
   "outputs": [
    {
     "data": {
      "text/plain": [
       "0    0\n",
       "1    0\n",
       "2    0\n",
       "3    0\n",
       "4    0\n",
       "Name: readmitted, dtype: int64"
      ]
     },
     "execution_count": 113,
     "metadata": {},
     "output_type": "execute_result"
    }
   ],
   "source": [
    "data['readmitted'].head()"
   ]
  },
  {
   "cell_type": "code",
   "execution_count": 114,
   "metadata": {},
   "outputs": [
    {
     "data": {
      "text/plain": [
       "0    No\n",
       "1    Ch\n",
       "2    No\n",
       "3    Ch\n",
       "4    Ch\n",
       "Name: change, dtype: object"
      ]
     },
     "execution_count": 114,
     "metadata": {},
     "output_type": "execute_result"
    }
   ],
   "source": [
    "data['change'].head()"
   ]
  },
  {
   "cell_type": "code",
   "execution_count": 115,
   "metadata": {},
   "outputs": [],
   "source": [
    "data['change'] = data['change'].apply(lambda x: 0 if x=='No' else 1)"
   ]
  },
  {
   "cell_type": "code",
   "execution_count": 116,
   "metadata": {},
   "outputs": [
    {
     "data": {
      "text/plain": [
       "0    0\n",
       "1    1\n",
       "2    0\n",
       "3    1\n",
       "4    1\n",
       "Name: change, dtype: int64"
      ]
     },
     "execution_count": 116,
     "metadata": {},
     "output_type": "execute_result"
    }
   ],
   "source": [
    "data['change'].head()\n"
   ]
  },
  {
   "cell_type": "code",
   "execution_count": 117,
   "metadata": {},
   "outputs": [
    {
     "data": {
      "text/plain": [
       "0     No\n",
       "1    Yes\n",
       "2    Yes\n",
       "3    Yes\n",
       "4    Yes\n",
       "Name: diabetesMed, dtype: object"
      ]
     },
     "execution_count": 117,
     "metadata": {},
     "output_type": "execute_result"
    }
   ],
   "source": [
    "data['diabetesMed'].head()"
   ]
  },
  {
   "cell_type": "code",
   "execution_count": 118,
   "metadata": {},
   "outputs": [
    {
     "data": {
      "text/plain": [
       "Yes    76717\n",
       "No     22623\n",
       "Name: diabetesMed, dtype: int64"
      ]
     },
     "execution_count": 118,
     "metadata": {},
     "output_type": "execute_result"
    }
   ],
   "source": [
    "data['diabetesMed'].value_counts()"
   ]
  },
  {
   "cell_type": "code",
   "execution_count": 119,
   "metadata": {},
   "outputs": [
    {
     "data": {
      "text/plain": [
       "0    0\n",
       "1    1\n",
       "2    1\n",
       "3    1\n",
       "4    1\n",
       "Name: diabetesMed, dtype: int64"
      ]
     },
     "execution_count": 119,
     "metadata": {},
     "output_type": "execute_result"
    }
   ],
   "source": [
    "data['diabetesMed'] = data['diabetesMed'].apply(lambda x: 0 if x=='No' else 1)\n",
    "data['diabetesMed'].head()"
   ]
  },
  {
   "cell_type": "code",
   "execution_count": 120,
   "metadata": {},
   "outputs": [
    {
     "data": {
      "text/plain": [
       "Female    53454\n",
       "Male      45886\n",
       "Name: gender, dtype: int64"
      ]
     },
     "execution_count": 120,
     "metadata": {},
     "output_type": "execute_result"
    }
   ],
   "source": [
    "data['gender'].value_counts()"
   ]
  },
  {
   "cell_type": "code",
   "execution_count": 121,
   "metadata": {},
   "outputs": [],
   "source": [
    "def encode_gender(x):\n",
    "    if x=='Male':\n",
    "        return 1\n",
    "    elif x=='Female':\n",
    "        return 0\n",
    "\n",
    "data['gender'] = data['gender'].apply(lambda x: encode_gender(x))"
   ]
  },
  {
   "cell_type": "code",
   "execution_count": 122,
   "metadata": {},
   "outputs": [
    {
     "data": {
      "text/plain": [
       "[70-80)     25329\n",
       "[60-70)     22058\n",
       "[50-60)     17060\n",
       "[80-90)     16434\n",
       "[40-50)      9607\n",
       "[30-40)      3764\n",
       "[90-100)     2589\n",
       "[20-30)      1649\n",
       "[10-20)       690\n",
       "[0-10)        160\n",
       "Name: age, dtype: int64"
      ]
     },
     "execution_count": 122,
     "metadata": {},
     "output_type": "execute_result"
    }
   ],
   "source": [
    "data['age'].value_counts()"
   ]
  },
  {
   "cell_type": "code",
   "execution_count": 123,
   "metadata": {},
   "outputs": [],
   "source": [
    "# encode_age(x):\n",
    "ageranks = data['age'].unique()\n",
    "ageranks = list(ageranks)\n",
    "for i in ageranks:\n",
    "    value = i\n",
    "    newvalue = int(i[1])*10+5\n",
    "    data.loc[(data.age == value),'age'] = newvalue\n"
   ]
  },
  {
   "cell_type": "code",
   "execution_count": 124,
   "metadata": {},
   "outputs": [
    {
     "data": {
      "text/plain": [
       "array([5, 15, 25, 35, 45, 55, 65, 75, 85, 95], dtype=object)"
      ]
     },
     "execution_count": 124,
     "metadata": {},
     "output_type": "execute_result"
    }
   ],
   "source": [
    "data['age'].unique()"
   ]
  },
  {
   "cell_type": "code",
   "execution_count": 125,
   "metadata": {},
   "outputs": [],
   "source": [
    "data['age'] = data['age'].astype(np.int64)"
   ]
  },
  {
   "cell_type": "code",
   "execution_count": 126,
   "metadata": {},
   "outputs": [
    {
     "data": {
      "text/plain": [
       "array([ 5, 15, 25, 35, 45, 55, 65, 75, 85, 95])"
      ]
     },
     "execution_count": 126,
     "metadata": {},
     "output_type": "execute_result"
    }
   ],
   "source": [
    "data['age'].unique()"
   ]
  },
  {
   "cell_type": "code",
   "execution_count": 127,
   "metadata": {},
   "outputs": [
    {
     "data": {
      "text/plain": [
       "Emergency        70519\n",
       "Elective         18667\n",
       "Not available    10144\n",
       "Newborn             10\n",
       "Name: admission_type_id, dtype: int64"
      ]
     },
     "execution_count": 127,
     "metadata": {},
     "output_type": "execute_result"
    }
   ],
   "source": [
    "data['admission_type_id'].value_counts()"
   ]
  },
  {
   "cell_type": "code",
   "execution_count": 128,
   "metadata": {},
   "outputs": [],
   "source": [
    "def encode_ad_type(x):\n",
    "    if x == 'Emergency':\n",
    "        return 1\n",
    "    if x == 'Elective':\n",
    "        return 3\n",
    "    if x == 'Not available':\n",
    "        return 5\n",
    "    if x == 'Newborn':\n",
    "        return 4\n",
    "data['admission_type_id'] = data['admission_type_id'].apply(lambda x: encode_ad_type(x))"
   ]
  },
  {
   "cell_type": "code",
   "execution_count": 129,
   "metadata": {},
   "outputs": [
    {
     "data": {
      "text/plain": [
       "array([5, 1, 3, 4])"
      ]
     },
     "execution_count": 129,
     "metadata": {},
     "output_type": "execute_result"
    }
   ],
   "source": [
    "data['admission_type_id'].unique()"
   ]
  },
  {
   "cell_type": "code",
   "execution_count": 130,
   "metadata": {},
   "outputs": [],
   "source": [
    "data = pd.get_dummies(data, prefix_sep='_', drop_first=True)"
   ]
  },
  {
   "cell_type": "code",
   "execution_count": 131,
   "metadata": {},
   "outputs": [
    {
     "name": "stdout",
     "output_type": "stream",
     "text": [
      "<class 'pandas.core.frame.DataFrame'>\n",
      "Int64Index: 99340 entries, 0 to 101765\n",
      "Columns: 131 entries, gender to metformin-pioglitazone_Steady\n",
      "dtypes: float64(13), int64(6), uint8(112)\n",
      "memory usage: 28.3 MB\n"
     ]
    }
   ],
   "source": [
    "data.info()"
   ]
  },
  {
   "cell_type": "code",
   "execution_count": 132,
   "metadata": {},
   "outputs": [
    {
     "data": {
      "text/plain": [
       "Index(['gender', 'age', 'admission_type_id', 'discharge_disposition_id',\n",
       "       'admission_source_id', 'time_in_hospital', 'num_lab_procedures',\n",
       "       'num_procedures', 'num_medications', 'number_outpatient',\n",
       "       ...\n",
       "       'insulin_No', 'insulin_Steady', 'insulin_Up', 'glyburide-metformin_No',\n",
       "       'glyburide-metformin_Steady', 'glyburide-metformin_Up',\n",
       "       'glipizide-metformin_Steady', 'glimepiride-pioglitazone_Steady',\n",
       "       'metformin-rosiglitazone_Steady', 'metformin-pioglitazone_Steady'],\n",
       "      dtype='object', length=131)"
      ]
     },
     "execution_count": 132,
     "metadata": {},
     "output_type": "execute_result"
    }
   ],
   "source": [
    "data.columns"
   ]
  },
  {
   "cell_type": "markdown",
   "metadata": {},
   "source": [
    "#### With this all the features are converted to numerical"
   ]
  },
  {
   "cell_type": "markdown",
   "metadata": {},
   "source": [
    "### Feature selection"
   ]
  },
  {
   "cell_type": "code",
   "execution_count": 133,
   "metadata": {},
   "outputs": [],
   "source": [
    "# Putting feature variable to X\n",
    "X = data.drop('readmitted',axis=1)\n",
    "\n",
    "# Putting response variable to y\n",
    "y = data['readmitted']\n",
    "\n",
    "# Splitting the data into train and test\n",
    "X_train, X_test, y_train, y_test = train_test_split(X, y, test_size=0.20, random_state=101)"
   ]
  },
  {
   "cell_type": "code",
   "execution_count": 134,
   "metadata": {},
   "outputs": [
    {
     "data": {
      "text/plain": [
       "RandomForestClassifier()"
      ]
     },
     "execution_count": 134,
     "metadata": {},
     "output_type": "execute_result"
    }
   ],
   "source": [
    "# Running the random forest with default parameters.\n",
    "rfc = RandomForestClassifier()\n",
    "# fit\n",
    "rfc.fit(X_train, y_train)"
   ]
  },
  {
   "cell_type": "code",
   "execution_count": 135,
   "metadata": {
    "scrolled": true
   },
   "outputs": [
    {
     "data": {
      "text/html": [
       "<div>\n",
       "<style scoped>\n",
       "    .dataframe tbody tr th:only-of-type {\n",
       "        vertical-align: middle;\n",
       "    }\n",
       "\n",
       "    .dataframe tbody tr th {\n",
       "        vertical-align: top;\n",
       "    }\n",
       "\n",
       "    .dataframe thead th {\n",
       "        text-align: right;\n",
       "    }\n",
       "</style>\n",
       "<table border=\"1\" class=\"dataframe\">\n",
       "  <thead>\n",
       "    <tr style=\"text-align: right;\">\n",
       "      <th></th>\n",
       "      <th>importance</th>\n",
       "    </tr>\n",
       "  </thead>\n",
       "  <tbody>\n",
       "    <tr>\n",
       "      <th>num_lab_procedures</th>\n",
       "      <td>8.243801e-02</td>\n",
       "    </tr>\n",
       "    <tr>\n",
       "      <th>num_medications</th>\n",
       "      <td>7.365322e-02</td>\n",
       "    </tr>\n",
       "    <tr>\n",
       "      <th>time_in_hospital</th>\n",
       "      <td>5.431118e-02</td>\n",
       "    </tr>\n",
       "    <tr>\n",
       "      <th>age</th>\n",
       "      <td>4.580852e-02</td>\n",
       "    </tr>\n",
       "    <tr>\n",
       "      <th>num_procedures</th>\n",
       "      <td>3.728001e-02</td>\n",
       "    </tr>\n",
       "    <tr>\n",
       "      <th>...</th>\n",
       "      <td>...</td>\n",
       "    </tr>\n",
       "    <tr>\n",
       "      <th>glimepiride-pioglitazone_Steady</th>\n",
       "      <td>9.021402e-07</td>\n",
       "    </tr>\n",
       "    <tr>\n",
       "      <th>miglitol_Up</th>\n",
       "      <td>6.680785e-07</td>\n",
       "    </tr>\n",
       "    <tr>\n",
       "      <th>tolazamide_Up</th>\n",
       "      <td>4.633826e-07</td>\n",
       "    </tr>\n",
       "    <tr>\n",
       "      <th>metformin-rosiglitazone_Steady</th>\n",
       "      <td>1.506120e-07</td>\n",
       "    </tr>\n",
       "    <tr>\n",
       "      <th>payer_code_FR</th>\n",
       "      <td>0.000000e+00</td>\n",
       "    </tr>\n",
       "  </tbody>\n",
       "</table>\n",
       "<p>130 rows × 1 columns</p>\n",
       "</div>"
      ],
      "text/plain": [
       "                                   importance\n",
       "num_lab_procedures               8.243801e-02\n",
       "num_medications                  7.365322e-02\n",
       "time_in_hospital                 5.431118e-02\n",
       "age                              4.580852e-02\n",
       "num_procedures                   3.728001e-02\n",
       "...                                       ...\n",
       "glimepiride-pioglitazone_Steady  9.021402e-07\n",
       "miglitol_Up                      6.680785e-07\n",
       "tolazamide_Up                    4.633826e-07\n",
       "metformin-rosiglitazone_Steady   1.506120e-07\n",
       "payer_code_FR                    0.000000e+00\n",
       "\n",
       "[130 rows x 1 columns]"
      ]
     },
     "execution_count": 135,
     "metadata": {},
     "output_type": "execute_result"
    }
   ],
   "source": [
    "feature_imp = pd.DataFrame(rfc.feature_importances_, index=X.columns,\n",
    "                           columns=['importance']).sort_values('importance', ascending=False)\n",
    "feature_imp"
   ]
  },
  {
   "cell_type": "code",
   "execution_count": 136,
   "metadata": {},
   "outputs": [
    {
     "data": {
      "text/plain": [
       "<AxesSubplot:>"
      ]
     },
     "execution_count": 136,
     "metadata": {},
     "output_type": "execute_result"
    },
    {
     "data": {
      "image/png": "[encoded data removed]",
      "text/plain": [
       "<Figure size 720x720 with 1 Axes>"
      ]
     },
     "metadata": {
      "needs_background": "light"
     },
     "output_type": "display_data"
    }
   ],
   "source": [
    "# plot feature importance\n",
    "features = pd.Series(rfc.feature_importances_, index=X.columns)\n",
    "plt.figure(figsize=(10,10))\n",
    "\n",
    "features.nlargest(25).plot(kind='barh')\n"
   ]
  },
  {
   "cell_type": "code",
   "execution_count": 137,
   "metadata": {},
   "outputs": [
    {
     "name": "stdout",
     "output_type": "stream",
     "text": [
      "Important features:\n",
      "\n",
      " num_lab_procedures                    0.082438\n",
      "num_medications                       0.073653\n",
      "time_in_hospital                      0.054311\n",
      "age                                   0.045809\n",
      "num_procedures                        0.037280\n",
      "number_diagnoses                      0.035218\n",
      "service_utilization                   0.033639\n",
      "number_inpatient                      0.032681\n",
      "admission_source_id                   0.022563\n",
      "gender                                0.018952\n",
      "discharge_disposition_id              0.018689\n",
      "count_of_medication                   0.017209\n",
      "payer_code_MC                         0.015639\n",
      "admission_type_id                     0.015414\n",
      "number_outpatient                     0.015248\n",
      "diag_3_circulatory                    0.015124\n",
      "diag_2_circulatory                    0.014985\n",
      "medical_specialty_Missing             0.014891\n",
      "race_Caucasian                        0.014230\n",
      "diag_1_circulatory                    0.013719\n",
      "number_emergency                      0.013299\n",
      "diag_3_neoplasms                      0.012249\n",
      "medical_specialty_InternalMedicine    0.012170\n",
      "diag_2_neoplasms                      0.011910\n",
      "diag_3_diabetes                       0.010960\n",
      "dtype: float64\n"
     ]
    }
   ],
   "source": [
    "print (\"Important features:\\n\\n\",features.nlargest(25))"
   ]
  },
  {
   "cell_type": "code",
   "execution_count": 138,
   "metadata": {},
   "outputs": [
    {
     "name": "stdout",
     "output_type": "stream",
     "text": [
      "<class 'list'>\n",
      "['num_lab_procedures', 'num_medications', 'time_in_hospital', 'age', 'num_procedures', 'number_diagnoses', 'service_utilization', 'number_inpatient', 'admission_source_id', 'gender', 'discharge_disposition_id', 'count_of_medication', 'payer_code_MC', 'admission_type_id', 'number_outpatient', 'diag_3_circulatory', 'diag_2_circulatory', 'medical_specialty_Missing', 'race_Caucasian', 'diag_1_circulatory', 'number_emergency', 'diag_3_neoplasms', 'medical_specialty_InternalMedicine', 'diag_2_neoplasms', 'diag_3_diabetes']\n"
     ]
    }
   ],
   "source": [
    "columns = list(features.nlargest(25).index)\n",
    "print (type(columns))\n",
    "print (columns)"
   ]
  },
  {
   "cell_type": "code",
   "execution_count": 139,
   "metadata": {},
   "outputs": [
    {
     "data": {
      "text/html": [
       "<div>\n",
       "<style scoped>\n",
       "    .dataframe tbody tr th:only-of-type {\n",
       "        vertical-align: middle;\n",
       "    }\n",
       "\n",
       "    .dataframe tbody tr th {\n",
       "        vertical-align: top;\n",
       "    }\n",
       "\n",
       "    .dataframe thead th {\n",
       "        text-align: right;\n",
       "    }\n",
       "</style>\n",
       "<table border=\"1\" class=\"dataframe\">\n",
       "  <thead>\n",
       "    <tr style=\"text-align: right;\">\n",
       "      <th></th>\n",
       "      <th>num_lab_procedures</th>\n",
       "      <th>num_medications</th>\n",
       "      <th>time_in_hospital</th>\n",
       "      <th>age</th>\n",
       "      <th>num_procedures</th>\n",
       "      <th>number_diagnoses</th>\n",
       "      <th>service_utilization</th>\n",
       "      <th>number_inpatient</th>\n",
       "      <th>admission_source_id</th>\n",
       "      <th>gender</th>\n",
       "      <th>...</th>\n",
       "      <th>diag_2_circulatory</th>\n",
       "      <th>medical_specialty_Missing</th>\n",
       "      <th>race_Caucasian</th>\n",
       "      <th>diag_1_circulatory</th>\n",
       "      <th>number_emergency</th>\n",
       "      <th>diag_3_neoplasms</th>\n",
       "      <th>medical_specialty_InternalMedicine</th>\n",
       "      <th>diag_2_neoplasms</th>\n",
       "      <th>diag_3_diabetes</th>\n",
       "      <th>readmitted</th>\n",
       "    </tr>\n",
       "  </thead>\n",
       "  <tbody>\n",
       "    <tr>\n",
       "      <th>0</th>\n",
       "      <td>-0.097257</td>\n",
       "      <td>-1.850433</td>\n",
       "      <td>-1.138455</td>\n",
       "      <td>5</td>\n",
       "      <td>-0.783548</td>\n",
       "      <td>-3.298205</td>\n",
       "      <td>-0.774135</td>\n",
       "      <td>-0.635213</td>\n",
       "      <td>-1.431088</td>\n",
       "      <td>0</td>\n",
       "      <td>...</td>\n",
       "      <td>0</td>\n",
       "      <td>0</td>\n",
       "      <td>1</td>\n",
       "      <td>0</td>\n",
       "      <td>-0.323034</td>\n",
       "      <td>0</td>\n",
       "      <td>0</td>\n",
       "      <td>0</td>\n",
       "      <td>0</td>\n",
       "      <td>0</td>\n",
       "    </tr>\n",
       "    <tr>\n",
       "      <th>1</th>\n",
       "      <td>0.820652</td>\n",
       "      <td>0.249657</td>\n",
       "      <td>-0.464686</td>\n",
       "      <td>15</td>\n",
       "      <td>-0.783548</td>\n",
       "      <td>0.823423</td>\n",
       "      <td>-0.774135</td>\n",
       "      <td>-0.635213</td>\n",
       "      <td>0.648827</td>\n",
       "      <td>0</td>\n",
       "      <td>...</td>\n",
       "      <td>0</td>\n",
       "      <td>1</td>\n",
       "      <td>1</td>\n",
       "      <td>0</td>\n",
       "      <td>-0.323034</td>\n",
       "      <td>1</td>\n",
       "      <td>0</td>\n",
       "      <td>0</td>\n",
       "      <td>0</td>\n",
       "      <td>0</td>\n",
       "    </tr>\n",
       "    <tr>\n",
       "      <th>2</th>\n",
       "      <td>-1.627106</td>\n",
       "      <td>-0.368016</td>\n",
       "      <td>-0.801570</td>\n",
       "      <td>25</td>\n",
       "      <td>2.152858</td>\n",
       "      <td>-0.722187</td>\n",
       "      <td>1.319347</td>\n",
       "      <td>0.724104</td>\n",
       "      <td>0.648827</td>\n",
       "      <td>0</td>\n",
       "      <td>...</td>\n",
       "      <td>0</td>\n",
       "      <td>1</td>\n",
       "      <td>0</td>\n",
       "      <td>0</td>\n",
       "      <td>-0.323034</td>\n",
       "      <td>0</td>\n",
       "      <td>0</td>\n",
       "      <td>0</td>\n",
       "      <td>0</td>\n",
       "      <td>0</td>\n",
       "    </tr>\n",
       "    <tr>\n",
       "      <th>3</th>\n",
       "      <td>0.055727</td>\n",
       "      <td>0.002588</td>\n",
       "      <td>-0.801570</td>\n",
       "      <td>35</td>\n",
       "      <td>-0.196267</td>\n",
       "      <td>-0.206984</td>\n",
       "      <td>-0.774135</td>\n",
       "      <td>-0.635213</td>\n",
       "      <td>0.648827</td>\n",
       "      <td>1</td>\n",
       "      <td>...</td>\n",
       "      <td>0</td>\n",
       "      <td>1</td>\n",
       "      <td>1</td>\n",
       "      <td>0</td>\n",
       "      <td>-0.323034</td>\n",
       "      <td>0</td>\n",
       "      <td>0</td>\n",
       "      <td>0</td>\n",
       "      <td>0</td>\n",
       "      <td>0</td>\n",
       "    </tr>\n",
       "    <tr>\n",
       "      <th>4</th>\n",
       "      <td>0.412692</td>\n",
       "      <td>-0.985690</td>\n",
       "      <td>-1.138455</td>\n",
       "      <td>45</td>\n",
       "      <td>-0.783548</td>\n",
       "      <td>-1.237391</td>\n",
       "      <td>-0.774135</td>\n",
       "      <td>-0.635213</td>\n",
       "      <td>0.648827</td>\n",
       "      <td>1</td>\n",
       "      <td>...</td>\n",
       "      <td>0</td>\n",
       "      <td>1</td>\n",
       "      <td>1</td>\n",
       "      <td>0</td>\n",
       "      <td>-0.323034</td>\n",
       "      <td>0</td>\n",
       "      <td>0</td>\n",
       "      <td>1</td>\n",
       "      <td>1</td>\n",
       "      <td>0</td>\n",
       "    </tr>\n",
       "  </tbody>\n",
       "</table>\n",
       "<p>5 rows × 26 columns</p>\n",
       "</div>"
      ],
      "text/plain": [
       "   num_lab_procedures  num_medications  time_in_hospital  age  num_procedures  \\\n",
       "0           -0.097257        -1.850433         -1.138455    5       -0.783548   \n",
       "1            0.820652         0.249657         -0.464686   15       -0.783548   \n",
       "2           -1.627106        -0.368016         -0.801570   25        2.152858   \n",
       "3            0.055727         0.002588         -0.801570   35       -0.196267   \n",
       "4            0.412692        -0.985690         -1.138455   45       -0.783548   \n",
       "\n",
       "   number_diagnoses  service_utilization  number_inpatient  \\\n",
       "0         -3.298205            -0.774135         -0.635213   \n",
       "1          0.823423            -0.774135         -0.635213   \n",
       "2         -0.722187             1.319347          0.724104   \n",
       "3         -0.206984            -0.774135         -0.635213   \n",
       "4         -1.237391            -0.774135         -0.635213   \n",
       "\n",
       "   admission_source_id  gender  ...  diag_2_circulatory  \\\n",
       "0            -1.431088       0  ...                   0   \n",
       "1             0.648827       0  ...                   0   \n",
       "2             0.648827       0  ...                   0   \n",
       "3             0.648827       1  ...                   0   \n",
       "4             0.648827       1  ...                   0   \n",
       "\n",
       "   medical_specialty_Missing  race_Caucasian  diag_1_circulatory  \\\n",
       "0                          0               1                   0   \n",
       "1                          1               1                   0   \n",
       "2                          1               0                   0   \n",
       "3                          1               1                   0   \n",
       "4                          1               1                   0   \n",
       "\n",
       "   number_emergency  diag_3_neoplasms  medical_specialty_InternalMedicine  \\\n",
       "0         -0.323034                 0                                   0   \n",
       "1         -0.323034                 1                                   0   \n",
       "2         -0.323034                 0                                   0   \n",
       "3         -0.323034                 0                                   0   \n",
       "4         -0.323034                 0                                   0   \n",
       "\n",
       "   diag_2_neoplasms  diag_3_diabetes  readmitted  \n",
       "0                 0                0           0  \n",
       "1                 0                0           0  \n",
       "2                 0                0           0  \n",
       "3                 0                0           0  \n",
       "4                 1                1           0  \n",
       "\n",
       "[5 rows x 26 columns]"
      ]
     },
     "execution_count": 139,
     "metadata": {},
     "output_type": "execute_result"
    }
   ],
   "source": [
    "columns.append('readmitted')\n",
    "data_top25_dfeatures = data[columns]\n",
    "data_top25_dfeatures.head()"
   ]
  },
  {
   "cell_type": "code",
   "execution_count": 140,
   "metadata": {},
   "outputs": [
    {
     "data": {
      "text/plain": [
       "(99340, 26)"
      ]
     },
     "execution_count": 140,
     "metadata": {},
     "output_type": "execute_result"
    }
   ],
   "source": [
    "data_top25_dfeatures.shape"
   ]
  },
  {
   "cell_type": "code",
   "execution_count": 141,
   "metadata": {},
   "outputs": [
    {
     "data": {
      "text/plain": [
       "(99340, 131)"
      ]
     },
     "execution_count": 141,
     "metadata": {},
     "output_type": "execute_result"
    }
   ],
   "source": [
    "data.shape"
   ]
  },
  {
   "cell_type": "code",
   "execution_count": 142,
   "metadata": {},
   "outputs": [],
   "source": [
    "data_top25_dfeatures.to_csv(path_or_buf=\"./data_top25_dfeatures.csv\", index=False)"
   ]
  },
  {
   "cell_type": "code",
   "execution_count": 143,
   "metadata": {},
   "outputs": [],
   "source": [
    "# data without feature selection\n",
    "data.to_csv(path_or_buf=\"./data_all_dfeatures.csv\", index=False)"
   ]
  },
  {
   "cell_type": "code",
   "execution_count": null,
   "metadata": {},
   "outputs": [],
   "source": []
  }
 ],
 "metadata": {
  "kernelspec": {
   "display_name": "Python 3",
   "language": "python",
   "name": "python3"
  },
  "language_info": {
   "codemirror_mode": {
    "name": "ipython",
    "version": 3
   },
   "file_extension": ".py",
   "mimetype": "text/x-python",
   "name": "python",
   "nbconvert_exporter": "python",
   "pygments_lexer": "ipython3",
   "version": "3.8.5"
  }
 },
 "nbformat": 4,
 "nbformat_minor": 4
}
