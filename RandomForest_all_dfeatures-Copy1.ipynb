{
 "cells": [
  {
   "cell_type": "markdown",
   "metadata": {},
   "source": [
    "### Random Forest with 50 dummy features"
   ]
  },
  {
   "cell_type": "code",
   "execution_count": 7,
   "metadata": {},
   "outputs": [],
   "source": [
    "import pandas as pd\n",
    "import matplotlib.pyplot as plt\n",
    "from sklearn.metrics import classification_report,confusion_matrix"
   ]
  },
  {
   "cell_type": "code",
   "execution_count": 8,
   "metadata": {},
   "outputs": [
    {
     "data": {
      "text/plain": [
       "(99340, 51)"
      ]
     },
     "execution_count": 8,
     "metadata": {},
     "output_type": "execute_result"
    }
   ],
   "source": [
    "# Read the dataset\n",
    "data = pd.read_csv(\"./data_top50_dfeatures.csv\")\n",
    "data.shape"
   ]
  },
  {
   "cell_type": "code",
   "execution_count": 9,
   "metadata": {},
   "outputs": [
    {
     "data": {
      "text/html": [
       "<div>\n",
       "<style scoped>\n",
       "    .dataframe tbody tr th:only-of-type {\n",
       "        vertical-align: middle;\n",
       "    }\n",
       "\n",
       "    .dataframe tbody tr th {\n",
       "        vertical-align: top;\n",
       "    }\n",
       "\n",
       "    .dataframe thead th {\n",
       "        text-align: right;\n",
       "    }\n",
       "</style>\n",
       "<table border=\"1\" class=\"dataframe\">\n",
       "  <thead>\n",
       "    <tr style=\"text-align: right;\">\n",
       "      <th></th>\n",
       "      <th>num_lab_procedures</th>\n",
       "      <th>num_medications</th>\n",
       "      <th>time_in_hospital</th>\n",
       "      <th>age</th>\n",
       "      <th>num_procedures</th>\n",
       "      <th>number_diagnoses</th>\n",
       "      <th>number_inpatient</th>\n",
       "      <th>service_utilization</th>\n",
       "      <th>admission_source_id</th>\n",
       "      <th>gender</th>\n",
       "      <th>...</th>\n",
       "      <th>diag_1_others</th>\n",
       "      <th>glipizide_No</th>\n",
       "      <th>glipizide_Steady</th>\n",
       "      <th>payer_code_SP</th>\n",
       "      <th>insulin_Up</th>\n",
       "      <th>medical_specialty_Emergency/Trauma</th>\n",
       "      <th>metformin_No</th>\n",
       "      <th>metformin_Steady</th>\n",
       "      <th>payer_code_MD</th>\n",
       "      <th>readmitted</th>\n",
       "    </tr>\n",
       "  </thead>\n",
       "  <tbody>\n",
       "    <tr>\n",
       "      <th>0</th>\n",
       "      <td>-0.097257</td>\n",
       "      <td>-1.850433</td>\n",
       "      <td>-1.138455</td>\n",
       "      <td>5</td>\n",
       "      <td>-0.783548</td>\n",
       "      <td>-3.298205</td>\n",
       "      <td>-0.635213</td>\n",
       "      <td>-0.774135</td>\n",
       "      <td>-1.431088</td>\n",
       "      <td>0</td>\n",
       "      <td>...</td>\n",
       "      <td>0</td>\n",
       "      <td>1</td>\n",
       "      <td>0</td>\n",
       "      <td>0</td>\n",
       "      <td>0</td>\n",
       "      <td>0</td>\n",
       "      <td>1</td>\n",
       "      <td>0</td>\n",
       "      <td>0</td>\n",
       "      <td>0</td>\n",
       "    </tr>\n",
       "    <tr>\n",
       "      <th>1</th>\n",
       "      <td>0.820652</td>\n",
       "      <td>0.249657</td>\n",
       "      <td>-0.464686</td>\n",
       "      <td>15</td>\n",
       "      <td>-0.783548</td>\n",
       "      <td>0.823423</td>\n",
       "      <td>-0.635213</td>\n",
       "      <td>-0.774135</td>\n",
       "      <td>0.648827</td>\n",
       "      <td>0</td>\n",
       "      <td>...</td>\n",
       "      <td>0</td>\n",
       "      <td>1</td>\n",
       "      <td>0</td>\n",
       "      <td>0</td>\n",
       "      <td>1</td>\n",
       "      <td>0</td>\n",
       "      <td>1</td>\n",
       "      <td>0</td>\n",
       "      <td>0</td>\n",
       "      <td>0</td>\n",
       "    </tr>\n",
       "    <tr>\n",
       "      <th>2</th>\n",
       "      <td>-1.627106</td>\n",
       "      <td>-0.368016</td>\n",
       "      <td>-0.801570</td>\n",
       "      <td>25</td>\n",
       "      <td>2.152858</td>\n",
       "      <td>-0.722187</td>\n",
       "      <td>0.724104</td>\n",
       "      <td>1.319347</td>\n",
       "      <td>0.648827</td>\n",
       "      <td>0</td>\n",
       "      <td>...</td>\n",
       "      <td>1</td>\n",
       "      <td>0</td>\n",
       "      <td>1</td>\n",
       "      <td>0</td>\n",
       "      <td>0</td>\n",
       "      <td>0</td>\n",
       "      <td>1</td>\n",
       "      <td>0</td>\n",
       "      <td>0</td>\n",
       "      <td>0</td>\n",
       "    </tr>\n",
       "    <tr>\n",
       "      <th>3</th>\n",
       "      <td>0.055727</td>\n",
       "      <td>0.002588</td>\n",
       "      <td>-0.801570</td>\n",
       "      <td>35</td>\n",
       "      <td>-0.196267</td>\n",
       "      <td>-0.206984</td>\n",
       "      <td>-0.635213</td>\n",
       "      <td>-0.774135</td>\n",
       "      <td>0.648827</td>\n",
       "      <td>1</td>\n",
       "      <td>...</td>\n",
       "      <td>0</td>\n",
       "      <td>1</td>\n",
       "      <td>0</td>\n",
       "      <td>0</td>\n",
       "      <td>1</td>\n",
       "      <td>0</td>\n",
       "      <td>1</td>\n",
       "      <td>0</td>\n",
       "      <td>0</td>\n",
       "      <td>0</td>\n",
       "    </tr>\n",
       "    <tr>\n",
       "      <th>4</th>\n",
       "      <td>0.412692</td>\n",
       "      <td>-0.985690</td>\n",
       "      <td>-1.138455</td>\n",
       "      <td>45</td>\n",
       "      <td>-0.783548</td>\n",
       "      <td>-1.237391</td>\n",
       "      <td>-0.635213</td>\n",
       "      <td>-0.774135</td>\n",
       "      <td>0.648827</td>\n",
       "      <td>1</td>\n",
       "      <td>...</td>\n",
       "      <td>0</td>\n",
       "      <td>0</td>\n",
       "      <td>1</td>\n",
       "      <td>0</td>\n",
       "      <td>0</td>\n",
       "      <td>0</td>\n",
       "      <td>1</td>\n",
       "      <td>0</td>\n",
       "      <td>0</td>\n",
       "      <td>0</td>\n",
       "    </tr>\n",
       "  </tbody>\n",
       "</table>\n",
       "<p>5 rows × 51 columns</p>\n",
       "</div>"
      ],
      "text/plain": [
       "   num_lab_procedures  num_medications  time_in_hospital  age  num_procedures  \\\n",
       "0           -0.097257        -1.850433         -1.138455    5       -0.783548   \n",
       "1            0.820652         0.249657         -0.464686   15       -0.783548   \n",
       "2           -1.627106        -0.368016         -0.801570   25        2.152858   \n",
       "3            0.055727         0.002588         -0.801570   35       -0.196267   \n",
       "4            0.412692        -0.985690         -1.138455   45       -0.783548   \n",
       "\n",
       "   number_diagnoses  number_inpatient  service_utilization  \\\n",
       "0         -3.298205         -0.635213            -0.774135   \n",
       "1          0.823423         -0.635213            -0.774135   \n",
       "2         -0.722187          0.724104             1.319347   \n",
       "3         -0.206984         -0.635213            -0.774135   \n",
       "4         -1.237391         -0.635213            -0.774135   \n",
       "\n",
       "   admission_source_id  gender  ...  diag_1_others  glipizide_No  \\\n",
       "0            -1.431088       0  ...              0             1   \n",
       "1             0.648827       0  ...              0             1   \n",
       "2             0.648827       0  ...              1             0   \n",
       "3             0.648827       1  ...              0             1   \n",
       "4             0.648827       1  ...              0             0   \n",
       "\n",
       "   glipizide_Steady  payer_code_SP  insulin_Up  \\\n",
       "0                 0              0           0   \n",
       "1                 0              0           1   \n",
       "2                 1              0           0   \n",
       "3                 0              0           1   \n",
       "4                 1              0           0   \n",
       "\n",
       "   medical_specialty_Emergency/Trauma  metformin_No  metformin_Steady  \\\n",
       "0                                   0             1                 0   \n",
       "1                                   0             1                 0   \n",
       "2                                   0             1                 0   \n",
       "3                                   0             1                 0   \n",
       "4                                   0             1                 0   \n",
       "\n",
       "   payer_code_MD  readmitted  \n",
       "0              0           0  \n",
       "1              0           0  \n",
       "2              0           0  \n",
       "3              0           0  \n",
       "4              0           0  \n",
       "\n",
       "[5 rows x 51 columns]"
      ]
     },
     "execution_count": 9,
     "metadata": {},
     "output_type": "execute_result"
    }
   ],
   "source": [
    "data.head()"
   ]
  },
  {
   "cell_type": "code",
   "execution_count": 10,
   "metadata": {},
   "outputs": [],
   "source": [
    "# SMOTE balancing technique is applied\n",
    "from imblearn.over_sampling import SMOTE\n",
    "# Importing test_train_split from sklearn library\n",
    "from sklearn.model_selection import train_test_split\n",
    "\n",
    "# get the predictors and target variable from dataset\n",
    "X = data.drop('readmitted', axis=1)\n",
    "y = data['readmitted']\n",
    "oversample = SMOTE()\n",
    "\n",
    "# Splitting the data into train and test\n",
    "X_train, X_test, y_train, y_test = train_test_split(X, y, test_size=0.20, random_state=101, stratify=y)\n"
   ]
  },
  {
   "cell_type": "code",
   "execution_count": 11,
   "metadata": {},
   "outputs": [
    {
     "data": {
      "text/plain": [
       "0    70421\n",
       "1     9051\n",
       "Name: readmitted, dtype: int64"
      ]
     },
     "execution_count": 11,
     "metadata": {},
     "output_type": "execute_result"
    }
   ],
   "source": [
    "y_train.value_counts()"
   ]
  },
  {
   "cell_type": "code",
   "execution_count": 12,
   "metadata": {},
   "outputs": [
    {
     "data": {
      "text/plain": [
       "<matplotlib.legend.Legend at 0x7fc880697c40>"
      ]
     },
     "execution_count": 12,
     "metadata": {},
     "output_type": "execute_result"
    },
    {
     "data": {
      "image/png": "[encoded data removed]",
      "text/plain": [
       "<Figure size 432x432 with 1 Axes>"
      ]
     },
     "metadata": {
      "needs_background": "light"
     },
     "output_type": "display_data"
    }
   ],
   "source": [
    "from collections import Counter\n",
    "import numpy as np\n",
    "\n",
    "X_train_1 = X_train.to_numpy()[np.where(y_train==1)]\n",
    "X_train_0 = X_train.to_numpy()[np.where(y_train==0)]\n",
    "\n",
    "plt.rcParams['figure.figsize'] = [6, 6]\n",
    "fig = plt.figure()\n",
    "plt.scatter(X_train_1[:, 0], X_train_1[:, 1], label='Actual Class-1 Examples')\n",
    "plt.scatter(X_train_0[:X_train_1.shape[0], 0], X_train_0[:X_train_1.shape[0], 1], label='Actual Class-0 Examples')\n",
    "plt.legend()"
   ]
  },
  {
   "cell_type": "code",
   "execution_count": 16,
   "metadata": {},
   "outputs": [],
   "source": [
    "X_train, y_train = oversample.fit_resample(X_train, y_train)"
   ]
  },
  {
   "cell_type": "code",
   "execution_count": 17,
   "metadata": {},
   "outputs": [
    {
     "data": {
      "text/plain": [
       "1    70421\n",
       "0    70421\n",
       "Name: readmitted, dtype: int64"
      ]
     },
     "execution_count": 17,
     "metadata": {},
     "output_type": "execute_result"
    }
   ],
   "source": [
    "y_train.value_counts()"
   ]
  },
  {
   "cell_type": "code",
   "execution_count": 15,
   "metadata": {},
   "outputs": [
    {
     "data": {
      "text/plain": [
       "<matplotlib.legend.Legend at 0x7fc8408c5d30>"
      ]
     },
     "execution_count": 15,
     "metadata": {},
     "output_type": "execute_result"
    },
    {
     "data": {
      "image/png": "[encoded data removed]",
      "text/plain": [
       "<Figure size 432x432 with 1 Axes>"
      ]
     },
     "metadata": {
      "needs_background": "light"
     },
     "output_type": "display_data"
    }
   ],
   "source": [
    "from collections import Counter\n",
    "import numpy as np\n",
    "\n",
    "X_train_1 = X_train.to_numpy()[np.where(y_train==1)]\n",
    "X_train_0 = X_train.to_numpy()[np.where(y_train==0)]\n",
    "\n",
    "plt.rcParams['figure.figsize'] = [6, 6]\n",
    "fig = plt.figure()\n",
    "plt.scatter(X_train_1[:, 0], X_train_1[:, 1], label='Sampled Class-1 Examples')\n",
    "plt.scatter(X_train_0[:X_train_1.shape[0], 0], X_train_0[:X_train_1.shape[0], 1], label='Sampled Class-0 Examples')\n",
    "plt.legend()"
   ]
  },
  {
   "cell_type": "code",
   "execution_count": 18,
   "metadata": {},
   "outputs": [],
   "source": [
    "# Random Forest\n",
    "\n",
    "# Let's first fit a random forest model with default hyperparameters.\n",
    "# Importing random forest classifier from sklearn library\n",
    "from sklearn.ensemble import RandomForestClassifier\n",
    "# Importing classification report and confusion matrix from sklearn metrics\n",
    "from sklearn.metrics import classification_report, confusion_matrix, accuracy_score"
   ]
  },
  {
   "cell_type": "code",
   "execution_count": 19,
   "metadata": {},
   "outputs": [],
   "source": [
    "# Running the random forest with default parameters.\n",
    "rfc = RandomForestClassifier()"
   ]
  },
  {
   "cell_type": "code",
   "execution_count": 20,
   "metadata": {},
   "outputs": [
    {
     "data": {
      "text/plain": [
       "RandomForestClassifier()"
      ]
     },
     "execution_count": 20,
     "metadata": {},
     "output_type": "execute_result"
    }
   ],
   "source": [
    "# fit the model\n",
    "rfc.fit(X_train, y_train)"
   ]
  },
  {
   "cell_type": "code",
   "execution_count": 21,
   "metadata": {},
   "outputs": [],
   "source": [
    "# predict\n",
    "predictions = rfc.predict(X_test)"
   ]
  },
  {
   "cell_type": "code",
   "execution_count": 22,
   "metadata": {},
   "outputs": [
    {
     "name": "stdout",
     "output_type": "stream",
     "text": [
      "[[17386   219]\n",
      " [ 2178    85]]\n"
     ]
    }
   ],
   "source": [
    "# Printing confusion matrix\n",
    "print(confusion_matrix(y_test,predictions))"
   ]
  },
  {
   "cell_type": "code",
   "execution_count": 23,
   "metadata": {},
   "outputs": [
    {
     "name": "stdout",
     "output_type": "stream",
     "text": [
      "0.8793537346486813\n"
     ]
    }
   ],
   "source": [
    "print(accuracy_score(y_test,predictions))"
   ]
  },
  {
   "cell_type": "code",
   "execution_count": 24,
   "metadata": {},
   "outputs": [
    {
     "name": "stdout",
     "output_type": "stream",
     "text": [
      "              precision    recall  f1-score   support\n",
      "\n",
      "           0       0.89      0.99      0.94     17605\n",
      "           1       0.28      0.04      0.07      2263\n",
      "\n",
      "    accuracy                           0.88     19868\n",
      "   macro avg       0.58      0.51      0.50     19868\n",
      "weighted avg       0.82      0.88      0.84     19868\n",
      "\n"
     ]
    }
   ],
   "source": [
    "# Let's check the report of our default model\n",
    "print(classification_report(y_test,predictions))"
   ]
  },
  {
   "cell_type": "code",
   "execution_count": 25,
   "metadata": {},
   "outputs": [],
   "source": [
    "from sklearn.model_selection import RandomizedSearchCV"
   ]
  },
  {
   "cell_type": "code",
   "execution_count": 26,
   "metadata": {},
   "outputs": [
    {
     "name": "stdout",
     "output_type": "stream",
     "text": [
      "Fitting 5 folds for each of 10 candidates, totalling 50 fits\n",
      "{'n_estimators': 500, 'min_samples_split': 400, 'min_samples_leaf': 150, 'max_features': 20, 'max_depth': 17}\n"
     ]
    }
   ],
   "source": [
    "# specify number of folds for k-fold CV\n",
    "n_folds = 5\n",
    "\n",
    "# parameters to build the model on\n",
    "param_grid = {'max_features': [4, 8, 14, 20],\n",
    "             'n_estimators': range(100, 1500, 400),\n",
    "             'max_depth': range(2, 20, 5),\n",
    "             'min_samples_leaf': range(100, 400, 50),\n",
    "             'min_samples_split': range(200, 500, 50),\n",
    "             }\n",
    "# instantiate the model \n",
    "rf = RandomForestClassifier()\n",
    "\n",
    "\n",
    "# fit tree on training data\n",
    "rf = RandomizedSearchCV(rf, param_grid, \n",
    "                  cv=n_folds, \n",
    "                  scoring=\"accuracy\",\n",
    "                  return_train_score=True,\n",
    "                  n_jobs = -1,verbose = 1)\n",
    "rf.fit(X_train, y_train)\n",
    "\n",
    "best_parameters = rf.best_params_\n",
    "print(best_parameters)"
   ]
  },
  {
   "cell_type": "code",
   "execution_count": 27,
   "metadata": {},
   "outputs": [
    {
     "data": {
      "text/html": [
       "<div>\n",
       "<style scoped>\n",
       "    .dataframe tbody tr th:only-of-type {\n",
       "        vertical-align: middle;\n",
       "    }\n",
       "\n",
       "    .dataframe tbody tr th {\n",
       "        vertical-align: top;\n",
       "    }\n",
       "\n",
       "    .dataframe thead th {\n",
       "        text-align: right;\n",
       "    }\n",
       "</style>\n",
       "<table border=\"1\" class=\"dataframe\">\n",
       "  <thead>\n",
       "    <tr style=\"text-align: right;\">\n",
       "      <th></th>\n",
       "      <th>mean_fit_time</th>\n",
       "      <th>std_fit_time</th>\n",
       "      <th>mean_score_time</th>\n",
       "      <th>std_score_time</th>\n",
       "      <th>param_n_estimators</th>\n",
       "      <th>param_min_samples_split</th>\n",
       "      <th>param_min_samples_leaf</th>\n",
       "      <th>param_max_features</th>\n",
       "      <th>param_max_depth</th>\n",
       "      <th>params</th>\n",
       "      <th>...</th>\n",
       "      <th>mean_test_score</th>\n",
       "      <th>std_test_score</th>\n",
       "      <th>rank_test_score</th>\n",
       "      <th>split0_train_score</th>\n",
       "      <th>split1_train_score</th>\n",
       "      <th>split2_train_score</th>\n",
       "      <th>split3_train_score</th>\n",
       "      <th>split4_train_score</th>\n",
       "      <th>mean_train_score</th>\n",
       "      <th>std_train_score</th>\n",
       "    </tr>\n",
       "  </thead>\n",
       "  <tbody>\n",
       "    <tr>\n",
       "      <th>0</th>\n",
       "      <td>252.560687</td>\n",
       "      <td>1.485736</td>\n",
       "      <td>7.979145</td>\n",
       "      <td>0.093962</td>\n",
       "      <td>1300</td>\n",
       "      <td>300</td>\n",
       "      <td>200</td>\n",
       "      <td>4</td>\n",
       "      <td>7</td>\n",
       "      <td>{'n_estimators': 1300, 'min_samples_split': 30...</td>\n",
       "      <td>...</td>\n",
       "      <td>0.804086</td>\n",
       "      <td>0.069208</td>\n",
       "      <td>6</td>\n",
       "      <td>0.859807</td>\n",
       "      <td>0.799641</td>\n",
       "      <td>0.799874</td>\n",
       "      <td>0.796315</td>\n",
       "      <td>0.797886</td>\n",
       "      <td>0.810705</td>\n",
       "      <td>0.024585</td>\n",
       "    </tr>\n",
       "    <tr>\n",
       "      <th>1</th>\n",
       "      <td>153.775106</td>\n",
       "      <td>1.418453</td>\n",
       "      <td>3.052321</td>\n",
       "      <td>0.047506</td>\n",
       "      <td>500</td>\n",
       "      <td>350</td>\n",
       "      <td>300</td>\n",
       "      <td>8</td>\n",
       "      <td>7</td>\n",
       "      <td>{'n_estimators': 500, 'min_samples_split': 350...</td>\n",
       "      <td>...</td>\n",
       "      <td>0.791831</td>\n",
       "      <td>0.065694</td>\n",
       "      <td>9</td>\n",
       "      <td>0.848722</td>\n",
       "      <td>0.788752</td>\n",
       "      <td>0.788239</td>\n",
       "      <td>0.787067</td>\n",
       "      <td>0.785638</td>\n",
       "      <td>0.799683</td>\n",
       "      <td>0.024542</td>\n",
       "    </tr>\n",
       "    <tr>\n",
       "      <th>2</th>\n",
       "      <td>428.433719</td>\n",
       "      <td>5.365851</td>\n",
       "      <td>4.149344</td>\n",
       "      <td>0.072758</td>\n",
       "      <td>500</td>\n",
       "      <td>400</td>\n",
       "      <td>150</td>\n",
       "      <td>20</td>\n",
       "      <td>17</td>\n",
       "      <td>{'n_estimators': 500, 'min_samples_split': 400...</td>\n",
       "      <td>...</td>\n",
       "      <td>0.861974</td>\n",
       "      <td>0.100324</td>\n",
       "      <td>1</td>\n",
       "      <td>0.911363</td>\n",
       "      <td>0.858076</td>\n",
       "      <td>0.856773</td>\n",
       "      <td>0.857465</td>\n",
       "      <td>0.856790</td>\n",
       "      <td>0.868093</td>\n",
       "      <td>0.021640</td>\n",
       "    </tr>\n",
       "    <tr>\n",
       "      <th>3</th>\n",
       "      <td>377.307285</td>\n",
       "      <td>5.683086</td>\n",
       "      <td>7.620578</td>\n",
       "      <td>0.576646</td>\n",
       "      <td>900</td>\n",
       "      <td>250</td>\n",
       "      <td>100</td>\n",
       "      <td>8</td>\n",
       "      <td>12</td>\n",
       "      <td>{'n_estimators': 900, 'min_samples_split': 250...</td>\n",
       "      <td>...</td>\n",
       "      <td>0.852957</td>\n",
       "      <td>0.093787</td>\n",
       "      <td>3</td>\n",
       "      <td>0.910191</td>\n",
       "      <td>0.850026</td>\n",
       "      <td>0.849167</td>\n",
       "      <td>0.847986</td>\n",
       "      <td>0.849033</td>\n",
       "      <td>0.861281</td>\n",
       "      <td>0.024464</td>\n",
       "    </tr>\n",
       "    <tr>\n",
       "      <th>4</th>\n",
       "      <td>46.247614</td>\n",
       "      <td>1.363003</td>\n",
       "      <td>0.659670</td>\n",
       "      <td>0.027342</td>\n",
       "      <td>100</td>\n",
       "      <td>300</td>\n",
       "      <td>150</td>\n",
       "      <td>14</td>\n",
       "      <td>7</td>\n",
       "      <td>{'n_estimators': 100, 'min_samples_split': 300...</td>\n",
       "      <td>...</td>\n",
       "      <td>0.803405</td>\n",
       "      <td>0.075199</td>\n",
       "      <td>7</td>\n",
       "      <td>0.853168</td>\n",
       "      <td>0.793092</td>\n",
       "      <td>0.801498</td>\n",
       "      <td>0.802608</td>\n",
       "      <td>0.801880</td>\n",
       "      <td>0.810449</td>\n",
       "      <td>0.021639</td>\n",
       "    </tr>\n",
       "  </tbody>\n",
       "</table>\n",
       "<p>5 rows × 25 columns</p>\n",
       "</div>"
      ],
      "text/plain": [
       "   mean_fit_time  std_fit_time  mean_score_time  std_score_time  \\\n",
       "0     252.560687      1.485736         7.979145        0.093962   \n",
       "1     153.775106      1.418453         3.052321        0.047506   \n",
       "2     428.433719      5.365851         4.149344        0.072758   \n",
       "3     377.307285      5.683086         7.620578        0.576646   \n",
       "4      46.247614      1.363003         0.659670        0.027342   \n",
       "\n",
       "  param_n_estimators param_min_samples_split param_min_samples_leaf  \\\n",
       "0               1300                     300                    200   \n",
       "1                500                     350                    300   \n",
       "2                500                     400                    150   \n",
       "3                900                     250                    100   \n",
       "4                100                     300                    150   \n",
       "\n",
       "  param_max_features param_max_depth  \\\n",
       "0                  4               7   \n",
       "1                  8               7   \n",
       "2                 20              17   \n",
       "3                  8              12   \n",
       "4                 14               7   \n",
       "\n",
       "                                              params  ...  mean_test_score  \\\n",
       "0  {'n_estimators': 1300, 'min_samples_split': 30...  ...         0.804086   \n",
       "1  {'n_estimators': 500, 'min_samples_split': 350...  ...         0.791831   \n",
       "2  {'n_estimators': 500, 'min_samples_split': 400...  ...         0.861974   \n",
       "3  {'n_estimators': 900, 'min_samples_split': 250...  ...         0.852957   \n",
       "4  {'n_estimators': 100, 'min_samples_split': 300...  ...         0.803405   \n",
       "\n",
       "   std_test_score  rank_test_score  split0_train_score  split1_train_score  \\\n",
       "0        0.069208                6            0.859807            0.799641   \n",
       "1        0.065694                9            0.848722            0.788752   \n",
       "2        0.100324                1            0.911363            0.858076   \n",
       "3        0.093787                3            0.910191            0.850026   \n",
       "4        0.075199                7            0.853168            0.793092   \n",
       "\n",
       "   split2_train_score  split3_train_score  split4_train_score  \\\n",
       "0            0.799874            0.796315            0.797886   \n",
       "1            0.788239            0.787067            0.785638   \n",
       "2            0.856773            0.857465            0.856790   \n",
       "3            0.849167            0.847986            0.849033   \n",
       "4            0.801498            0.802608            0.801880   \n",
       "\n",
       "   mean_train_score  std_train_score  \n",
       "0          0.810705         0.024585  \n",
       "1          0.799683         0.024542  \n",
       "2          0.868093         0.021640  \n",
       "3          0.861281         0.024464  \n",
       "4          0.810449         0.021639  \n",
       "\n",
       "[5 rows x 25 columns]"
      ]
     },
     "execution_count": 27,
     "metadata": {},
     "output_type": "execute_result"
    }
   ],
   "source": [
    "scores = rf.cv_results_\n",
    "pd.DataFrame(scores).head()"
   ]
  },
  {
   "cell_type": "code",
   "execution_count": 28,
   "metadata": {},
   "outputs": [
    {
     "name": "stdout",
     "output_type": "stream",
     "text": [
      "{'n_estimators': 500, 'min_samples_split': 400, 'min_samples_leaf': 150, 'max_features': 20, 'max_depth': 17}\n"
     ]
    }
   ],
   "source": [
    "# Get the best parameters\n",
    "best_parameters = rf.best_params_\n",
    "print(best_parameters)"
   ]
  },
  {
   "cell_type": "code",
   "execution_count": 29,
   "metadata": {},
   "outputs": [],
   "source": [
    "# Build the Random Forest with the best_parameters\n",
    "rf_best = RandomForestClassifier(n_estimators=best_parameters['n_estimators'],\n",
    "                                 min_samples_split=best_parameters['min_samples_split'],\n",
    "                                 min_samples_leaf=best_parameters['min_samples_leaf'],\n",
    "                                 max_features=best_parameters['max_features'],\n",
    "                                 max_depth=best_parameters['max_depth'],\n",
    "                                 criterion='gini')\n",
    "# fit the model\n",
    "rf_best.fit(X_train, y_train)\n",
    "\n",
    "# predict\n",
    "best_predictions = rf_best.predict(X_test)"
   ]
  },
  {
   "cell_type": "code",
   "execution_count": 30,
   "metadata": {},
   "outputs": [
    {
     "name": "stdout",
     "output_type": "stream",
     "text": [
      "              precision    recall  f1-score   support\n",
      "\n",
      "           0       0.89      0.95      0.92     17605\n",
      "           1       0.25      0.13      0.17      2263\n",
      "\n",
      "    accuracy                           0.86     19868\n",
      "   macro avg       0.57      0.54      0.54     19868\n",
      "weighted avg       0.82      0.86      0.84     19868\n",
      "\n"
     ]
    }
   ],
   "source": [
    "# evaluation metrics\n",
    "print(classification_report(y_test,best_predictions))"
   ]
  },
  {
   "cell_type": "code",
   "execution_count": 31,
   "metadata": {},
   "outputs": [
    {
     "name": "stdout",
     "output_type": "stream",
     "text": [
      "Accuracy_score:  0.85761022750151\n",
      "AUC_accu = 0.5386076947820055\n",
      "Precision_score =  0.25044091710758376\n",
      "recall_score =  0.1254971277065842\n"
     ]
    }
   ],
   "source": [
    "# Let's check the overall accuracy over the test dataset\n",
    "from sklearn import metrics\n",
    "from sklearn.metrics import precision_score, recall_score\n",
    "print(\"Accuracy_score: \", metrics.accuracy_score(y_test, best_predictions))\n",
    "\n",
    "print(\"AUC_accu =\", metrics.roc_auc_score(y_test, best_predictions ))\n",
    "print(\"Precision_score = \",precision_score(y_test, best_predictions))\n",
    "print(\"recall_score = \",recall_score(y_test, best_predictions))\n"
   ]
  },
  {
   "cell_type": "code",
   "execution_count": 32,
   "metadata": {},
   "outputs": [
    {
     "name": "stdout",
     "output_type": "stream",
     "text": [
      "Validation AUC Accuracy=  0.8652390666397679\n",
      "Validation Accuracy=  0.8652390500719533\n"
     ]
    },
    {
     "data": {
      "text/plain": [
       "<matplotlib.legend.Legend at 0x7fc8407536a0>"
      ]
     },
     "execution_count": 32,
     "metadata": {},
     "output_type": "execute_result"
    },
    {
     "data": {
      "image/png": "[encoded data removed]",
      "text/plain": [
       "<Figure size 432x432 with 1 Axes>"
      ]
     },
     "metadata": {
      "needs_background": "light"
     },
     "output_type": "display_data"
    }
   ],
   "source": [
    "# validate the model using kfold cross validation\n",
    "from sklearn.model_selection import StratifiedKFold\n",
    "from sklearn import metrics\n",
    "\n",
    "y_train_skf = y_train.values\n",
    "X_train_skf = X_train.values\n",
    "train_score = []\n",
    "test_score = []\n",
    "splits=5\n",
    "folds=range(1,splits+1)\n",
    "val_auc_score = 0.0\n",
    "val_accracy_score = 0.0\n",
    "skf = StratifiedKFold(n_splits=splits, shuffle=True)\n",
    "for train_index, test_index in skf.split(X_train_skf, y_train_skf):\n",
    "    X_train_cv, y_train_cv = X_train_skf[train_index], y_train_skf[train_index]\n",
    "    X_test_cv, y_test_cv = X_train_skf[test_index], y_train_skf[test_index]\n",
    "    rf_val = RandomForestClassifier(n_estimators=best_parameters['n_estimators'],\n",
    "                                 min_samples_split=best_parameters['min_samples_split'],\n",
    "                                 min_samples_leaf=best_parameters['min_samples_leaf'],\n",
    "                                 max_features=best_parameters['max_features'],\n",
    "                                 max_depth=best_parameters['max_depth'],\n",
    "                                 criterion='gini')\n",
    "    rf_val.fit(X_train_cv,y_train_cv)\n",
    "    y_test_cv_predict = rf_val.predict(X_test_cv)\n",
    "    val_auc_score += metrics.roc_auc_score(y_test_cv, y_test_cv_predict)\n",
    "    val_accracy_score += metrics.accuracy_score(y_test_cv, y_test_cv_predict)\n",
    "    train_score.append(rf_val.score(X_train_cv,y_train_cv))\n",
    "    test_score.append(rf_val.score(X_test_cv,y_test_cv))\n",
    "\n",
    "print(\"Validation AUC Accuracy= \", val_auc_score/splits)\n",
    "print(\"Validation Accuracy= \", val_accracy_score/splits) \n",
    "plt.plot(folds,train_score,label= 'Accuracy on training set')\n",
    "plt.plot(folds,test_score,label= 'Accuracy on validation set')\n",
    "plt.xlabel('K fold RandomForest')\n",
    "plt.ylabel('Accuracy')\n",
    "plt.legend()"
   ]
  },
  {
   "cell_type": "code",
   "execution_count": null,
   "metadata": {},
   "outputs": [],
   "source": []
  }
 ],
 "metadata": {
  "kernelspec": {
   "display_name": "Python 3",
   "language": "python",
   "name": "python3"
  },
  "language_info": {
   "codemirror_mode": {
    "name": "ipython",
    "version": 3
   },
   "file_extension": ".py",
   "mimetype": "text/x-python",
   "name": "python",
   "nbconvert_exporter": "python",
   "pygments_lexer": "ipython3",
   "version": "3.8.5"
  }
 },
 "nbformat": 4,
 "nbformat_minor": 4
}
